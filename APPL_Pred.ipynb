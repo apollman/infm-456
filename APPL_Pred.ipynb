{
 "cells": [
  {
   "cell_type": "code",
   "execution_count": 1,
   "id": "51f1e39e",
   "metadata": {},
   "outputs": [],
   "source": [
    "import pandas as pd\n",
    "import numpy as np\n",
    "import matplotlib.pyplot as plt\n",
    "import seaborn as sb\n",
    "import scipy.stats as stat\n",
    "import plotly.express as py\n",
    "import plotly.graph_objects as go\n",
    "from plotly.subplots import make_subplots\n",
    "from sklearn.preprocessing import MinMaxScaler\n",
    "from sklearn.model_selection import TimeSeriesSplit"
   ]
  },
  {
   "cell_type": "code",
   "execution_count": 2,
   "id": "55968a48",
   "metadata": {},
   "outputs": [
    {
     "name": "stdout",
     "output_type": "stream",
     "text": [
      "Requirement already satisfied: keras in /Users/Angela/opt/anaconda3/lib/python3.9/site-packages (2.8.0)\n",
      "Note: you may need to restart the kernel to use updated packages.\n"
     ]
    }
   ],
   "source": [
    "pip install keras "
   ]
  },
  {
   "cell_type": "code",
   "execution_count": 3,
   "id": "34b4ae16",
   "metadata": {},
   "outputs": [
    {
     "name": "stdout",
     "output_type": "stream",
     "text": [
      "Requirement already satisfied: tensorflow in /Users/Angela/opt/anaconda3/lib/python3.9/site-packages (2.8.0)\n",
      "Requirement already satisfied: numpy>=1.20 in /Users/Angela/opt/anaconda3/lib/python3.9/site-packages (from tensorflow) (1.20.3)\n",
      "Requirement already satisfied: protobuf>=3.9.2 in /Users/Angela/opt/anaconda3/lib/python3.9/site-packages (from tensorflow) (3.20.0)\n",
      "Requirement already satisfied: opt-einsum>=2.3.2 in /Users/Angela/opt/anaconda3/lib/python3.9/site-packages (from tensorflow) (3.3.0)\n",
      "Requirement already satisfied: typing-extensions>=3.6.6 in /Users/Angela/opt/anaconda3/lib/python3.9/site-packages (from tensorflow) (3.10.0.2)\n",
      "Requirement already satisfied: keras<2.9,>=2.8.0rc0 in /Users/Angela/opt/anaconda3/lib/python3.9/site-packages (from tensorflow) (2.8.0)\n",
      "Requirement already satisfied: tf-estimator-nightly==2.8.0.dev2021122109 in /Users/Angela/opt/anaconda3/lib/python3.9/site-packages (from tensorflow) (2.8.0.dev2021122109)\n",
      "Requirement already satisfied: tensorflow-io-gcs-filesystem>=0.23.1 in /Users/Angela/opt/anaconda3/lib/python3.9/site-packages (from tensorflow) (0.24.0)\n",
      "Requirement already satisfied: h5py>=2.9.0 in /Users/Angela/opt/anaconda3/lib/python3.9/site-packages (from tensorflow) (3.2.1)\n",
      "Requirement already satisfied: astunparse>=1.6.0 in /Users/Angela/opt/anaconda3/lib/python3.9/site-packages (from tensorflow) (1.6.3)\n",
      "Requirement already satisfied: grpcio<2.0,>=1.24.3 in /Users/Angela/opt/anaconda3/lib/python3.9/site-packages (from tensorflow) (1.44.0)\n",
      "Requirement already satisfied: flatbuffers>=1.12 in /Users/Angela/opt/anaconda3/lib/python3.9/site-packages (from tensorflow) (2.0)\n",
      "Requirement already satisfied: absl-py>=0.4.0 in /Users/Angela/opt/anaconda3/lib/python3.9/site-packages (from tensorflow) (1.0.0)\n",
      "Requirement already satisfied: gast>=0.2.1 in /Users/Angela/opt/anaconda3/lib/python3.9/site-packages (from tensorflow) (0.5.3)\n",
      "Requirement already satisfied: tensorboard<2.9,>=2.8 in /Users/Angela/opt/anaconda3/lib/python3.9/site-packages (from tensorflow) (2.8.0)\n",
      "Requirement already satisfied: setuptools in /Users/Angela/opt/anaconda3/lib/python3.9/site-packages (from tensorflow) (58.0.4)\n",
      "Requirement already satisfied: termcolor>=1.1.0 in /Users/Angela/opt/anaconda3/lib/python3.9/site-packages (from tensorflow) (1.1.0)\n",
      "Requirement already satisfied: keras-preprocessing>=1.1.1 in /Users/Angela/opt/anaconda3/lib/python3.9/site-packages (from tensorflow) (1.1.2)\n",
      "Requirement already satisfied: wrapt>=1.11.0 in /Users/Angela/opt/anaconda3/lib/python3.9/site-packages (from tensorflow) (1.12.1)\n",
      "Requirement already satisfied: google-pasta>=0.1.1 in /Users/Angela/opt/anaconda3/lib/python3.9/site-packages (from tensorflow) (0.2.0)\n",
      "Requirement already satisfied: libclang>=9.0.1 in /Users/Angela/opt/anaconda3/lib/python3.9/site-packages (from tensorflow) (13.0.0)\n",
      "Requirement already satisfied: six>=1.12.0 in /Users/Angela/opt/anaconda3/lib/python3.9/site-packages (from tensorflow) (1.16.0)\n",
      "Requirement already satisfied: wheel<1.0,>=0.23.0 in /Users/Angela/opt/anaconda3/lib/python3.9/site-packages (from astunparse>=1.6.0->tensorflow) (0.37.0)\n",
      "Requirement already satisfied: google-auth-oauthlib<0.5,>=0.4.1 in /Users/Angela/opt/anaconda3/lib/python3.9/site-packages (from tensorboard<2.9,>=2.8->tensorflow) (0.4.6)\n",
      "Requirement already satisfied: tensorboard-plugin-wit>=1.6.0 in /Users/Angela/opt/anaconda3/lib/python3.9/site-packages (from tensorboard<2.9,>=2.8->tensorflow) (1.8.1)\n",
      "Requirement already satisfied: markdown>=2.6.8 in /Users/Angela/opt/anaconda3/lib/python3.9/site-packages (from tensorboard<2.9,>=2.8->tensorflow) (3.3.6)\n",
      "Requirement already satisfied: werkzeug>=0.11.15 in /Users/Angela/opt/anaconda3/lib/python3.9/site-packages (from tensorboard<2.9,>=2.8->tensorflow) (2.0.2)\n",
      "Requirement already satisfied: tensorboard-data-server<0.7.0,>=0.6.0 in /Users/Angela/opt/anaconda3/lib/python3.9/site-packages (from tensorboard<2.9,>=2.8->tensorflow) (0.6.1)\n",
      "Requirement already satisfied: requests<3,>=2.21.0 in /Users/Angela/opt/anaconda3/lib/python3.9/site-packages (from tensorboard<2.9,>=2.8->tensorflow) (2.26.0)\n",
      "Requirement already satisfied: google-auth<3,>=1.6.3 in /Users/Angela/opt/anaconda3/lib/python3.9/site-packages (from tensorboard<2.9,>=2.8->tensorflow) (2.6.2)\n",
      "Requirement already satisfied: pyasn1-modules>=0.2.1 in /Users/Angela/opt/anaconda3/lib/python3.9/site-packages (from google-auth<3,>=1.6.3->tensorboard<2.9,>=2.8->tensorflow) (0.2.8)\n",
      "Requirement already satisfied: rsa<5,>=3.1.4 in /Users/Angela/opt/anaconda3/lib/python3.9/site-packages (from google-auth<3,>=1.6.3->tensorboard<2.9,>=2.8->tensorflow) (4.8)\n",
      "Requirement already satisfied: cachetools<6.0,>=2.0.0 in /Users/Angela/opt/anaconda3/lib/python3.9/site-packages (from google-auth<3,>=1.6.3->tensorboard<2.9,>=2.8->tensorflow) (5.0.0)\n",
      "Requirement already satisfied: requests-oauthlib>=0.7.0 in /Users/Angela/opt/anaconda3/lib/python3.9/site-packages (from google-auth-oauthlib<0.5,>=0.4.1->tensorboard<2.9,>=2.8->tensorflow) (1.3.1)\n",
      "Requirement already satisfied: importlib-metadata>=4.4 in /Users/Angela/opt/anaconda3/lib/python3.9/site-packages (from markdown>=2.6.8->tensorboard<2.9,>=2.8->tensorflow) (4.8.1)\n",
      "Requirement already satisfied: zipp>=0.5 in /Users/Angela/opt/anaconda3/lib/python3.9/site-packages (from importlib-metadata>=4.4->markdown>=2.6.8->tensorboard<2.9,>=2.8->tensorflow) (3.6.0)\n",
      "Requirement already satisfied: pyasn1<0.5.0,>=0.4.6 in /Users/Angela/opt/anaconda3/lib/python3.9/site-packages (from pyasn1-modules>=0.2.1->google-auth<3,>=1.6.3->tensorboard<2.9,>=2.8->tensorflow) (0.4.8)\n",
      "Requirement already satisfied: idna<4,>=2.5 in /Users/Angela/opt/anaconda3/lib/python3.9/site-packages (from requests<3,>=2.21.0->tensorboard<2.9,>=2.8->tensorflow) (3.2)\n",
      "Requirement already satisfied: certifi>=2017.4.17 in /Users/Angela/opt/anaconda3/lib/python3.9/site-packages (from requests<3,>=2.21.0->tensorboard<2.9,>=2.8->tensorflow) (2021.10.8)\n",
      "Requirement already satisfied: charset-normalizer~=2.0.0 in /Users/Angela/opt/anaconda3/lib/python3.9/site-packages (from requests<3,>=2.21.0->tensorboard<2.9,>=2.8->tensorflow) (2.0.4)\n",
      "Requirement already satisfied: urllib3<1.27,>=1.21.1 in /Users/Angela/opt/anaconda3/lib/python3.9/site-packages (from requests<3,>=2.21.0->tensorboard<2.9,>=2.8->tensorflow) (1.26.7)\n",
      "Requirement already satisfied: oauthlib>=3.0.0 in /Users/Angela/opt/anaconda3/lib/python3.9/site-packages (from requests-oauthlib>=0.7.0->google-auth-oauthlib<0.5,>=0.4.1->tensorboard<2.9,>=2.8->tensorflow) (3.2.0)\n",
      "Note: you may need to restart the kernel to use updated packages.\n"
     ]
    }
   ],
   "source": [
    "pip install tensorflow"
   ]
  },
  {
   "cell_type": "code",
   "execution_count": null,
   "id": "857bc372",
   "metadata": {},
   "outputs": [],
   "source": [
    "from keras.models import Sequential\n",
    "from keras.layers import LSTM\n",
    "from keras.layers import Dense\n",
    "from keras.layers import Dropout"
   ]
  },
  {
   "cell_type": "code",
   "execution_count": 3,
   "id": "2e6bb96c",
   "metadata": {},
   "outputs": [],
   "source": [
    "companies = pd.read_csv(\"sp500_companies.csv\")\n",
    "stocks = pd.read_csv(\"sp500_stocks.csv\")"
   ]
  },
  {
   "cell_type": "code",
   "execution_count": 4,
   "id": "507854e3",
   "metadata": {},
   "outputs": [],
   "source": [
    "compwh= pd.read_csv(\"sp500_companies.csv\", header= None, engine='python' )\n",
    "compwh = compwh.iloc[1: , :]\n",
    "\n",
    "c_headers=[\"Exchange\", \"Symbol\", \"Shortname\", \"Longname\", \"Sector\", \"Industry\",\n",
    "       \"Currentprice\", \"Marketcap\", \"Ebitda\", \"Revenuegrowth\", \"City\", \"State\",\n",
    "      \"Country\", \"Fulltimeemployees\", \"Longbusinesssummary\", \"Weight\"]\n",
    "\n",
    "compwh.columns= c_headers"
   ]
  },
  {
   "cell_type": "code",
   "execution_count": 5,
   "id": "050abeb5",
   "metadata": {},
   "outputs": [
    {
     "data": {
      "text/html": [
       "<div>\n",
       "<style scoped>\n",
       "    .dataframe tbody tr th:only-of-type {\n",
       "        vertical-align: middle;\n",
       "    }\n",
       "\n",
       "    .dataframe tbody tr th {\n",
       "        vertical-align: top;\n",
       "    }\n",
       "\n",
       "    .dataframe thead th {\n",
       "        text-align: right;\n",
       "    }\n",
       "</style>\n",
       "<table border=\"1\" class=\"dataframe\">\n",
       "  <thead>\n",
       "    <tr style=\"text-align: right;\">\n",
       "      <th></th>\n",
       "      <th>Exchange</th>\n",
       "      <th>Symbol</th>\n",
       "      <th>Shortname</th>\n",
       "      <th>Longname</th>\n",
       "      <th>Sector</th>\n",
       "      <th>Industry</th>\n",
       "    </tr>\n",
       "  </thead>\n",
       "  <tbody>\n",
       "    <tr>\n",
       "      <th>1</th>\n",
       "      <td>NMS</td>\n",
       "      <td>AAPL</td>\n",
       "      <td>Apple Inc.</td>\n",
       "      <td>Apple Inc.</td>\n",
       "      <td>Technology</td>\n",
       "      <td>Consumer Electronics</td>\n",
       "    </tr>\n",
       "    <tr>\n",
       "      <th>2</th>\n",
       "      <td>NMS</td>\n",
       "      <td>MSFT</td>\n",
       "      <td>Microsoft Corporation</td>\n",
       "      <td>Microsoft Corporation</td>\n",
       "      <td>Technology</td>\n",
       "      <td>Software—Infrastructure</td>\n",
       "    </tr>\n",
       "    <tr>\n",
       "      <th>3</th>\n",
       "      <td>NMS</td>\n",
       "      <td>GOOGL</td>\n",
       "      <td>Alphabet Inc.</td>\n",
       "      <td>Alphabet Inc.</td>\n",
       "      <td>Communication Services</td>\n",
       "      <td>Internet Content &amp; Information</td>\n",
       "    </tr>\n",
       "    <tr>\n",
       "      <th>4</th>\n",
       "      <td>NMS</td>\n",
       "      <td>GOOG</td>\n",
       "      <td>Alphabet Inc.</td>\n",
       "      <td>Alphabet Inc.</td>\n",
       "      <td>Communication Services</td>\n",
       "      <td>Internet Content &amp; Information</td>\n",
       "    </tr>\n",
       "    <tr>\n",
       "      <th>5</th>\n",
       "      <td>NMS</td>\n",
       "      <td>AMZN</td>\n",
       "      <td>Amazon.com, Inc.</td>\n",
       "      <td>Amazon.com, Inc.</td>\n",
       "      <td>Consumer Cyclical</td>\n",
       "      <td>Internet Retail</td>\n",
       "    </tr>\n",
       "  </tbody>\n",
       "</table>\n",
       "</div>"
      ],
      "text/plain": [
       "  Exchange Symbol              Shortname               Longname  \\\n",
       "1      NMS   AAPL             Apple Inc.             Apple Inc.   \n",
       "2      NMS   MSFT  Microsoft Corporation  Microsoft Corporation   \n",
       "3      NMS  GOOGL          Alphabet Inc.          Alphabet Inc.   \n",
       "4      NMS   GOOG          Alphabet Inc.          Alphabet Inc.   \n",
       "5      NMS   AMZN       Amazon.com, Inc.       Amazon.com, Inc.   \n",
       "\n",
       "                   Sector                        Industry  \n",
       "1              Technology            Consumer Electronics  \n",
       "2              Technology         Software—Infrastructure  \n",
       "3  Communication Services  Internet Content & Information  \n",
       "4  Communication Services  Internet Content & Information  \n",
       "5       Consumer Cyclical                 Internet Retail  "
      ]
     },
     "execution_count": 5,
     "metadata": {},
     "output_type": "execute_result"
    }
   ],
   "source": [
    "to_drop = ['Marketcap', 'Ebitda', 'Revenuegrowth', \n",
    "           'City', 'State', 'Country', \n",
    "           'Fulltimeemployees', 'Weight', 'Currentprice', \n",
    "           'Longbusinesssummary']\n",
    "compwh.drop(to_drop, inplace=True, axis=1)\n",
    "compwh.head()"
   ]
  },
  {
   "cell_type": "code",
   "execution_count": 6,
   "id": "ff599f00",
   "metadata": {},
   "outputs": [],
   "source": [
    "stckwh = pd.read_csv(\"sp500_stocks.csv\", header= None, engine='python')\n",
    "stckwh = stckwh.iloc[1: , :]\n",
    "s_headers = ['Date', 'Symbol', 'Adj_Close', 'Close', 'High', 'Low', 'Open',\n",
    "       'Volume']\n",
    "stckwh.columns = s_headers\n",
    "stckwh = stckwh[stckwh.Date >= '2018-03-01']"
   ]
  },
  {
   "cell_type": "code",
   "execution_count": 7,
   "id": "d41e5683",
   "metadata": {},
   "outputs": [
    {
     "name": "stdout",
     "output_type": "stream",
     "text": [
      "       Exchange Symbol           Shortname         Longname      Sector  \\\n",
      "count       502    502                 502              502         501   \n",
      "unique        4    502                 498              497          11   \n",
      "top         NYQ   AAPL  Under Armour, Inc.  Discovery, Inc.  Technology   \n",
      "freq        352      1                   2                2          73   \n",
      "\n",
      "                            Industry  \n",
      "count                            501  \n",
      "unique                           114  \n",
      "top     Utilities—Regulated Electric  \n",
      "freq                              20  \n"
     ]
    }
   ],
   "source": [
    "print(compwh.describe(include=\"all\"))"
   ]
  },
  {
   "cell_type": "code",
   "execution_count": 8,
   "id": "3a2c9155",
   "metadata": {},
   "outputs": [
    {
     "data": {
      "text/html": [
       "<div>\n",
       "<style scoped>\n",
       "    .dataframe tbody tr th:only-of-type {\n",
       "        vertical-align: middle;\n",
       "    }\n",
       "\n",
       "    .dataframe tbody tr th {\n",
       "        vertical-align: top;\n",
       "    }\n",
       "\n",
       "    .dataframe thead th {\n",
       "        text-align: right;\n",
       "    }\n",
       "</style>\n",
       "<table border=\"1\" class=\"dataframe\">\n",
       "  <thead>\n",
       "    <tr style=\"text-align: right;\">\n",
       "      <th></th>\n",
       "      <th>Date</th>\n",
       "      <th>Symbol</th>\n",
       "      <th>Adj_Close</th>\n",
       "      <th>Close</th>\n",
       "      <th>High</th>\n",
       "      <th>Low</th>\n",
       "      <th>Open</th>\n",
       "      <th>Volume</th>\n",
       "      <th>Exchange</th>\n",
       "      <th>Shortname</th>\n",
       "      <th>Longname</th>\n",
       "      <th>Sector</th>\n",
       "      <th>Industry</th>\n",
       "    </tr>\n",
       "  </thead>\n",
       "  <tbody>\n",
       "    <tr>\n",
       "      <th>0</th>\n",
       "      <td>2018-03-01</td>\n",
       "      <td>MMM</td>\n",
       "      <td>204.9241943359375</td>\n",
       "      <td>231.33999633789062</td>\n",
       "      <td>236.8300018310547</td>\n",
       "      <td>229.52999877929688</td>\n",
       "      <td>236.14999389648438</td>\n",
       "      <td>3487100.0</td>\n",
       "      <td>NYQ</td>\n",
       "      <td>3M Company</td>\n",
       "      <td>3M Company</td>\n",
       "      <td>Industrials</td>\n",
       "      <td>Conglomerates</td>\n",
       "    </tr>\n",
       "    <tr>\n",
       "      <th>1</th>\n",
       "      <td>2018-03-02</td>\n",
       "      <td>MMM</td>\n",
       "      <td>204.06497192382812</td>\n",
       "      <td>230.3699951171875</td>\n",
       "      <td>231.27000427246094</td>\n",
       "      <td>226.3300018310547</td>\n",
       "      <td>229.75</td>\n",
       "      <td>2912800.0</td>\n",
       "      <td>NYQ</td>\n",
       "      <td>3M Company</td>\n",
       "      <td>3M Company</td>\n",
       "      <td>Industrials</td>\n",
       "      <td>Conglomerates</td>\n",
       "    </tr>\n",
       "    <tr>\n",
       "      <th>2</th>\n",
       "      <td>2018-03-05</td>\n",
       "      <td>MMM</td>\n",
       "      <td>206.22637939453125</td>\n",
       "      <td>232.80999755859375</td>\n",
       "      <td>233.7100067138672</td>\n",
       "      <td>228.52999877929688</td>\n",
       "      <td>230.0</td>\n",
       "      <td>2235300.0</td>\n",
       "      <td>NYQ</td>\n",
       "      <td>3M Company</td>\n",
       "      <td>3M Company</td>\n",
       "      <td>Industrials</td>\n",
       "      <td>Conglomerates</td>\n",
       "    </tr>\n",
       "    <tr>\n",
       "      <th>3</th>\n",
       "      <td>2018-03-06</td>\n",
       "      <td>MMM</td>\n",
       "      <td>206.9793243408203</td>\n",
       "      <td>233.66000366210938</td>\n",
       "      <td>235.9199981689453</td>\n",
       "      <td>230.8000030517578</td>\n",
       "      <td>234.0500030517578</td>\n",
       "      <td>2091100.0</td>\n",
       "      <td>NYQ</td>\n",
       "      <td>3M Company</td>\n",
       "      <td>3M Company</td>\n",
       "      <td>Industrials</td>\n",
       "      <td>Conglomerates</td>\n",
       "    </tr>\n",
       "    <tr>\n",
       "      <th>4</th>\n",
       "      <td>2018-03-07</td>\n",
       "      <td>MMM</td>\n",
       "      <td>208.6712188720703</td>\n",
       "      <td>235.57000732421875</td>\n",
       "      <td>236.22000122070312</td>\n",
       "      <td>230.58999633789062</td>\n",
       "      <td>231.22000122070312</td>\n",
       "      <td>2213800.0</td>\n",
       "      <td>NYQ</td>\n",
       "      <td>3M Company</td>\n",
       "      <td>3M Company</td>\n",
       "      <td>Industrials</td>\n",
       "      <td>Conglomerates</td>\n",
       "    </tr>\n",
       "  </tbody>\n",
       "</table>\n",
       "</div>"
      ],
      "text/plain": [
       "         Date Symbol           Adj_Close               Close  \\\n",
       "0  2018-03-01    MMM   204.9241943359375  231.33999633789062   \n",
       "1  2018-03-02    MMM  204.06497192382812   230.3699951171875   \n",
       "2  2018-03-05    MMM  206.22637939453125  232.80999755859375   \n",
       "3  2018-03-06    MMM   206.9793243408203  233.66000366210938   \n",
       "4  2018-03-07    MMM   208.6712188720703  235.57000732421875   \n",
       "\n",
       "                 High                 Low                Open     Volume  \\\n",
       "0   236.8300018310547  229.52999877929688  236.14999389648438  3487100.0   \n",
       "1  231.27000427246094   226.3300018310547              229.75  2912800.0   \n",
       "2   233.7100067138672  228.52999877929688               230.0  2235300.0   \n",
       "3   235.9199981689453   230.8000030517578   234.0500030517578  2091100.0   \n",
       "4  236.22000122070312  230.58999633789062  231.22000122070312  2213800.0   \n",
       "\n",
       "  Exchange   Shortname    Longname       Sector       Industry  \n",
       "0      NYQ  3M Company  3M Company  Industrials  Conglomerates  \n",
       "1      NYQ  3M Company  3M Company  Industrials  Conglomerates  \n",
       "2      NYQ  3M Company  3M Company  Industrials  Conglomerates  \n",
       "3      NYQ  3M Company  3M Company  Industrials  Conglomerates  \n",
       "4      NYQ  3M Company  3M Company  Industrials  Conglomerates  "
      ]
     },
     "execution_count": 8,
     "metadata": {},
     "output_type": "execute_result"
    }
   ],
   "source": [
    "merged_data = stckwh.merge(compwh,on=[\"Symbol\"])\n",
    "merged_data.head()"
   ]
  },
  {
   "cell_type": "code",
   "execution_count": 24,
   "id": "ab7e4167",
   "metadata": {},
   "outputs": [
    {
     "name": "stdout",
     "output_type": "stream",
     "text": [
      "Date         datetime64[ns]\n",
      "Symbol               object\n",
      "Adj_Close           float64\n",
      "Close               float64\n",
      "High                float64\n",
      "Low                 float64\n",
      "Open                float64\n",
      "Volume              float64\n",
      "Exchange             object\n",
      "Shortname            object\n",
      "Longname             object\n",
      "Sector               object\n",
      "Industry             object\n",
      "dtype: object\n"
     ]
    }
   ],
   "source": [
    "print(merged_data.dtypes)"
   ]
  },
  {
   "cell_type": "code",
   "execution_count": 10,
   "id": "48b20b77",
   "metadata": {},
   "outputs": [],
   "source": [
    "merged_data[\"Adj_Close\"] = merged_data[\"Adj_Close\"].astype(str).astype(float)\n",
    "merged_data[\"Volume\"] = merged_data[\"Volume\"].astype(str).astype(float)\n",
    "merged_data[\"Close\"] = merged_data[\"Close\"].astype(str).astype(float)\n",
    "merged_data[\"High\"] = merged_data[\"High\"].astype(str).astype(float)\n",
    "merged_data[\"Low\"] = merged_data[\"Low\"].astype(str).astype(float)\n",
    "merged_data[\"Open\"] = merged_data[\"Open\"].astype(str).astype(float)"
   ]
  },
  {
   "cell_type": "code",
   "execution_count": 11,
   "id": "636465a0",
   "metadata": {},
   "outputs": [],
   "source": [
    "#Changing NaN Values to O\n",
    "merged_data[\"Adj_Close\"]=merged_data[\"Adj_Close\"].fillna(0)\n",
    "#Removing NaN Values\n",
    "dropvalue=merged_data[merged_data[\"Adj_Close\"]== 0]\n",
    "merged_data.drop(dropvalue.index,axis=0,inplace=True)"
   ]
  },
  {
   "cell_type": "code",
   "execution_count": 18,
   "id": "4640049c",
   "metadata": {},
   "outputs": [
    {
     "data": {
      "text/plain": [
       "Date         0\n",
       "Symbol       0\n",
       "Adj_Close    0\n",
       "Close        0\n",
       "High         0\n",
       "Low          0\n",
       "Open         0\n",
       "Volume       0\n",
       "Exchange     0\n",
       "Shortname    0\n",
       "Longname     0\n",
       "Sector       0\n",
       "Industry     0\n",
       "dtype: int64"
      ]
     },
     "execution_count": 18,
     "metadata": {},
     "output_type": "execute_result"
    }
   ],
   "source": [
    "merged_data.isnull().sum()"
   ]
  },
  {
   "cell_type": "code",
   "execution_count": 19,
   "id": "5766a2c7",
   "metadata": {},
   "outputs": [
    {
     "data": {
      "text/plain": [
       "489319"
      ]
     },
     "execution_count": 19,
     "metadata": {},
     "output_type": "execute_result"
    }
   ],
   "source": [
    "len(merged_data.index)"
   ]
  },
  {
   "cell_type": "code",
   "execution_count": 14,
   "id": "23c9f49a",
   "metadata": {},
   "outputs": [],
   "source": [
    "merged_data = merged_data.dropna()"
   ]
  },
  {
   "cell_type": "code",
   "execution_count": 27,
   "id": "760f5dfe",
   "metadata": {},
   "outputs": [
    {
     "data": {
      "text/html": [
       "<div>\n",
       "<style scoped>\n",
       "    .dataframe tbody tr th:only-of-type {\n",
       "        vertical-align: middle;\n",
       "    }\n",
       "\n",
       "    .dataframe tbody tr th {\n",
       "        vertical-align: top;\n",
       "    }\n",
       "\n",
       "    .dataframe thead th {\n",
       "        text-align: right;\n",
       "    }\n",
       "</style>\n",
       "<table border=\"1\" class=\"dataframe\">\n",
       "  <thead>\n",
       "    <tr style=\"text-align: right;\">\n",
       "      <th></th>\n",
       "      <th>Date</th>\n",
       "      <th>Symbol</th>\n",
       "      <th>Adj_Close</th>\n",
       "      <th>Close</th>\n",
       "      <th>High</th>\n",
       "      <th>Low</th>\n",
       "      <th>Open</th>\n",
       "      <th>Volume</th>\n",
       "      <th>Exchange</th>\n",
       "      <th>Shortname</th>\n",
       "      <th>Longname</th>\n",
       "      <th>Sector</th>\n",
       "      <th>Industry</th>\n",
       "    </tr>\n",
       "  </thead>\n",
       "  <tbody>\n",
       "    <tr>\n",
       "      <th>43296</th>\n",
       "      <td>2018-03-01</td>\n",
       "      <td>AAPL</td>\n",
       "      <td>42.138268</td>\n",
       "      <td>43.750000</td>\n",
       "      <td>44.945000</td>\n",
       "      <td>43.165001</td>\n",
       "      <td>44.634998</td>\n",
       "      <td>195208000.0</td>\n",
       "      <td>NMS</td>\n",
       "      <td>Apple Inc.</td>\n",
       "      <td>Apple Inc.</td>\n",
       "      <td>Technology</td>\n",
       "      <td>Consumer Electronics</td>\n",
       "    </tr>\n",
       "    <tr>\n",
       "      <th>43297</th>\n",
       "      <td>2018-03-02</td>\n",
       "      <td>AAPL</td>\n",
       "      <td>42.429626</td>\n",
       "      <td>44.052502</td>\n",
       "      <td>44.075001</td>\n",
       "      <td>43.112499</td>\n",
       "      <td>43.200001</td>\n",
       "      <td>153816000.0</td>\n",
       "      <td>NMS</td>\n",
       "      <td>Apple Inc.</td>\n",
       "      <td>Apple Inc.</td>\n",
       "      <td>Technology</td>\n",
       "      <td>Consumer Electronics</td>\n",
       "    </tr>\n",
       "    <tr>\n",
       "      <th>43298</th>\n",
       "      <td>2018-03-05</td>\n",
       "      <td>AAPL</td>\n",
       "      <td>42.576511</td>\n",
       "      <td>44.205002</td>\n",
       "      <td>44.435001</td>\n",
       "      <td>43.630001</td>\n",
       "      <td>43.802502</td>\n",
       "      <td>113605600.0</td>\n",
       "      <td>NMS</td>\n",
       "      <td>Apple Inc.</td>\n",
       "      <td>Apple Inc.</td>\n",
       "      <td>Technology</td>\n",
       "      <td>Consumer Electronics</td>\n",
       "    </tr>\n",
       "    <tr>\n",
       "      <th>43299</th>\n",
       "      <td>2018-03-06</td>\n",
       "      <td>AAPL</td>\n",
       "      <td>42.540394</td>\n",
       "      <td>44.167500</td>\n",
       "      <td>44.562500</td>\n",
       "      <td>44.032501</td>\n",
       "      <td>44.477501</td>\n",
       "      <td>95154000.0</td>\n",
       "      <td>NMS</td>\n",
       "      <td>Apple Inc.</td>\n",
       "      <td>Apple Inc.</td>\n",
       "      <td>Technology</td>\n",
       "      <td>Consumer Electronics</td>\n",
       "    </tr>\n",
       "    <tr>\n",
       "      <th>43300</th>\n",
       "      <td>2018-03-07</td>\n",
       "      <td>AAPL</td>\n",
       "      <td>42.145489</td>\n",
       "      <td>43.757500</td>\n",
       "      <td>43.962502</td>\n",
       "      <td>43.567501</td>\n",
       "      <td>43.735001</td>\n",
       "      <td>126814000.0</td>\n",
       "      <td>NMS</td>\n",
       "      <td>Apple Inc.</td>\n",
       "      <td>Apple Inc.</td>\n",
       "      <td>Technology</td>\n",
       "      <td>Consumer Electronics</td>\n",
       "    </tr>\n",
       "  </tbody>\n",
       "</table>\n",
       "</div>"
      ],
      "text/plain": [
       "            Date Symbol  Adj_Close      Close       High        Low  \\\n",
       "43296 2018-03-01   AAPL  42.138268  43.750000  44.945000  43.165001   \n",
       "43297 2018-03-02   AAPL  42.429626  44.052502  44.075001  43.112499   \n",
       "43298 2018-03-05   AAPL  42.576511  44.205002  44.435001  43.630001   \n",
       "43299 2018-03-06   AAPL  42.540394  44.167500  44.562500  44.032501   \n",
       "43300 2018-03-07   AAPL  42.145489  43.757500  43.962502  43.567501   \n",
       "\n",
       "            Open       Volume Exchange   Shortname    Longname      Sector  \\\n",
       "43296  44.634998  195208000.0      NMS  Apple Inc.  Apple Inc.  Technology   \n",
       "43297  43.200001  153816000.0      NMS  Apple Inc.  Apple Inc.  Technology   \n",
       "43298  43.802502  113605600.0      NMS  Apple Inc.  Apple Inc.  Technology   \n",
       "43299  44.477501   95154000.0      NMS  Apple Inc.  Apple Inc.  Technology   \n",
       "43300  43.735001  126814000.0      NMS  Apple Inc.  Apple Inc.  Technology   \n",
       "\n",
       "                   Industry  \n",
       "43296  Consumer Electronics  \n",
       "43297  Consumer Electronics  \n",
       "43298  Consumer Electronics  \n",
       "43299  Consumer Electronics  \n",
       "43300  Consumer Electronics  "
      ]
     },
     "execution_count": 27,
     "metadata": {},
     "output_type": "execute_result"
    }
   ],
   "source": [
    "aapl = merged_data[merged_data.Symbol == 'AAPL']\n",
    "aapl.head()"
   ]
  },
  {
   "cell_type": "code",
   "execution_count": 29,
   "id": "7eb6e7aa",
   "metadata": {},
   "outputs": [
    {
     "data": {
      "text/plain": [
       "<AxesSubplot:>"
      ]
     },
     "execution_count": 29,
     "metadata": {},
     "output_type": "execute_result"
    },
    {
     "data": {
      "image/png": "[encoded data removed]",
      "text/plain": [
       "<Figure size 432x288 with 1 Axes>"
      ]
     },
     "metadata": {
      "needs_background": "light"
     },
     "output_type": "display_data"
    }
   ],
   "source": [
    "#Plot the True Adj Close Value\n",
    "aapl['Adj_Close'].plot()"
   ]
  },
  {
   "cell_type": "code",
   "execution_count": 23,
   "id": "0913142a",
   "metadata": {},
   "outputs": [],
   "source": [
    "merged_data['Date'] = merged_data['Date'].astype('datetime64[ns]')"
   ]
  },
  {
   "cell_type": "code",
   "execution_count": 35,
   "id": "6a844a48",
   "metadata": {},
   "outputs": [],
   "source": [
    "#Set Target Variable\n",
    "output_var = pd.DataFrame(aapl['Adj_Close'])\n",
    "#Selecting the Features\n",
    "features = ['Open', 'High', 'Low', 'Volume']"
   ]
  },
  {
   "cell_type": "code",
   "execution_count": 39,
   "id": "0f3748f5",
   "metadata": {},
   "outputs": [
    {
     "data": {
      "text/html": [
       "<div>\n",
       "<style scoped>\n",
       "    .dataframe tbody tr th:only-of-type {\n",
       "        vertical-align: middle;\n",
       "    }\n",
       "\n",
       "    .dataframe tbody tr th {\n",
       "        vertical-align: top;\n",
       "    }\n",
       "\n",
       "    .dataframe thead th {\n",
       "        text-align: right;\n",
       "    }\n",
       "</style>\n",
       "<table border=\"1\" class=\"dataframe\">\n",
       "  <thead>\n",
       "    <tr style=\"text-align: right;\">\n",
       "      <th></th>\n",
       "      <th>Open</th>\n",
       "      <th>High</th>\n",
       "      <th>Low</th>\n",
       "      <th>Volume</th>\n",
       "    </tr>\n",
       "  </thead>\n",
       "  <tbody>\n",
       "    <tr>\n",
       "      <th>43296</th>\n",
       "      <td>0.058922</td>\n",
       "      <td>0.058119</td>\n",
       "      <td>0.053370</td>\n",
       "      <td>0.400010</td>\n",
       "    </tr>\n",
       "    <tr>\n",
       "      <th>43297</th>\n",
       "      <td>0.049136</td>\n",
       "      <td>0.052181</td>\n",
       "      <td>0.053004</td>\n",
       "      <td>0.292641</td>\n",
       "    </tr>\n",
       "    <tr>\n",
       "      <th>43298</th>\n",
       "      <td>0.053244</td>\n",
       "      <td>0.054638</td>\n",
       "      <td>0.056608</td>\n",
       "      <td>0.188336</td>\n",
       "    </tr>\n",
       "    <tr>\n",
       "      <th>43299</th>\n",
       "      <td>0.057848</td>\n",
       "      <td>0.055508</td>\n",
       "      <td>0.059410</td>\n",
       "      <td>0.140474</td>\n",
       "    </tr>\n",
       "    <tr>\n",
       "      <th>43300</th>\n",
       "      <td>0.052784</td>\n",
       "      <td>0.051413</td>\n",
       "      <td>0.056173</td>\n",
       "      <td>0.222599</td>\n",
       "    </tr>\n",
       "  </tbody>\n",
       "</table>\n",
       "</div>"
      ],
      "text/plain": [
       "           Open      High       Low    Volume\n",
       "43296  0.058922  0.058119  0.053370  0.400010\n",
       "43297  0.049136  0.052181  0.053004  0.292641\n",
       "43298  0.053244  0.054638  0.056608  0.188336\n",
       "43299  0.057848  0.055508  0.059410  0.140474\n",
       "43300  0.052784  0.051413  0.056173  0.222599"
      ]
     },
     "execution_count": 39,
     "metadata": {},
     "output_type": "execute_result"
    }
   ],
   "source": [
    "#Scaling\n",
    "scaler = MinMaxScaler()\n",
    "feature_transform = scaler.fit_transform(aapl[features])\n",
    "feature_transform= pd.DataFrame(columns=features, data=feature_transform, index=aapl.index)\n",
    "feature_transform.head()"
   ]
  },
  {
   "cell_type": "code",
   "execution_count": 44,
   "id": "8a461e7b",
   "metadata": {},
   "outputs": [],
   "source": [
    "#Splitting to Training set and Test set\n",
    "timesplit= TimeSeriesSplit(n_splits=10)\n",
    "for train_index, test_index in timesplit.split(feature_transform):\n",
    "        X_train, X_test = feature_transform[:len(train_index)], feature_transform[len(train_index): (len(train_index)+len(test_index))]\n",
    "        y_train, y_test = output_var[:len(train_index)].values.ravel(), output_var[len(train_index): (len(train_index)+len(test_index))].values.ravel()"
   ]
  },
  {
   "cell_type": "code",
   "execution_count": 45,
   "id": "4b7919c3",
   "metadata": {},
   "outputs": [],
   "source": [
    "#Process the data for LSTM\n",
    "trainX =np.array(X_train)\n",
    "testX =np.array(X_test)\n",
    "X_train = trainX.reshape(X_train.shape[0], 1, X_train.shape[1])\n",
    "X_test = testX.reshape(X_test.shape[0], 1, X_test.shape[1])"
   ]
  },
  {
   "cell_type": "code",
   "execution_count": 54,
   "id": "1fc74609",
   "metadata": {},
   "outputs": [
    {
     "ename": "SyntaxError",
     "evalue": "invalid character '’' (U+2019) (3903095430.py, line 3)",
     "output_type": "error",
     "traceback": [
      "\u001b[0;36m  File \u001b[0;32m\"/var/folders/1q/zwcvzgvj6g7g90n6ptt7_jbw0000gn/T/ipykernel_4962/3903095430.py\"\u001b[0;36m, line \u001b[0;32m3\u001b[0m\n\u001b[0;31m    lstm.add(LSTM(32, input_shape=(1, trainX.shape[1]), activation=’relu’, return_sequences=False))\u001b[0m\n\u001b[0m                                                                   ^\u001b[0m\n\u001b[0;31mSyntaxError\u001b[0m\u001b[0;31m:\u001b[0m invalid character '’' (U+2019)\n"
     ]
    }
   ],
   "source": [
    "#Building the LSTM Model\n",
    "lstm = Sequential()\n",
    "lstm.add(LSTM(32, input_shape=(1, trainX.shape[1]), activation=’relu’, return_sequences=False))\n",
    "lstm.add(Dense(1))\n",
    "lstm.compile(loss=’mean_squared_error’, optimizer=’adam’)\n",
    "plot_model(lstm, show_shapes=True, show_layer_names=True)"
   ]
  },
  {
   "cell_type": "code",
   "execution_count": null,
   "id": "d420cf02",
   "metadata": {},
   "outputs": [],
   "source": []
  }
 ],
 "metadata": {
  "kernelspec": {
   "display_name": "Python 3 (ipykernel)",
   "language": "python",
   "name": "python3"
  },
  "language_info": {
   "codemirror_mode": {
    "name": "ipython",
    "version": 3
   },
   "file_extension": ".py",
   "mimetype": "text/x-python",
   "name": "python",
   "nbconvert_exporter": "python",
   "pygments_lexer": "ipython3",
   "version": "3.9.7"
  }
 },
 "nbformat": 4,
 "nbformat_minor": 5
}
