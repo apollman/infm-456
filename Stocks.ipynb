{
 "cells": [
  {
   "cell_type": "code",
   "execution_count": 1,
   "id": "c8fd149e",
   "metadata": {},
   "outputs": [],
   "source": [
    "import pandas as pd\n",
    "import numpy as np\n",
    "import matplotlib.pyplot as plt\n",
    "import seaborn as sb\n",
    "import scipy.stats as stat"
   ]
  },
  {
   "cell_type": "code",
   "execution_count": 2,
   "id": "dfb33724",
   "metadata": {},
   "outputs": [],
   "source": [
    "companies = pd.read_csv(\"sp500_companies.csv\")\n",
    "stocks = pd.read_csv(\"sp500_stocks.csv\")"
   ]
  },
  {
   "cell_type": "code",
   "execution_count": 3,
   "id": "5ebfdda9",
   "metadata": {},
   "outputs": [
    {
     "name": "stdout",
     "output_type": "stream",
     "text": [
      "Exchange                object\n",
      "Symbol                  object\n",
      "Shortname               object\n",
      "Longname                object\n",
      "Sector                  object\n",
      "Industry                object\n",
      "Currentprice           float64\n",
      "Marketcap                int64\n",
      "Ebitda                 float64\n",
      "Revenuegrowth          float64\n",
      "City                    object\n",
      "State                   object\n",
      "Country                 object\n",
      "Fulltimeemployees      float64\n",
      "Longbusinesssummary     object\n",
      "Weight                 float64\n",
      "dtype: object\n"
     ]
    }
   ],
   "source": [
    "print(companies.dtypes)"
   ]
  },
  {
   "cell_type": "code",
   "execution_count": 4,
   "id": "af9907f8",
   "metadata": {},
   "outputs": [
    {
     "name": "stdout",
     "output_type": "stream",
     "text": [
      "Date          object\n",
      "Symbol        object\n",
      "Adj Close    float64\n",
      "Close        float64\n",
      "High         float64\n",
      "Low          float64\n",
      "Open         float64\n",
      "Volume       float64\n",
      "dtype: object\n"
     ]
    }
   ],
   "source": [
    "print(stocks.dtypes)"
   ]
  },
  {
   "cell_type": "code",
   "execution_count": 19,
   "id": "88d6ec26",
   "metadata": {},
   "outputs": [
    {
     "data": {
      "text/plain": [
       "True"
      ]
     },
     "execution_count": 19,
     "metadata": {},
     "output_type": "execute_result"
    }
   ],
   "source": [
    "compwh.isnull().values.any()"
   ]
  },
  {
   "cell_type": "code",
   "execution_count": 20,
   "id": "97781a27",
   "metadata": {},
   "outputs": [
    {
     "data": {
      "text/plain": [
       "True"
      ]
     },
     "execution_count": 20,
     "metadata": {},
     "output_type": "execute_result"
    }
   ],
   "source": [
    "stockswh.isnull().values.any()"
   ]
  },
  {
   "cell_type": "code",
   "execution_count": 5,
   "id": "c0e6ebb9",
   "metadata": {},
   "outputs": [
    {
     "data": {
      "text/plain": [
       "Index(['Exchange', 'Symbol', 'Shortname', 'Longname', 'Sector', 'Industry',\n",
       "       'Currentprice', 'Marketcap', 'Ebitda', 'Revenuegrowth', 'City', 'State',\n",
       "       'Country', 'Fulltimeemployees', 'Longbusinesssummary', 'Weight'],\n",
       "      dtype='object')"
      ]
     },
     "execution_count": 5,
     "metadata": {},
     "output_type": "execute_result"
    }
   ],
   "source": [
    "companies.columns"
   ]
  },
  {
   "cell_type": "code",
   "execution_count": 6,
   "id": "360dfc78-4956-4eb2-8c41-b6b140e31ad9",
   "metadata": {},
   "outputs": [],
   "source": [
    "compwh= pd.read_csv(\"sp500_companies.csv\", header= None, engine='python' )\n",
    "\n",
    "#Removing first row because it is a header row\n",
    "compwh = compwh.iloc[1: , :]\n",
    "\n",
    "headers=[\"Exchange\", \"Symbol\", \"Shortname\", \"Longname\", \"Sector\", \"Industry\",\n",
    "       \"Currentprice\", \"Marketcap\", \"Ebitda\", \"Revenuegrowth\", \"City\", \"State\",\n",
    "      \"Country\", \"Fulltimeemployees\", \"Longbusinesssummary\", \"Weight\"]\n",
    "\n",
    "#assign list of header as data frame column names\n",
    "compwh.columns=headers"
   ]
  },
  {
   "cell_type": "code",
   "execution_count": 7,
   "id": "c8ded411-8021-4766-8c47-aa17eb000aab",
   "metadata": {
    "scrolled": true
   },
   "outputs": [
    {
     "data": {
      "text/html": [
       "<div>\n",
       "<style scoped>\n",
       "    .dataframe tbody tr th:only-of-type {\n",
       "        vertical-align: middle;\n",
       "    }\n",
       "\n",
       "    .dataframe tbody tr th {\n",
       "        vertical-align: top;\n",
       "    }\n",
       "\n",
       "    .dataframe thead th {\n",
       "        text-align: right;\n",
       "    }\n",
       "</style>\n",
       "<table border=\"1\" class=\"dataframe\">\n",
       "  <thead>\n",
       "    <tr style=\"text-align: right;\">\n",
       "      <th></th>\n",
       "      <th>Exchange</th>\n",
       "      <th>Symbol</th>\n",
       "      <th>Shortname</th>\n",
       "      <th>Longname</th>\n",
       "      <th>Sector</th>\n",
       "      <th>Industry</th>\n",
       "      <th>Currentprice</th>\n",
       "      <th>Marketcap</th>\n",
       "      <th>Ebitda</th>\n",
       "      <th>Revenuegrowth</th>\n",
       "      <th>City</th>\n",
       "      <th>State</th>\n",
       "      <th>Country</th>\n",
       "      <th>Fulltimeemployees</th>\n",
       "      <th>Longbusinesssummary</th>\n",
       "      <th>Weight</th>\n",
       "    </tr>\n",
       "  </thead>\n",
       "  <tbody>\n",
       "    <tr>\n",
       "      <th>1</th>\n",
       "      <td>NMS</td>\n",
       "      <td>AAPL</td>\n",
       "      <td>Apple Inc.</td>\n",
       "      <td>Apple Inc.</td>\n",
       "      <td>Technology</td>\n",
       "      <td>Consumer Electronics</td>\n",
       "      <td>161.62</td>\n",
       "      <td>2639965454336</td>\n",
       "      <td>120233000960</td>\n",
       "      <td>0.288</td>\n",
       "      <td>Cupertino</td>\n",
       "      <td>CA</td>\n",
       "      <td>United States</td>\n",
       "      <td>154000</td>\n",
       "      <td>Apple Inc. designs, manufactures, and markets ...</td>\n",
       "      <td>0.06449175190972013</td>\n",
       "    </tr>\n",
       "    <tr>\n",
       "      <th>2</th>\n",
       "      <td>NMS</td>\n",
       "      <td>MSFT</td>\n",
       "      <td>Microsoft Corporation</td>\n",
       "      <td>Microsoft Corporation</td>\n",
       "      <td>Technology</td>\n",
       "      <td>Software—Infrastructure</td>\n",
       "      <td>296.37</td>\n",
       "      <td>2225139875840</td>\n",
       "      <td>85745000448</td>\n",
       "      <td>0.22</td>\n",
       "      <td>Redmond</td>\n",
       "      <td>WA</td>\n",
       "      <td>United States</td>\n",
       "      <td>181000</td>\n",
       "      <td>Microsoft Corporation develops, licenses, and ...</td>\n",
       "      <td>0.054357972223235934</td>\n",
       "    </tr>\n",
       "    <tr>\n",
       "      <th>3</th>\n",
       "      <td>NMS</td>\n",
       "      <td>GOOGL</td>\n",
       "      <td>Alphabet Inc.</td>\n",
       "      <td>Alphabet Inc.</td>\n",
       "      <td>Communication Services</td>\n",
       "      <td>Internet Content &amp; Information</td>\n",
       "      <td>2616.08</td>\n",
       "      <td>1734803849216</td>\n",
       "      <td>85196996608</td>\n",
       "      <td>0.41</td>\n",
       "      <td>Mountain View</td>\n",
       "      <td>CA</td>\n",
       "      <td>United States</td>\n",
       "      <td>150028</td>\n",
       "      <td>Larry Page and Sergey Brin founded Google in S...</td>\n",
       "      <td>0.04237954677471559</td>\n",
       "    </tr>\n",
       "    <tr>\n",
       "      <th>4</th>\n",
       "      <td>NMS</td>\n",
       "      <td>GOOG</td>\n",
       "      <td>Alphabet Inc.</td>\n",
       "      <td>Alphabet Inc.</td>\n",
       "      <td>Communication Services</td>\n",
       "      <td>Internet Content &amp; Information</td>\n",
       "      <td>2607.44</td>\n",
       "      <td>1732523982848</td>\n",
       "      <td>85196996608</td>\n",
       "      <td>0.41</td>\n",
       "      <td>Mountain View</td>\n",
       "      <td>CA</td>\n",
       "      <td>United States</td>\n",
       "      <td>150028</td>\n",
       "      <td>Larry Page and Sergey Brin founded Google in S...</td>\n",
       "      <td>0.04232385188827271</td>\n",
       "    </tr>\n",
       "    <tr>\n",
       "      <th>5</th>\n",
       "      <td>NMS</td>\n",
       "      <td>AMZN</td>\n",
       "      <td>Amazon.com, Inc.</td>\n",
       "      <td>Amazon.com, Inc.</td>\n",
       "      <td>Consumer Cyclical</td>\n",
       "      <td>Internet Retail</td>\n",
       "      <td>2890.88</td>\n",
       "      <td>1466103889920</td>\n",
       "      <td>60403998720</td>\n",
       "      <td>0.153</td>\n",
       "      <td>Seattle</td>\n",
       "      <td>WA</td>\n",
       "      <td>United States</td>\n",
       "      <td>1468000</td>\n",
       "      <td>Amazon.com, Inc. engages in the retail sale of...</td>\n",
       "      <td>0.035815471822671155</td>\n",
       "    </tr>\n",
       "  </tbody>\n",
       "</table>\n",
       "</div>"
      ],
      "text/plain": [
       "  Exchange Symbol              Shortname               Longname  \\\n",
       "1      NMS   AAPL             Apple Inc.             Apple Inc.   \n",
       "2      NMS   MSFT  Microsoft Corporation  Microsoft Corporation   \n",
       "3      NMS  GOOGL          Alphabet Inc.          Alphabet Inc.   \n",
       "4      NMS   GOOG          Alphabet Inc.          Alphabet Inc.   \n",
       "5      NMS   AMZN       Amazon.com, Inc.       Amazon.com, Inc.   \n",
       "\n",
       "                   Sector                        Industry Currentprice  \\\n",
       "1              Technology            Consumer Electronics       161.62   \n",
       "2              Technology         Software—Infrastructure       296.37   \n",
       "3  Communication Services  Internet Content & Information      2616.08   \n",
       "4  Communication Services  Internet Content & Information      2607.44   \n",
       "5       Consumer Cyclical                 Internet Retail      2890.88   \n",
       "\n",
       "       Marketcap        Ebitda Revenuegrowth           City State  \\\n",
       "1  2639965454336  120233000960         0.288      Cupertino    CA   \n",
       "2  2225139875840   85745000448          0.22        Redmond    WA   \n",
       "3  1734803849216   85196996608          0.41  Mountain View    CA   \n",
       "4  1732523982848   85196996608          0.41  Mountain View    CA   \n",
       "5  1466103889920   60403998720         0.153        Seattle    WA   \n",
       "\n",
       "         Country Fulltimeemployees  \\\n",
       "1  United States            154000   \n",
       "2  United States            181000   \n",
       "3  United States            150028   \n",
       "4  United States            150028   \n",
       "5  United States           1468000   \n",
       "\n",
       "                                 Longbusinesssummary                Weight  \n",
       "1  Apple Inc. designs, manufactures, and markets ...   0.06449175190972013  \n",
       "2  Microsoft Corporation develops, licenses, and ...  0.054357972223235934  \n",
       "3  Larry Page and Sergey Brin founded Google in S...   0.04237954677471559  \n",
       "4  Larry Page and Sergey Brin founded Google in S...   0.04232385188827271  \n",
       "5  Amazon.com, Inc. engages in the retail sale of...  0.035815471822671155  "
      ]
     },
     "execution_count": 7,
     "metadata": {},
     "output_type": "execute_result"
    }
   ],
   "source": [
    "compwh.head()"
   ]
  },
  {
   "cell_type": "code",
   "execution_count": 8,
   "id": "d1109b43-8333-4110-956d-5ae3988c720d",
   "metadata": {},
   "outputs": [
    {
     "name": "stdout",
     "output_type": "stream",
     "text": [
      "       Exchange Symbol           Shortname         Longname      Sector  \\\n",
      "count       502    502                 502              502         501   \n",
      "unique        4    502                 498              497          11   \n",
      "top         NYQ   AAPL  Under Armour, Inc.  Discovery, Inc.  Technology   \n",
      "freq        352      1                   2                2          73   \n",
      "\n",
      "                            Industry Currentprice      Marketcap      Ebitda  \\\n",
      "count                            501          501            502         470   \n",
      "unique                           114          497            502         463   \n",
      "top     Utilities—Regulated Electric       109.88  2639965454336  3552999936   \n",
      "freq                              20            2              1           2   \n",
      "\n",
      "       Revenuegrowth      City State        Country Fulltimeemployees  \\\n",
      "count            500       501   481            501               497   \n",
      "unique           324       235    38              7               392   \n",
      "top              0.1  New York    CA  United States             50000   \n",
      "freq               6        43    70            481                 6   \n",
      "\n",
      "                                      Longbusinesssummary               Weight  \n",
      "count                                                 501                  502  \n",
      "unique                                                496                  502  \n",
      "top     Discovery, Inc., a media company, provides con...  0.06449175190972013  \n",
      "freq                                                    2                    1  \n"
     ]
    }
   ],
   "source": [
    "print(compwh.describe())"
   ]
  },
  {
   "cell_type": "code",
   "execution_count": 9,
   "id": "9bc2b18c-7c92-4260-b26b-5ac7908465c2",
   "metadata": {},
   "outputs": [
    {
     "name": "stdout",
     "output_type": "stream",
     "text": [
      "       Exchange Symbol           Shortname         Longname      Sector  \\\n",
      "count       502    502                 502              502         501   \n",
      "unique        4    502                 498              497          11   \n",
      "top         NYQ   AAPL  Under Armour, Inc.  Discovery, Inc.  Technology   \n",
      "freq        352      1                   2                2          73   \n",
      "\n",
      "                            Industry Currentprice      Marketcap      Ebitda  \\\n",
      "count                            501          501            502         470   \n",
      "unique                           114          497            502         463   \n",
      "top     Utilities—Regulated Electric       109.88  2639965454336  3552999936   \n",
      "freq                              20            2              1           2   \n",
      "\n",
      "       Revenuegrowth      City State        Country Fulltimeemployees  \\\n",
      "count            500       501   481            501               497   \n",
      "unique           324       235    38              7               392   \n",
      "top              0.1  New York    CA  United States             50000   \n",
      "freq               6        43    70            481                 6   \n",
      "\n",
      "                                      Longbusinesssummary               Weight  \n",
      "count                                                 501                  502  \n",
      "unique                                                496                  502  \n",
      "top     Discovery, Inc., a media company, provides con...  0.06449175190972013  \n",
      "freq                                                    2                    1  \n"
     ]
    }
   ],
   "source": [
    "print(compwh.describe(include=\"all\"))"
   ]
  },
  {
   "cell_type": "code",
   "execution_count": 10,
   "id": "19307233-bef9-40cf-b904-ac3656ebef67",
   "metadata": {},
   "outputs": [
    {
     "data": {
      "text/plain": [
       "(502, 16)"
      ]
     },
     "execution_count": 10,
     "metadata": {},
     "output_type": "execute_result"
    }
   ],
   "source": [
    "compwh.shape"
   ]
  },
  {
   "cell_type": "code",
   "execution_count": 11,
   "id": "3f51e471-7839-4106-9220-e8977303f6b2",
   "metadata": {},
   "outputs": [
    {
     "name": "stdout",
     "output_type": "stream",
     "text": [
      "<bound method DataFrame.info of     Exchange Symbol                   Shortname                    Longname  \\\n",
      "1        NMS   AAPL                  Apple Inc.                  Apple Inc.   \n",
      "2        NMS   MSFT       Microsoft Corporation       Microsoft Corporation   \n",
      "3        NMS  GOOGL               Alphabet Inc.               Alphabet Inc.   \n",
      "4        NMS   GOOG               Alphabet Inc.               Alphabet Inc.   \n",
      "5        NMS   AMZN            Amazon.com, Inc.            Amazon.com, Inc.   \n",
      "..       ...    ...                         ...                         ...   \n",
      "498      NMS   PENN  Penn National Gaming, Inc.  Penn National Gaming, Inc.   \n",
      "499      NYQ   NLSN                Nielsen N.V.        Nielsen Holdings plc   \n",
      "500      NYQ    PVH                   PVH Corp.                   PVH Corp.   \n",
      "501      NYQ    ALK      Alaska Air Group, Inc.      Alaska Air Group, Inc.   \n",
      "502      NYQ    GPS             Gap, Inc. (The)               The Gap, Inc.   \n",
      "\n",
      "                     Sector                        Industry Currentprice  \\\n",
      "1                Technology            Consumer Electronics       161.62   \n",
      "2                Technology         Software—Infrastructure       296.37   \n",
      "3    Communication Services  Internet Content & Information      2616.08   \n",
      "4    Communication Services  Internet Content & Information      2607.44   \n",
      "5         Consumer Cyclical                 Internet Retail      2890.88   \n",
      "..                      ...                             ...          ...   \n",
      "498       Consumer Cyclical               Resorts & Casinos         42.4   \n",
      "499             Industrials             Consulting Services        19.14   \n",
      "500       Consumer Cyclical           Apparel Manufacturing        96.55   \n",
      "501             Industrials                        Airlines         51.4   \n",
      "502       Consumer Cyclical                  Apparel Retail        17.12   \n",
      "\n",
      "         Marketcap        Ebitda Revenuegrowth           City State  \\\n",
      "1    2639965454336  120233000960         0.288      Cupertino    CA   \n",
      "2    2225139875840   85745000448          0.22        Redmond    WA   \n",
      "3    1734803849216   85196996608          0.41  Mountain View    CA   \n",
      "4    1732523982848   85196996608          0.41  Mountain View    CA   \n",
      "5    1466103889920   60403998720         0.153        Seattle    WA   \n",
      "..             ...           ...           ...            ...   ...   \n",
      "498     7187394048    1317699968         0.338     Wyomissing    PA   \n",
      "499     6869862912    1034000000         0.055       New York    NY   \n",
      "500     6756337664    1096199936         0.101       New York    NY   \n",
      "501     6440985600    -375000000         1.786        Seattle    WA   \n",
      "502     6392659968    1331000064        -0.013  San Francisco    CA   \n",
      "\n",
      "           Country Fulltimeemployees  \\\n",
      "1    United States            154000   \n",
      "2    United States            181000   \n",
      "3    United States            150028   \n",
      "4    United States            150028   \n",
      "5    United States           1468000   \n",
      "..             ...               ...   \n",
      "498  United States             18321   \n",
      "499  United States             43000   \n",
      "500  United States             20000   \n",
      "501  United States             18819   \n",
      "502  United States            117000   \n",
      "\n",
      "                                   Longbusinesssummary                  Weight  \n",
      "1    Apple Inc. designs, manufactures, and markets ...     0.06449175190972013  \n",
      "2    Microsoft Corporation develops, licenses, and ...    0.054357972223235934  \n",
      "3    Larry Page and Sergey Brin founded Google in S...     0.04237954677471559  \n",
      "4    Larry Page and Sergey Brin founded Google in S...     0.04232385188827271  \n",
      "5    Amazon.com, Inc. engages in the retail sale of...    0.035815471822671155  \n",
      "..                                                 ...                     ...  \n",
      "498  Penn National Gaming, Inc., together with its ...  0.00017558094673538098  \n",
      "499  Nielsen Holdings plc, together with its subsid...   0.0001678239743049693  \n",
      "500  PVH Corp. operates as an apparel company world...  0.00016505066448097884  \n",
      "501  Alaska Air Group, Inc., through its subsidiari...  0.00015734692463002635  \n",
      "502  The Gap, Inc. operates as an apparel retail co...  0.00015616637711009362  \n",
      "\n",
      "[502 rows x 16 columns]>\n",
      "    Exchange Symbol                   Shortname                    Longname  \\\n",
      "1        NMS   AAPL                  Apple Inc.                  Apple Inc.   \n",
      "2        NMS   MSFT       Microsoft Corporation       Microsoft Corporation   \n",
      "3        NMS  GOOGL               Alphabet Inc.               Alphabet Inc.   \n",
      "4        NMS   GOOG               Alphabet Inc.               Alphabet Inc.   \n",
      "5        NMS   AMZN            Amazon.com, Inc.            Amazon.com, Inc.   \n",
      "..       ...    ...                         ...                         ...   \n",
      "498      NMS   PENN  Penn National Gaming, Inc.  Penn National Gaming, Inc.   \n",
      "499      NYQ   NLSN                Nielsen N.V.        Nielsen Holdings plc   \n",
      "500      NYQ    PVH                   PVH Corp.                   PVH Corp.   \n",
      "501      NYQ    ALK      Alaska Air Group, Inc.      Alaska Air Group, Inc.   \n",
      "502      NYQ    GPS             Gap, Inc. (The)               The Gap, Inc.   \n",
      "\n",
      "                     Sector                        Industry Currentprice  \\\n",
      "1                Technology            Consumer Electronics       161.62   \n",
      "2                Technology         Software—Infrastructure       296.37   \n",
      "3    Communication Services  Internet Content & Information      2616.08   \n",
      "4    Communication Services  Internet Content & Information      2607.44   \n",
      "5         Consumer Cyclical                 Internet Retail      2890.88   \n",
      "..                      ...                             ...          ...   \n",
      "498       Consumer Cyclical               Resorts & Casinos         42.4   \n",
      "499             Industrials             Consulting Services        19.14   \n",
      "500       Consumer Cyclical           Apparel Manufacturing        96.55   \n",
      "501             Industrials                        Airlines         51.4   \n",
      "502       Consumer Cyclical                  Apparel Retail        17.12   \n",
      "\n",
      "         Marketcap        Ebitda Revenuegrowth           City State  \\\n",
      "1    2639965454336  120233000960         0.288      Cupertino    CA   \n",
      "2    2225139875840   85745000448          0.22        Redmond    WA   \n",
      "3    1734803849216   85196996608          0.41  Mountain View    CA   \n",
      "4    1732523982848   85196996608          0.41  Mountain View    CA   \n",
      "5    1466103889920   60403998720         0.153        Seattle    WA   \n",
      "..             ...           ...           ...            ...   ...   \n",
      "498     7187394048    1317699968         0.338     Wyomissing    PA   \n",
      "499     6869862912    1034000000         0.055       New York    NY   \n",
      "500     6756337664    1096199936         0.101       New York    NY   \n",
      "501     6440985600    -375000000         1.786        Seattle    WA   \n",
      "502     6392659968    1331000064        -0.013  San Francisco    CA   \n",
      "\n",
      "           Country Fulltimeemployees  \\\n",
      "1    United States            154000   \n",
      "2    United States            181000   \n",
      "3    United States            150028   \n",
      "4    United States            150028   \n",
      "5    United States           1468000   \n",
      "..             ...               ...   \n",
      "498  United States             18321   \n",
      "499  United States             43000   \n",
      "500  United States             20000   \n",
      "501  United States             18819   \n",
      "502  United States            117000   \n",
      "\n",
      "                                   Longbusinesssummary                  Weight  \n",
      "1    Apple Inc. designs, manufactures, and markets ...     0.06449175190972013  \n",
      "2    Microsoft Corporation develops, licenses, and ...    0.054357972223235934  \n",
      "3    Larry Page and Sergey Brin founded Google in S...     0.04237954677471559  \n",
      "4    Larry Page and Sergey Brin founded Google in S...     0.04232385188827271  \n",
      "5    Amazon.com, Inc. engages in the retail sale of...    0.035815471822671155  \n",
      "..                                                 ...                     ...  \n",
      "498  Penn National Gaming, Inc., together with its ...  0.00017558094673538098  \n",
      "499  Nielsen Holdings plc, together with its subsid...   0.0001678239743049693  \n",
      "500  PVH Corp. operates as an apparel company world...  0.00016505066448097884  \n",
      "501  Alaska Air Group, Inc., through its subsidiari...  0.00015734692463002635  \n",
      "502  The Gap, Inc. operates as an apparel retail co...  0.00015616637711009362  \n",
      "\n",
      "[502 rows x 16 columns]\n"
     ]
    }
   ],
   "source": [
    "print(compwh.info)\n",
    "print(compwh)"
   ]
  },
  {
   "cell_type": "code",
   "execution_count": 12,
   "id": "77461b5d-fb7e-4d7a-b9f7-d5bd78906f2c",
   "metadata": {},
   "outputs": [
    {
     "ename": "TypeError",
     "evalue": "rename() got an unexpected keyword argument 'colunms'",
     "output_type": "error",
     "traceback": [
      "\u001b[0;31m---------------------------------------------------------------------------\u001b[0m",
      "\u001b[0;31mTypeError\u001b[0m                                 Traceback (most recent call last)",
      "\u001b[0;32m/var/folders/1q/zwcvzgvj6g7g90n6ptt7_jbw0000gn/T/ipykernel_5178/3108668021.py\u001b[0m in \u001b[0;36m<module>\u001b[0;34m\u001b[0m\n\u001b[1;32m      2\u001b[0m \u001b[0;34m\u001b[0m\u001b[0m\n\u001b[1;32m      3\u001b[0m \u001b[0mindst_count\u001b[0m \u001b[0;34m=\u001b[0m \u001b[0mcompwh\u001b[0m\u001b[0;34m[\u001b[0m\u001b[0;34m\"Industry\"\u001b[0m\u001b[0;34m]\u001b[0m\u001b[0;34m.\u001b[0m\u001b[0mvalue_counts\u001b[0m\u001b[0;34m(\u001b[0m\u001b[0;34m)\u001b[0m\u001b[0;34m\u001b[0m\u001b[0;34m\u001b[0m\u001b[0m\n\u001b[0;32m----> 4\u001b[0;31m \u001b[0mindst_count\u001b[0m\u001b[0;34m.\u001b[0m\u001b[0mrename\u001b[0m\u001b[0;34m(\u001b[0m\u001b[0mcolunms\u001b[0m \u001b[0;34m=\u001b[0m \u001b[0;34m{\u001b[0m\u001b[0;34m'Industry'\u001b[0m\u001b[0;34m:\u001b[0m\u001b[0;34m'value_counts'\u001b[0m\u001b[0;34m}\u001b[0m\u001b[0;34m,\u001b[0m \u001b[0minplace\u001b[0m\u001b[0;34m=\u001b[0m\u001b[0;32mTrue\u001b[0m\u001b[0;34m)\u001b[0m\u001b[0;34m\u001b[0m\u001b[0;34m\u001b[0m\u001b[0m\n\u001b[0m\u001b[1;32m      5\u001b[0m \u001b[0mindst_count\u001b[0m\u001b[0;34m.\u001b[0m\u001b[0mindex\u001b[0m\u001b[0;34m.\u001b[0m\u001b[0mname\u001b[0m\u001b[0;34m=\u001b[0m\u001b[0;34m'industry'\u001b[0m\u001b[0;34m\u001b[0m\u001b[0;34m\u001b[0m\u001b[0m\n\u001b[1;32m      6\u001b[0m \u001b[0mprint\u001b[0m\u001b[0;34m(\u001b[0m\u001b[0mindst_count\u001b[0m\u001b[0;34m)\u001b[0m\u001b[0;34m\u001b[0m\u001b[0;34m\u001b[0m\u001b[0m\n",
      "\u001b[0;31mTypeError\u001b[0m: rename() got an unexpected keyword argument 'colunms'"
     ]
    }
   ],
   "source": [
    "compwh.describe()\n",
    "\n",
    "indst_count = compwh[\"Industry\"].value_counts()\n",
    "indst_count.rename(colunms = {'Industry':'value_counts'}, inplace=True)\n",
    "indst_count.index.name='industry'\n",
    "print(indst_count)"
   ]
  },
  {
   "cell_type": "code",
   "execution_count": 13,
   "id": "faee6e5e-cc45-4cb6-aa86-65256fd81d67",
   "metadata": {},
   "outputs": [
    {
     "data": {
      "text/plain": [
       "Index(['Date', 'Symbol', 'Adj Close', 'Close', 'High', 'Low', 'Open',\n",
       "       'Volume'],\n",
       "      dtype='object')"
      ]
     },
     "execution_count": 13,
     "metadata": {},
     "output_type": "execute_result"
    }
   ],
   "source": [
    "stocks.columns"
   ]
  },
  {
   "cell_type": "code",
   "execution_count": 14,
   "id": "b87755c3-ae6c-401e-8efb-0228b610d24c",
   "metadata": {},
   "outputs": [],
   "source": [
    "stockswh = pd.read_csv(\"sp500_stocks.csv\", header= None, engine='python' )\n",
    "\n",
    "#Removing first row because it is a header row\n",
    "stockswh = stockswh.iloc[1: , :]\n",
    "\n",
    "#add headers in list\n",
    "headers = ['Date', 'Symbol', 'Adj Close', 'Close', 'High', 'Low', 'Open',\n",
    "       'Volume']\n",
    "\n",
    "#assign list of header as data frame column names\n",
    "stockswh.columns=headers"
   ]
  },
  {
   "cell_type": "code",
   "execution_count": 15,
   "id": "213931ea-2de2-4646-aeb0-e791b03258c5",
   "metadata": {},
   "outputs": [
    {
     "data": {
      "text/html": [
       "<div>\n",
       "<style scoped>\n",
       "    .dataframe tbody tr th:only-of-type {\n",
       "        vertical-align: middle;\n",
       "    }\n",
       "\n",
       "    .dataframe tbody tr th {\n",
       "        vertical-align: top;\n",
       "    }\n",
       "\n",
       "    .dataframe thead th {\n",
       "        text-align: right;\n",
       "    }\n",
       "</style>\n",
       "<table border=\"1\" class=\"dataframe\">\n",
       "  <thead>\n",
       "    <tr style=\"text-align: right;\">\n",
       "      <th></th>\n",
       "      <th>Date</th>\n",
       "      <th>Symbol</th>\n",
       "      <th>Adj Close</th>\n",
       "      <th>Close</th>\n",
       "      <th>High</th>\n",
       "      <th>Low</th>\n",
       "      <th>Open</th>\n",
       "      <th>Volume</th>\n",
       "    </tr>\n",
       "  </thead>\n",
       "  <tbody>\n",
       "    <tr>\n",
       "      <th>1536711</th>\n",
       "      <td>2022-01-18</td>\n",
       "      <td>ZTS</td>\n",
       "      <td>202.375</td>\n",
       "      <td>202.6999969482422</td>\n",
       "      <td>204.2899932861328</td>\n",
       "      <td>200.3300018310547</td>\n",
       "      <td>201.8000030517578</td>\n",
       "      <td>2433800.0</td>\n",
       "    </tr>\n",
       "    <tr>\n",
       "      <th>1536712</th>\n",
       "      <td>2022-01-19</td>\n",
       "      <td>ZTS</td>\n",
       "      <td>200.5800018310547</td>\n",
       "      <td>200.5800018310547</td>\n",
       "      <td>205.89999389648438</td>\n",
       "      <td>200.05999755859375</td>\n",
       "      <td>202.83999633789062</td>\n",
       "      <td>2159600.0</td>\n",
       "    </tr>\n",
       "    <tr>\n",
       "      <th>1536713</th>\n",
       "      <td>2022-01-20</td>\n",
       "      <td>ZTS</td>\n",
       "      <td>201.9600067138672</td>\n",
       "      <td>201.9600067138672</td>\n",
       "      <td>206.25</td>\n",
       "      <td>200.97000122070312</td>\n",
       "      <td>201.0</td>\n",
       "      <td>2844200.0</td>\n",
       "    </tr>\n",
       "    <tr>\n",
       "      <th>1536714</th>\n",
       "      <td>2022-01-21</td>\n",
       "      <td>ZTS</td>\n",
       "      <td>200.3300018310547</td>\n",
       "      <td>200.3300018310547</td>\n",
       "      <td>203.7100067138672</td>\n",
       "      <td>200.27999877929688</td>\n",
       "      <td>203.11000061035156</td>\n",
       "      <td>2632700.0</td>\n",
       "    </tr>\n",
       "    <tr>\n",
       "      <th>1536715</th>\n",
       "      <td>2022-01-24</td>\n",
       "      <td>ZTS</td>\n",
       "      <td>200.07000732421875</td>\n",
       "      <td>200.07000732421875</td>\n",
       "      <td>200.13999938964844</td>\n",
       "      <td>191.52000427246094</td>\n",
       "      <td>198.0500030517578</td>\n",
       "      <td>4093425.0</td>\n",
       "    </tr>\n",
       "  </tbody>\n",
       "</table>\n",
       "</div>"
      ],
      "text/plain": [
       "               Date Symbol           Adj Close               Close  \\\n",
       "1536711  2022-01-18    ZTS             202.375   202.6999969482422   \n",
       "1536712  2022-01-19    ZTS   200.5800018310547   200.5800018310547   \n",
       "1536713  2022-01-20    ZTS   201.9600067138672   201.9600067138672   \n",
       "1536714  2022-01-21    ZTS   200.3300018310547   200.3300018310547   \n",
       "1536715  2022-01-24    ZTS  200.07000732421875  200.07000732421875   \n",
       "\n",
       "                       High                 Low                Open     Volume  \n",
       "1536711   204.2899932861328   200.3300018310547   201.8000030517578  2433800.0  \n",
       "1536712  205.89999389648438  200.05999755859375  202.83999633789062  2159600.0  \n",
       "1536713              206.25  200.97000122070312               201.0  2844200.0  \n",
       "1536714   203.7100067138672  200.27999877929688  203.11000061035156  2632700.0  \n",
       "1536715  200.13999938964844  191.52000427246094   198.0500030517578  4093425.0  "
      ]
     },
     "execution_count": 15,
     "metadata": {},
     "output_type": "execute_result"
    }
   ],
   "source": [
    "stockswh.tail()"
   ]
  },
  {
   "cell_type": "code",
   "execution_count": 16,
   "id": "7a8a347a-3081-4c3c-811d-683266cac3d2",
   "metadata": {},
   "outputs": [
    {
     "name": "stdout",
     "output_type": "stream",
     "text": [
      "              Date   Symbol          Adj Close    Close     High      Low  \\\n",
      "count      1536715  1536715            1467389  1467389  1467389  1467389   \n",
      "unique        3043      505            1155167   177572   177584   176898   \n",
      "top     2009-12-31      MMM  8.021685600280762     38.0     35.0     36.0   \n",
      "freq           505     3043                 77      236      327      276   \n",
      "\n",
      "           Open   Volume  \n",
      "count   1467389  1467389  \n",
      "unique   174908   307196  \n",
      "top        35.0      0.0  \n",
      "freq        393     1442  \n"
     ]
    }
   ],
   "source": [
    "print(stockswh.describe())"
   ]
  },
  {
   "cell_type": "code",
   "execution_count": 17,
   "id": "af58280e-2a2f-49cf-9ffe-2d3f3c94b647",
   "metadata": {},
   "outputs": [
    {
     "ename": "TypeError",
     "evalue": "rename() got an unexpected keyword argument 'colunms'",
     "output_type": "error",
     "traceback": [
      "\u001b[0;31m---------------------------------------------------------------------------\u001b[0m",
      "\u001b[0;31mTypeError\u001b[0m                                 Traceback (most recent call last)",
      "\u001b[0;32m/var/folders/1q/zwcvzgvj6g7g90n6ptt7_jbw0000gn/T/ipykernel_5178/959613420.py\u001b[0m in \u001b[0;36m<module>\u001b[0;34m\u001b[0m\n\u001b[1;32m      7\u001b[0m \u001b[0;31m#values_counts for categorical attributes\u001b[0m\u001b[0;34m\u001b[0m\u001b[0;34m\u001b[0m\u001b[0m\n\u001b[1;32m      8\u001b[0m \u001b[0msymbol_count\u001b[0m\u001b[0;34m=\u001b[0m\u001b[0mstockswh\u001b[0m\u001b[0;34m[\u001b[0m\u001b[0;34m\"Symbol\"\u001b[0m\u001b[0;34m]\u001b[0m\u001b[0;34m.\u001b[0m\u001b[0mvalue_counts\u001b[0m\u001b[0;34m(\u001b[0m\u001b[0;34m)\u001b[0m\u001b[0;34m\u001b[0m\u001b[0;34m\u001b[0m\u001b[0m\n\u001b[0;32m----> 9\u001b[0;31m \u001b[0msymbol_count\u001b[0m\u001b[0;34m.\u001b[0m\u001b[0mrename\u001b[0m\u001b[0;34m(\u001b[0m\u001b[0mcolunms\u001b[0m\u001b[0;34m=\u001b[0m\u001b[0;34m{\u001b[0m\u001b[0;34m'Symbol'\u001b[0m\u001b[0;34m:\u001b[0m\u001b[0;34m'value_counts'\u001b[0m\u001b[0;34m}\u001b[0m\u001b[0;34m,\u001b[0m \u001b[0minplace\u001b[0m\u001b[0;34m=\u001b[0m\u001b[0;32mTrue\u001b[0m\u001b[0;34m)\u001b[0m\u001b[0;34m\u001b[0m\u001b[0;34m\u001b[0m\u001b[0m\n\u001b[0m\u001b[1;32m     10\u001b[0m \u001b[0msymbol_count\u001b[0m\u001b[0;34m.\u001b[0m\u001b[0mindex\u001b[0m\u001b[0;34m.\u001b[0m\u001b[0mname\u001b[0m\u001b[0;34m=\u001b[0m\u001b[0;34m'Symbol'\u001b[0m\u001b[0;34m\u001b[0m\u001b[0;34m\u001b[0m\u001b[0m\n\u001b[1;32m     11\u001b[0m \u001b[0mprint\u001b[0m\u001b[0;34m(\u001b[0m\u001b[0msymbol_count\u001b[0m\u001b[0;34m)\u001b[0m\u001b[0;34m\u001b[0m\u001b[0;34m\u001b[0m\u001b[0m\n",
      "\u001b[0;31mTypeError\u001b[0m: rename() got an unexpected keyword argument 'colunms'"
     ]
    }
   ],
   "source": [
    "#*************************************************************************\n",
    "#******************* Exploratory data analysis ***************************\n",
    "#*************************************************************************\n",
    "#Descrptive statistics\n",
    "#describe for numeric values\n",
    "stockswh.describe()\n",
    "#values_counts for categorical attributes\n",
    "symbol_count=stockswh[\"Symbol\"].value_counts()\n",
    "symbol_count.rename(colunms={'Symbol':'value_counts'}, inplace=True)\n",
    "symbol_count.index.name='Symbol'\n",
    "print(symbol_count)"
   ]
  },
  {
   "cell_type": "code",
   "execution_count": null,
   "id": "de072305-1c40-4056-b1cb-2ddc40c77159",
   "metadata": {},
   "outputs": [],
   "source": [
    "#boxplots\n",
    "#sb.boxplot(x=\"drive-wheels\",y=\"price\",data=dfwh)\n",
    "#scatterplto\n",
    "sb.regplot(x=\"Open\", y=\"Volume\", data=stockswh)"
   ]
  },
  {
   "cell_type": "code",
   "execution_count": null,
   "id": "7f97870b-c4d5-40f9-9f1e-3796691a2e06",
   "metadata": {},
   "outputs": [],
   "source": []
  }
 ],
 "metadata": {
  "kernelspec": {
   "display_name": "Python 3 (ipykernel)",
   "language": "python",
   "name": "python3"
  },
  "language_info": {
   "codemirror_mode": {
    "name": "ipython",
    "version": 3
   },
   "file_extension": ".py",
   "mimetype": "text/x-python",
   "name": "python",
   "nbconvert_exporter": "python",
   "pygments_lexer": "ipython3",
   "version": "3.9.7"
  }
 },
 "nbformat": 4,
 "nbformat_minor": 5
}
