{
  "nbformat": 4,
  "nbformat_minor": 0,
  "metadata": {
    "colab": {
      "name": "LinearRegression.ipynb",
      "provenance": [],
      "collapsed_sections": [],
      "mount_file_id": "1QWAnkuF40jnDXoNhdfX-Ikc8qpT0uLE3",
      "authorship_tag": "ABX9TyMDeN/PjnPWxk98baArNhIE",
      "include_colab_link": true
    },
    "kernelspec": {
      "name": "python3",
      "display_name": "Python 3"
    },
    "language_info": {
      "name": "python"
    }
  },
  "cells": [
    {
      "cell_type": "markdown",
      "metadata": {
        "id": "view-in-github",
        "colab_type": "text"
      },
      "source": [
        "<a href=\"https://colab.research.google.com/github/apollman/infm-456/blob/main/Final_Pres/LinearRegression.ipynb\" target=\"_parent\"><img src=\"https://colab.research.google.com/assets/colab-badge.svg\" alt=\"Open In Colab\"/></a>"
      ]
    },
    {
      "cell_type": "code",
      "execution_count": null,
      "metadata": {
        "id": "T6fXXqE4gLIJ"
      },
      "outputs": [],
      "source": [
        "#Import libraries\n",
        "import numpy as np\n",
        "import matplotlib.pyplot as plt\n",
        "import pandas as pd\n"
      ]
    },
    {
      "cell_type": "code",
      "source": [
        "compwh = pd.read_csv(\"/content/drive/MyDrive/Colab Notebooks/sp500_companies.csv\", header= None, engine='python' )\n",
        "compwh = compwh.iloc[1: , :]\n",
        "\n",
        "c_headers=[\"Exchange\", \"Symbol\", \"Shortname\", \"Longname\", \"Sector\", \"Industry\",\n",
        "       \"Currentprice\", \"Marketcap\", \"Ebitda\", \"Revenuegrowth\", \"City\", \"State\",\n",
        "      \"Country\", \"Fulltimeemployees\", \"Longbusinesssummary\", \"Weight\"]\n",
        "\n",
        "compwh.columns= c_headers"
      ],
      "metadata": {
        "id": "YqgSIOv2iGv3"
      },
      "execution_count": null,
      "outputs": []
    },
    {
      "cell_type": "code",
      "source": [
        "to_drop = ['Marketcap', 'Ebitda', 'Revenuegrowth', \n",
        "           'City', 'State', 'Country', \n",
        "           'Fulltimeemployees', 'Weight', 'Currentprice', \n",
        "           'Longbusinesssummary']\n",
        "compwh.drop(to_drop, inplace=True, axis=1)\n",
        "compwh.head()"
      ],
      "metadata": {
        "colab": {
          "base_uri": "https://localhost:8080/",
          "height": 333
        },
        "id": "toHp7YeGHnDz",
        "outputId": "6a33414d-ac5a-4c45-c758-db8287a682bf"
      },
      "execution_count": null,
      "outputs": [
        {
          "output_type": "execute_result",
          "data": {
            "text/plain": [
              "  Exchange Symbol              Shortname               Longname  \\\n",
              "1      NMS   AAPL             Apple Inc.             Apple Inc.   \n",
              "2      NMS   MSFT  Microsoft Corporation  Microsoft Corporation   \n",
              "3      NMS  GOOGL          Alphabet Inc.          Alphabet Inc.   \n",
              "4      NMS   GOOG          Alphabet Inc.          Alphabet Inc.   \n",
              "5      NMS   AMZN       Amazon.com, Inc.       Amazon.com, Inc.   \n",
              "\n",
              "                   Sector                        Industry  \n",
              "1              Technology            Consumer Electronics  \n",
              "2              Technology         Software—Infrastructure  \n",
              "3  Communication Services  Internet Content & Information  \n",
              "4  Communication Services  Internet Content & Information  \n",
              "5       Consumer Cyclical                 Internet Retail  "
            ],
            "text/html": [
              "\n",
              "  <div id=\"df-183a22d1-0e9c-4c43-973e-9e0b66c8f9eb\">\n",
              "    <div class=\"colab-df-container\">\n",
              "      <div>\n",
              "<style scoped>\n",
              "    .dataframe tbody tr th:only-of-type {\n",
              "        vertical-align: middle;\n",
              "    }\n",
              "\n",
              "    .dataframe tbody tr th {\n",
              "        vertical-align: top;\n",
              "    }\n",
              "\n",
              "    .dataframe thead th {\n",
              "        text-align: right;\n",
              "    }\n",
              "</style>\n",
              "<table border=\"1\" class=\"dataframe\">\n",
              "  <thead>\n",
              "    <tr style=\"text-align: right;\">\n",
              "      <th></th>\n",
              "      <th>Exchange</th>\n",
              "      <th>Symbol</th>\n",
              "      <th>Shortname</th>\n",
              "      <th>Longname</th>\n",
              "      <th>Sector</th>\n",
              "      <th>Industry</th>\n",
              "    </tr>\n",
              "  </thead>\n",
              "  <tbody>\n",
              "    <tr>\n",
              "      <th>1</th>\n",
              "      <td>NMS</td>\n",
              "      <td>AAPL</td>\n",
              "      <td>Apple Inc.</td>\n",
              "      <td>Apple Inc.</td>\n",
              "      <td>Technology</td>\n",
              "      <td>Consumer Electronics</td>\n",
              "    </tr>\n",
              "    <tr>\n",
              "      <th>2</th>\n",
              "      <td>NMS</td>\n",
              "      <td>MSFT</td>\n",
              "      <td>Microsoft Corporation</td>\n",
              "      <td>Microsoft Corporation</td>\n",
              "      <td>Technology</td>\n",
              "      <td>Software—Infrastructure</td>\n",
              "    </tr>\n",
              "    <tr>\n",
              "      <th>3</th>\n",
              "      <td>NMS</td>\n",
              "      <td>GOOGL</td>\n",
              "      <td>Alphabet Inc.</td>\n",
              "      <td>Alphabet Inc.</td>\n",
              "      <td>Communication Services</td>\n",
              "      <td>Internet Content &amp; Information</td>\n",
              "    </tr>\n",
              "    <tr>\n",
              "      <th>4</th>\n",
              "      <td>NMS</td>\n",
              "      <td>GOOG</td>\n",
              "      <td>Alphabet Inc.</td>\n",
              "      <td>Alphabet Inc.</td>\n",
              "      <td>Communication Services</td>\n",
              "      <td>Internet Content &amp; Information</td>\n",
              "    </tr>\n",
              "    <tr>\n",
              "      <th>5</th>\n",
              "      <td>NMS</td>\n",
              "      <td>AMZN</td>\n",
              "      <td>Amazon.com, Inc.</td>\n",
              "      <td>Amazon.com, Inc.</td>\n",
              "      <td>Consumer Cyclical</td>\n",
              "      <td>Internet Retail</td>\n",
              "    </tr>\n",
              "  </tbody>\n",
              "</table>\n",
              "</div>\n",
              "      <button class=\"colab-df-convert\" onclick=\"convertToInteractive('df-183a22d1-0e9c-4c43-973e-9e0b66c8f9eb')\"\n",
              "              title=\"Convert this dataframe to an interactive table.\"\n",
              "              style=\"display:none;\">\n",
              "        \n",
              "  <svg xmlns=\"http://www.w3.org/2000/svg\" height=\"24px\"viewBox=\"0 0 24 24\"\n",
              "       width=\"24px\">\n",
              "    <path d=\"M0 0h24v24H0V0z\" fill=\"none\"/>\n",
              "    <path d=\"M18.56 5.44l.94 2.06.94-2.06 2.06-.94-2.06-.94-.94-2.06-.94 2.06-2.06.94zm-11 1L8.5 8.5l.94-2.06 2.06-.94-2.06-.94L8.5 2.5l-.94 2.06-2.06.94zm10 10l.94 2.06.94-2.06 2.06-.94-2.06-.94-.94-2.06-.94 2.06-2.06.94z\"/><path d=\"M17.41 7.96l-1.37-1.37c-.4-.4-.92-.59-1.43-.59-.52 0-1.04.2-1.43.59L10.3 9.45l-7.72 7.72c-.78.78-.78 2.05 0 2.83L4 21.41c.39.39.9.59 1.41.59.51 0 1.02-.2 1.41-.59l7.78-7.78 2.81-2.81c.8-.78.8-2.07 0-2.86zM5.41 20L4 18.59l7.72-7.72 1.47 1.35L5.41 20z\"/>\n",
              "  </svg>\n",
              "      </button>\n",
              "      \n",
              "  <style>\n",
              "    .colab-df-container {\n",
              "      display:flex;\n",
              "      flex-wrap:wrap;\n",
              "      gap: 12px;\n",
              "    }\n",
              "\n",
              "    .colab-df-convert {\n",
              "      background-color: #E8F0FE;\n",
              "      border: none;\n",
              "      border-radius: 50%;\n",
              "      cursor: pointer;\n",
              "      display: none;\n",
              "      fill: #1967D2;\n",
              "      height: 32px;\n",
              "      padding: 0 0 0 0;\n",
              "      width: 32px;\n",
              "    }\n",
              "\n",
              "    .colab-df-convert:hover {\n",
              "      background-color: #E2EBFA;\n",
              "      box-shadow: 0px 1px 2px rgba(60, 64, 67, 0.3), 0px 1px 3px 1px rgba(60, 64, 67, 0.15);\n",
              "      fill: #174EA6;\n",
              "    }\n",
              "\n",
              "    [theme=dark] .colab-df-convert {\n",
              "      background-color: #3B4455;\n",
              "      fill: #D2E3FC;\n",
              "    }\n",
              "\n",
              "    [theme=dark] .colab-df-convert:hover {\n",
              "      background-color: #434B5C;\n",
              "      box-shadow: 0px 1px 3px 1px rgba(0, 0, 0, 0.15);\n",
              "      filter: drop-shadow(0px 1px 2px rgba(0, 0, 0, 0.3));\n",
              "      fill: #FFFFFF;\n",
              "    }\n",
              "  </style>\n",
              "\n",
              "      <script>\n",
              "        const buttonEl =\n",
              "          document.querySelector('#df-183a22d1-0e9c-4c43-973e-9e0b66c8f9eb button.colab-df-convert');\n",
              "        buttonEl.style.display =\n",
              "          google.colab.kernel.accessAllowed ? 'block' : 'none';\n",
              "\n",
              "        async function convertToInteractive(key) {\n",
              "          const element = document.querySelector('#df-183a22d1-0e9c-4c43-973e-9e0b66c8f9eb');\n",
              "          const dataTable =\n",
              "            await google.colab.kernel.invokeFunction('convertToInteractive',\n",
              "                                                     [key], {});\n",
              "          if (!dataTable) return;\n",
              "\n",
              "          const docLinkHtml = 'Like what you see? Visit the ' +\n",
              "            '<a target=\"_blank\" href=https://colab.research.google.com/notebooks/data_table.ipynb>data table notebook</a>'\n",
              "            + ' to learn more about interactive tables.';\n",
              "          element.innerHTML = '';\n",
              "          dataTable['output_type'] = 'display_data';\n",
              "          await google.colab.output.renderOutput(dataTable, element);\n",
              "          const docLink = document.createElement('div');\n",
              "          docLink.innerHTML = docLinkHtml;\n",
              "          element.appendChild(docLink);\n",
              "        }\n",
              "      </script>\n",
              "    </div>\n",
              "  </div>\n",
              "  "
            ]
          },
          "metadata": {},
          "execution_count": 11
        }
      ]
    },
    {
      "cell_type": "code",
      "source": [
        "stckwh = pd.read_csv(\"/content/drive/MyDrive/Colab Notebooks/sp500_stocks.csv\", header= None, engine='python')\n",
        "stckwh = stckwh.iloc[1: , :]\n",
        "s_headers = ['Date', 'Symbol', 'Adj_Close', 'Close', 'High', 'Low', 'Open',\n",
        "       'Volume']\n",
        "stckwh.columns = s_headers\n",
        "stckwh = stckwh[stckwh.Date >= '2018-03-01']"
      ],
      "metadata": {
        "id": "4jFtaFO5HzXp"
      },
      "execution_count": null,
      "outputs": []
    },
    {
      "cell_type": "code",
      "source": [
        "merged_data = stckwh.merge(compwh,on=[\"Symbol\"])\n",
        "merged_data.head()"
      ],
      "metadata": {
        "colab": {
          "base_uri": "https://localhost:8080/",
          "height": 353
        },
        "id": "JjDxRzP4InAk",
        "outputId": "d855585d-ad9e-443f-c63a-ef3cf267dffe"
      },
      "execution_count": null,
      "outputs": [
        {
          "output_type": "execute_result",
          "data": {
            "text/plain": [
              "         Date Symbol           Adj_Close               Close  \\\n",
              "0  2018-03-01    MMM   204.9241943359375  231.33999633789062   \n",
              "1  2018-03-02    MMM  204.06497192382812   230.3699951171875   \n",
              "2  2018-03-05    MMM  206.22637939453125  232.80999755859375   \n",
              "3  2018-03-06    MMM   206.9793243408203  233.66000366210938   \n",
              "4  2018-03-07    MMM   208.6712188720703  235.57000732421875   \n",
              "\n",
              "                 High                 Low                Open     Volume  \\\n",
              "0   236.8300018310547  229.52999877929688  236.14999389648438  3487100.0   \n",
              "1  231.27000427246094   226.3300018310547              229.75  2912800.0   \n",
              "2   233.7100067138672  228.52999877929688               230.0  2235300.0   \n",
              "3   235.9199981689453   230.8000030517578   234.0500030517578  2091100.0   \n",
              "4  236.22000122070312  230.58999633789062  231.22000122070312  2213800.0   \n",
              "\n",
              "  Exchange   Shortname    Longname       Sector       Industry  \n",
              "0      NYQ  3M Company  3M Company  Industrials  Conglomerates  \n",
              "1      NYQ  3M Company  3M Company  Industrials  Conglomerates  \n",
              "2      NYQ  3M Company  3M Company  Industrials  Conglomerates  \n",
              "3      NYQ  3M Company  3M Company  Industrials  Conglomerates  \n",
              "4      NYQ  3M Company  3M Company  Industrials  Conglomerates  "
            ],
            "text/html": [
              "\n",
              "  <div id=\"df-a2ae10fd-2304-4ff3-b03b-5967218c7e19\">\n",
              "    <div class=\"colab-df-container\">\n",
              "      <div>\n",
              "<style scoped>\n",
              "    .dataframe tbody tr th:only-of-type {\n",
              "        vertical-align: middle;\n",
              "    }\n",
              "\n",
              "    .dataframe tbody tr th {\n",
              "        vertical-align: top;\n",
              "    }\n",
              "\n",
              "    .dataframe thead th {\n",
              "        text-align: right;\n",
              "    }\n",
              "</style>\n",
              "<table border=\"1\" class=\"dataframe\">\n",
              "  <thead>\n",
              "    <tr style=\"text-align: right;\">\n",
              "      <th></th>\n",
              "      <th>Date</th>\n",
              "      <th>Symbol</th>\n",
              "      <th>Adj_Close</th>\n",
              "      <th>Close</th>\n",
              "      <th>High</th>\n",
              "      <th>Low</th>\n",
              "      <th>Open</th>\n",
              "      <th>Volume</th>\n",
              "      <th>Exchange</th>\n",
              "      <th>Shortname</th>\n",
              "      <th>Longname</th>\n",
              "      <th>Sector</th>\n",
              "      <th>Industry</th>\n",
              "    </tr>\n",
              "  </thead>\n",
              "  <tbody>\n",
              "    <tr>\n",
              "      <th>0</th>\n",
              "      <td>2018-03-01</td>\n",
              "      <td>MMM</td>\n",
              "      <td>204.9241943359375</td>\n",
              "      <td>231.33999633789062</td>\n",
              "      <td>236.8300018310547</td>\n",
              "      <td>229.52999877929688</td>\n",
              "      <td>236.14999389648438</td>\n",
              "      <td>3487100.0</td>\n",
              "      <td>NYQ</td>\n",
              "      <td>3M Company</td>\n",
              "      <td>3M Company</td>\n",
              "      <td>Industrials</td>\n",
              "      <td>Conglomerates</td>\n",
              "    </tr>\n",
              "    <tr>\n",
              "      <th>1</th>\n",
              "      <td>2018-03-02</td>\n",
              "      <td>MMM</td>\n",
              "      <td>204.06497192382812</td>\n",
              "      <td>230.3699951171875</td>\n",
              "      <td>231.27000427246094</td>\n",
              "      <td>226.3300018310547</td>\n",
              "      <td>229.75</td>\n",
              "      <td>2912800.0</td>\n",
              "      <td>NYQ</td>\n",
              "      <td>3M Company</td>\n",
              "      <td>3M Company</td>\n",
              "      <td>Industrials</td>\n",
              "      <td>Conglomerates</td>\n",
              "    </tr>\n",
              "    <tr>\n",
              "      <th>2</th>\n",
              "      <td>2018-03-05</td>\n",
              "      <td>MMM</td>\n",
              "      <td>206.22637939453125</td>\n",
              "      <td>232.80999755859375</td>\n",
              "      <td>233.7100067138672</td>\n",
              "      <td>228.52999877929688</td>\n",
              "      <td>230.0</td>\n",
              "      <td>2235300.0</td>\n",
              "      <td>NYQ</td>\n",
              "      <td>3M Company</td>\n",
              "      <td>3M Company</td>\n",
              "      <td>Industrials</td>\n",
              "      <td>Conglomerates</td>\n",
              "    </tr>\n",
              "    <tr>\n",
              "      <th>3</th>\n",
              "      <td>2018-03-06</td>\n",
              "      <td>MMM</td>\n",
              "      <td>206.9793243408203</td>\n",
              "      <td>233.66000366210938</td>\n",
              "      <td>235.9199981689453</td>\n",
              "      <td>230.8000030517578</td>\n",
              "      <td>234.0500030517578</td>\n",
              "      <td>2091100.0</td>\n",
              "      <td>NYQ</td>\n",
              "      <td>3M Company</td>\n",
              "      <td>3M Company</td>\n",
              "      <td>Industrials</td>\n",
              "      <td>Conglomerates</td>\n",
              "    </tr>\n",
              "    <tr>\n",
              "      <th>4</th>\n",
              "      <td>2018-03-07</td>\n",
              "      <td>MMM</td>\n",
              "      <td>208.6712188720703</td>\n",
              "      <td>235.57000732421875</td>\n",
              "      <td>236.22000122070312</td>\n",
              "      <td>230.58999633789062</td>\n",
              "      <td>231.22000122070312</td>\n",
              "      <td>2213800.0</td>\n",
              "      <td>NYQ</td>\n",
              "      <td>3M Company</td>\n",
              "      <td>3M Company</td>\n",
              "      <td>Industrials</td>\n",
              "      <td>Conglomerates</td>\n",
              "    </tr>\n",
              "  </tbody>\n",
              "</table>\n",
              "</div>\n",
              "      <button class=\"colab-df-convert\" onclick=\"convertToInteractive('df-a2ae10fd-2304-4ff3-b03b-5967218c7e19')\"\n",
              "              title=\"Convert this dataframe to an interactive table.\"\n",
              "              style=\"display:none;\">\n",
              "        \n",
              "  <svg xmlns=\"http://www.w3.org/2000/svg\" height=\"24px\"viewBox=\"0 0 24 24\"\n",
              "       width=\"24px\">\n",
              "    <path d=\"M0 0h24v24H0V0z\" fill=\"none\"/>\n",
              "    <path d=\"M18.56 5.44l.94 2.06.94-2.06 2.06-.94-2.06-.94-.94-2.06-.94 2.06-2.06.94zm-11 1L8.5 8.5l.94-2.06 2.06-.94-2.06-.94L8.5 2.5l-.94 2.06-2.06.94zm10 10l.94 2.06.94-2.06 2.06-.94-2.06-.94-.94-2.06-.94 2.06-2.06.94z\"/><path d=\"M17.41 7.96l-1.37-1.37c-.4-.4-.92-.59-1.43-.59-.52 0-1.04.2-1.43.59L10.3 9.45l-7.72 7.72c-.78.78-.78 2.05 0 2.83L4 21.41c.39.39.9.59 1.41.59.51 0 1.02-.2 1.41-.59l7.78-7.78 2.81-2.81c.8-.78.8-2.07 0-2.86zM5.41 20L4 18.59l7.72-7.72 1.47 1.35L5.41 20z\"/>\n",
              "  </svg>\n",
              "      </button>\n",
              "      \n",
              "  <style>\n",
              "    .colab-df-container {\n",
              "      display:flex;\n",
              "      flex-wrap:wrap;\n",
              "      gap: 12px;\n",
              "    }\n",
              "\n",
              "    .colab-df-convert {\n",
              "      background-color: #E8F0FE;\n",
              "      border: none;\n",
              "      border-radius: 50%;\n",
              "      cursor: pointer;\n",
              "      display: none;\n",
              "      fill: #1967D2;\n",
              "      height: 32px;\n",
              "      padding: 0 0 0 0;\n",
              "      width: 32px;\n",
              "    }\n",
              "\n",
              "    .colab-df-convert:hover {\n",
              "      background-color: #E2EBFA;\n",
              "      box-shadow: 0px 1px 2px rgba(60, 64, 67, 0.3), 0px 1px 3px 1px rgba(60, 64, 67, 0.15);\n",
              "      fill: #174EA6;\n",
              "    }\n",
              "\n",
              "    [theme=dark] .colab-df-convert {\n",
              "      background-color: #3B4455;\n",
              "      fill: #D2E3FC;\n",
              "    }\n",
              "\n",
              "    [theme=dark] .colab-df-convert:hover {\n",
              "      background-color: #434B5C;\n",
              "      box-shadow: 0px 1px 3px 1px rgba(0, 0, 0, 0.15);\n",
              "      filter: drop-shadow(0px 1px 2px rgba(0, 0, 0, 0.3));\n",
              "      fill: #FFFFFF;\n",
              "    }\n",
              "  </style>\n",
              "\n",
              "      <script>\n",
              "        const buttonEl =\n",
              "          document.querySelector('#df-a2ae10fd-2304-4ff3-b03b-5967218c7e19 button.colab-df-convert');\n",
              "        buttonEl.style.display =\n",
              "          google.colab.kernel.accessAllowed ? 'block' : 'none';\n",
              "\n",
              "        async function convertToInteractive(key) {\n",
              "          const element = document.querySelector('#df-a2ae10fd-2304-4ff3-b03b-5967218c7e19');\n",
              "          const dataTable =\n",
              "            await google.colab.kernel.invokeFunction('convertToInteractive',\n",
              "                                                     [key], {});\n",
              "          if (!dataTable) return;\n",
              "\n",
              "          const docLinkHtml = 'Like what you see? Visit the ' +\n",
              "            '<a target=\"_blank\" href=https://colab.research.google.com/notebooks/data_table.ipynb>data table notebook</a>'\n",
              "            + ' to learn more about interactive tables.';\n",
              "          element.innerHTML = '';\n",
              "          dataTable['output_type'] = 'display_data';\n",
              "          await google.colab.output.renderOutput(dataTable, element);\n",
              "          const docLink = document.createElement('div');\n",
              "          docLink.innerHTML = docLinkHtml;\n",
              "          element.appendChild(docLink);\n",
              "        }\n",
              "      </script>\n",
              "    </div>\n",
              "  </div>\n",
              "  "
            ]
          },
          "metadata": {},
          "execution_count": 14
        }
      ]
    },
    {
      "cell_type": "code",
      "source": [
        "merged_data[\"Adj_Close\"] = merged_data[\"Adj_Close\"].astype(str).astype(float)\n",
        "merged_data[\"Volume\"] = merged_data[\"Volume\"].astype(str).astype(float)\n",
        "merged_data[\"Close\"] = merged_data[\"Close\"].astype(str).astype(float)\n",
        "merged_data[\"High\"] = merged_data[\"High\"].astype(str).astype(float)\n",
        "merged_data[\"Low\"] = merged_data[\"Low\"].astype(str).astype(float)\n",
        "merged_data[\"Open\"] = merged_data[\"Open\"].astype(str).astype(float)"
      ],
      "metadata": {
        "id": "55-WxpWkIpTN"
      },
      "execution_count": null,
      "outputs": []
    },
    {
      "cell_type": "code",
      "source": [
        "#Changing NaN Values to O\n",
        "merged_data[\"Adj_Close\"]=merged_data[\"Adj_Close\"].fillna(0)\n",
        "#Removing NaN Values\n",
        "dropvalue=merged_data[merged_data[\"Adj_Close\"]== 0]\n",
        "merged_data.drop(dropvalue.index,axis=0,inplace=True)"
      ],
      "metadata": {
        "id": "utQqAcvrIwIJ"
      },
      "execution_count": null,
      "outputs": []
    },
    {
      "cell_type": "code",
      "source": [
        "merged_data = merged_data.dropna()\n",
        "merged_data['Date'] = merged_data['Date'].astype('datetime64[ns]')"
      ],
      "metadata": {
        "id": "9qFjXUAgI1ZF"
      },
      "execution_count": null,
      "outputs": []
    },
    {
      "cell_type": "code",
      "source": [
        "aapl = merged_data[merged_data.Symbol == 'AAPL']"
      ],
      "metadata": {
        "id": "sw7GUcI7JIYb"
      },
      "execution_count": null,
      "outputs": []
    },
    {
      "cell_type": "code",
      "source": [
        "aapl['returns'] = np.log(aapl.Close.pct_change() + 1)"
      ],
      "metadata": {
        "colab": {
          "base_uri": "https://localhost:8080/"
        },
        "id": "GP2XvMR4JMZL",
        "outputId": "be85e8c4-835d-4bc3-9ba8-072ada0cae0a"
      },
      "execution_count": null,
      "outputs": [
        {
          "output_type": "stream",
          "name": "stderr",
          "text": [
            "/usr/local/lib/python3.7/dist-packages/ipykernel_launcher.py:1: SettingWithCopyWarning: \n",
            "A value is trying to be set on a copy of a slice from a DataFrame.\n",
            "Try using .loc[row_indexer,col_indexer] = value instead\n",
            "\n",
            "See the caveats in the documentation: https://pandas.pydata.org/pandas-docs/stable/user_guide/indexing.html#returning-a-view-versus-a-copy\n",
            "  \"\"\"Entry point for launching an IPython kernel.\n"
          ]
        }
      ]
    },
    {
      "cell_type": "code",
      "source": [
        "def lagit(df, lags):\n",
        "    names = []\n",
        "    for i in range(1, lags +1):\n",
        "      df['Lag_' + str(i)] = df['returns'].shift(i)\n",
        "      names.append('Lag_'+str(i))\n",
        "    return names\n"
      ],
      "metadata": {
        "id": "xRSKbeXjM0Hc"
      },
      "execution_count": null,
      "outputs": []
    },
    {
      "cell_type": "code",
      "source": [
        "lagnames = lagit(aapl, 5)"
      ],
      "metadata": {
        "colab": {
          "base_uri": "https://localhost:8080/"
        },
        "id": "oUCYEYjQOZIB",
        "outputId": "e50040f5-9465-400e-e74f-3ba8d9c18e68"
      },
      "execution_count": null,
      "outputs": [
        {
          "output_type": "stream",
          "name": "stderr",
          "text": [
            "/usr/local/lib/python3.7/dist-packages/ipykernel_launcher.py:4: SettingWithCopyWarning: \n",
            "A value is trying to be set on a copy of a slice from a DataFrame.\n",
            "Try using .loc[row_indexer,col_indexer] = value instead\n",
            "\n",
            "See the caveats in the documentation: https://pandas.pydata.org/pandas-docs/stable/user_guide/indexing.html#returning-a-view-versus-a-copy\n",
            "  after removing the cwd from sys.path.\n"
          ]
        }
      ]
    },
    {
      "cell_type": "code",
      "source": [
        "lagnames"
      ],
      "metadata": {
        "colab": {
          "base_uri": "https://localhost:8080/"
        },
        "id": "NLKawbBPOgzd",
        "outputId": "244392d0-f2ad-4077-9865-909abc9ca7de"
      },
      "execution_count": null,
      "outputs": [
        {
          "output_type": "execute_result",
          "data": {
            "text/plain": [
              "['Lag_1', 'Lag_2', 'Lag_3', 'Lag_4', 'Lag_5']"
            ]
          },
          "metadata": {},
          "execution_count": 44
        }
      ]
    },
    {
      "cell_type": "code",
      "source": [
        "aapl.head()"
      ],
      "metadata": {
        "colab": {
          "base_uri": "https://localhost:8080/",
          "height": 353
        },
        "id": "V7v0P9E1OplK",
        "outputId": "856be98e-6aa2-4e19-e482-45463814055c"
      },
      "execution_count": null,
      "outputs": [
        {
          "output_type": "execute_result",
          "data": {
            "text/plain": [
              "            Date Symbol  Adj_Close      Close       High        Low  \\\n",
              "43296 2018-03-01   AAPL  42.138268  43.750000  44.945000  43.165001   \n",
              "43297 2018-03-02   AAPL  42.429626  44.052502  44.075001  43.112499   \n",
              "43298 2018-03-05   AAPL  42.576511  44.205002  44.435001  43.630001   \n",
              "43299 2018-03-06   AAPL  42.540394  44.167500  44.562500  44.032501   \n",
              "43300 2018-03-07   AAPL  42.145489  43.757500  43.962502  43.567501   \n",
              "\n",
              "            Open       Volume Exchange   Shortname    Longname      Sector  \\\n",
              "43296  44.634998  195208000.0      NMS  Apple Inc.  Apple Inc.  Technology   \n",
              "43297  43.200001  153816000.0      NMS  Apple Inc.  Apple Inc.  Technology   \n",
              "43298  43.802502  113605600.0      NMS  Apple Inc.  Apple Inc.  Technology   \n",
              "43299  44.477501   95154000.0      NMS  Apple Inc.  Apple Inc.  Technology   \n",
              "43300  43.735001  126814000.0      NMS  Apple Inc.  Apple Inc.  Technology   \n",
              "\n",
              "                   Industry   returns     Lag_1     Lag_2     Lag_3  Lag_4  \\\n",
              "43296  Consumer Electronics       NaN       NaN       NaN       NaN    NaN   \n",
              "43297  Consumer Electronics  0.006891       NaN       NaN       NaN    NaN   \n",
              "43298  Consumer Electronics  0.003456  0.006891       NaN       NaN    NaN   \n",
              "43299  Consumer Electronics -0.000849  0.003456  0.006891       NaN    NaN   \n",
              "43300  Consumer Electronics -0.009326 -0.000849  0.003456  0.006891    NaN   \n",
              "\n",
              "       Lag_5  \n",
              "43296    NaN  \n",
              "43297    NaN  \n",
              "43298    NaN  \n",
              "43299    NaN  \n",
              "43300    NaN  "
            ],
            "text/html": [
              "\n",
              "  <div id=\"df-f594454a-cbfc-4c5c-9c65-338e1a3d957c\">\n",
              "    <div class=\"colab-df-container\">\n",
              "      <div>\n",
              "<style scoped>\n",
              "    .dataframe tbody tr th:only-of-type {\n",
              "        vertical-align: middle;\n",
              "    }\n",
              "\n",
              "    .dataframe tbody tr th {\n",
              "        vertical-align: top;\n",
              "    }\n",
              "\n",
              "    .dataframe thead th {\n",
              "        text-align: right;\n",
              "    }\n",
              "</style>\n",
              "<table border=\"1\" class=\"dataframe\">\n",
              "  <thead>\n",
              "    <tr style=\"text-align: right;\">\n",
              "      <th></th>\n",
              "      <th>Date</th>\n",
              "      <th>Symbol</th>\n",
              "      <th>Adj_Close</th>\n",
              "      <th>Close</th>\n",
              "      <th>High</th>\n",
              "      <th>Low</th>\n",
              "      <th>Open</th>\n",
              "      <th>Volume</th>\n",
              "      <th>Exchange</th>\n",
              "      <th>Shortname</th>\n",
              "      <th>Longname</th>\n",
              "      <th>Sector</th>\n",
              "      <th>Industry</th>\n",
              "      <th>returns</th>\n",
              "      <th>Lag_1</th>\n",
              "      <th>Lag_2</th>\n",
              "      <th>Lag_3</th>\n",
              "      <th>Lag_4</th>\n",
              "      <th>Lag_5</th>\n",
              "    </tr>\n",
              "  </thead>\n",
              "  <tbody>\n",
              "    <tr>\n",
              "      <th>43296</th>\n",
              "      <td>2018-03-01</td>\n",
              "      <td>AAPL</td>\n",
              "      <td>42.138268</td>\n",
              "      <td>43.750000</td>\n",
              "      <td>44.945000</td>\n",
              "      <td>43.165001</td>\n",
              "      <td>44.634998</td>\n",
              "      <td>195208000.0</td>\n",
              "      <td>NMS</td>\n",
              "      <td>Apple Inc.</td>\n",
              "      <td>Apple Inc.</td>\n",
              "      <td>Technology</td>\n",
              "      <td>Consumer Electronics</td>\n",
              "      <td>NaN</td>\n",
              "      <td>NaN</td>\n",
              "      <td>NaN</td>\n",
              "      <td>NaN</td>\n",
              "      <td>NaN</td>\n",
              "      <td>NaN</td>\n",
              "    </tr>\n",
              "    <tr>\n",
              "      <th>43297</th>\n",
              "      <td>2018-03-02</td>\n",
              "      <td>AAPL</td>\n",
              "      <td>42.429626</td>\n",
              "      <td>44.052502</td>\n",
              "      <td>44.075001</td>\n",
              "      <td>43.112499</td>\n",
              "      <td>43.200001</td>\n",
              "      <td>153816000.0</td>\n",
              "      <td>NMS</td>\n",
              "      <td>Apple Inc.</td>\n",
              "      <td>Apple Inc.</td>\n",
              "      <td>Technology</td>\n",
              "      <td>Consumer Electronics</td>\n",
              "      <td>0.006891</td>\n",
              "      <td>NaN</td>\n",
              "      <td>NaN</td>\n",
              "      <td>NaN</td>\n",
              "      <td>NaN</td>\n",
              "      <td>NaN</td>\n",
              "    </tr>\n",
              "    <tr>\n",
              "      <th>43298</th>\n",
              "      <td>2018-03-05</td>\n",
              "      <td>AAPL</td>\n",
              "      <td>42.576511</td>\n",
              "      <td>44.205002</td>\n",
              "      <td>44.435001</td>\n",
              "      <td>43.630001</td>\n",
              "      <td>43.802502</td>\n",
              "      <td>113605600.0</td>\n",
              "      <td>NMS</td>\n",
              "      <td>Apple Inc.</td>\n",
              "      <td>Apple Inc.</td>\n",
              "      <td>Technology</td>\n",
              "      <td>Consumer Electronics</td>\n",
              "      <td>0.003456</td>\n",
              "      <td>0.006891</td>\n",
              "      <td>NaN</td>\n",
              "      <td>NaN</td>\n",
              "      <td>NaN</td>\n",
              "      <td>NaN</td>\n",
              "    </tr>\n",
              "    <tr>\n",
              "      <th>43299</th>\n",
              "      <td>2018-03-06</td>\n",
              "      <td>AAPL</td>\n",
              "      <td>42.540394</td>\n",
              "      <td>44.167500</td>\n",
              "      <td>44.562500</td>\n",
              "      <td>44.032501</td>\n",
              "      <td>44.477501</td>\n",
              "      <td>95154000.0</td>\n",
              "      <td>NMS</td>\n",
              "      <td>Apple Inc.</td>\n",
              "      <td>Apple Inc.</td>\n",
              "      <td>Technology</td>\n",
              "      <td>Consumer Electronics</td>\n",
              "      <td>-0.000849</td>\n",
              "      <td>0.003456</td>\n",
              "      <td>0.006891</td>\n",
              "      <td>NaN</td>\n",
              "      <td>NaN</td>\n",
              "      <td>NaN</td>\n",
              "    </tr>\n",
              "    <tr>\n",
              "      <th>43300</th>\n",
              "      <td>2018-03-07</td>\n",
              "      <td>AAPL</td>\n",
              "      <td>42.145489</td>\n",
              "      <td>43.757500</td>\n",
              "      <td>43.962502</td>\n",
              "      <td>43.567501</td>\n",
              "      <td>43.735001</td>\n",
              "      <td>126814000.0</td>\n",
              "      <td>NMS</td>\n",
              "      <td>Apple Inc.</td>\n",
              "      <td>Apple Inc.</td>\n",
              "      <td>Technology</td>\n",
              "      <td>Consumer Electronics</td>\n",
              "      <td>-0.009326</td>\n",
              "      <td>-0.000849</td>\n",
              "      <td>0.003456</td>\n",
              "      <td>0.006891</td>\n",
              "      <td>NaN</td>\n",
              "      <td>NaN</td>\n",
              "    </tr>\n",
              "  </tbody>\n",
              "</table>\n",
              "</div>\n",
              "      <button class=\"colab-df-convert\" onclick=\"convertToInteractive('df-f594454a-cbfc-4c5c-9c65-338e1a3d957c')\"\n",
              "              title=\"Convert this dataframe to an interactive table.\"\n",
              "              style=\"display:none;\">\n",
              "        \n",
              "  <svg xmlns=\"http://www.w3.org/2000/svg\" height=\"24px\"viewBox=\"0 0 24 24\"\n",
              "       width=\"24px\">\n",
              "    <path d=\"M0 0h24v24H0V0z\" fill=\"none\"/>\n",
              "    <path d=\"M18.56 5.44l.94 2.06.94-2.06 2.06-.94-2.06-.94-.94-2.06-.94 2.06-2.06.94zm-11 1L8.5 8.5l.94-2.06 2.06-.94-2.06-.94L8.5 2.5l-.94 2.06-2.06.94zm10 10l.94 2.06.94-2.06 2.06-.94-2.06-.94-.94-2.06-.94 2.06-2.06.94z\"/><path d=\"M17.41 7.96l-1.37-1.37c-.4-.4-.92-.59-1.43-.59-.52 0-1.04.2-1.43.59L10.3 9.45l-7.72 7.72c-.78.78-.78 2.05 0 2.83L4 21.41c.39.39.9.59 1.41.59.51 0 1.02-.2 1.41-.59l7.78-7.78 2.81-2.81c.8-.78.8-2.07 0-2.86zM5.41 20L4 18.59l7.72-7.72 1.47 1.35L5.41 20z\"/>\n",
              "  </svg>\n",
              "      </button>\n",
              "      \n",
              "  <style>\n",
              "    .colab-df-container {\n",
              "      display:flex;\n",
              "      flex-wrap:wrap;\n",
              "      gap: 12px;\n",
              "    }\n",
              "\n",
              "    .colab-df-convert {\n",
              "      background-color: #E8F0FE;\n",
              "      border: none;\n",
              "      border-radius: 50%;\n",
              "      cursor: pointer;\n",
              "      display: none;\n",
              "      fill: #1967D2;\n",
              "      height: 32px;\n",
              "      padding: 0 0 0 0;\n",
              "      width: 32px;\n",
              "    }\n",
              "\n",
              "    .colab-df-convert:hover {\n",
              "      background-color: #E2EBFA;\n",
              "      box-shadow: 0px 1px 2px rgba(60, 64, 67, 0.3), 0px 1px 3px 1px rgba(60, 64, 67, 0.15);\n",
              "      fill: #174EA6;\n",
              "    }\n",
              "\n",
              "    [theme=dark] .colab-df-convert {\n",
              "      background-color: #3B4455;\n",
              "      fill: #D2E3FC;\n",
              "    }\n",
              "\n",
              "    [theme=dark] .colab-df-convert:hover {\n",
              "      background-color: #434B5C;\n",
              "      box-shadow: 0px 1px 3px 1px rgba(0, 0, 0, 0.15);\n",
              "      filter: drop-shadow(0px 1px 2px rgba(0, 0, 0, 0.3));\n",
              "      fill: #FFFFFF;\n",
              "    }\n",
              "  </style>\n",
              "\n",
              "      <script>\n",
              "        const buttonEl =\n",
              "          document.querySelector('#df-f594454a-cbfc-4c5c-9c65-338e1a3d957c button.colab-df-convert');\n",
              "        buttonEl.style.display =\n",
              "          google.colab.kernel.accessAllowed ? 'block' : 'none';\n",
              "\n",
              "        async function convertToInteractive(key) {\n",
              "          const element = document.querySelector('#df-f594454a-cbfc-4c5c-9c65-338e1a3d957c');\n",
              "          const dataTable =\n",
              "            await google.colab.kernel.invokeFunction('convertToInteractive',\n",
              "                                                     [key], {});\n",
              "          if (!dataTable) return;\n",
              "\n",
              "          const docLinkHtml = 'Like what you see? Visit the ' +\n",
              "            '<a target=\"_blank\" href=https://colab.research.google.com/notebooks/data_table.ipynb>data table notebook</a>'\n",
              "            + ' to learn more about interactive tables.';\n",
              "          element.innerHTML = '';\n",
              "          dataTable['output_type'] = 'display_data';\n",
              "          await google.colab.output.renderOutput(dataTable, element);\n",
              "          const docLink = document.createElement('div');\n",
              "          docLink.innerHTML = docLinkHtml;\n",
              "          element.appendChild(docLink);\n",
              "        }\n",
              "      </script>\n",
              "    </div>\n",
              "  </div>\n",
              "  "
            ]
          },
          "metadata": {},
          "execution_count": 45
        }
      ]
    },
    {
      "cell_type": "code",
      "source": [
        "aapl.dropna(inplace=True)"
      ],
      "metadata": {
        "colab": {
          "base_uri": "https://localhost:8080/"
        },
        "id": "Qk2RoFXbOvLz",
        "outputId": "b8deb16e-e628-4137-ba09-0e9ec8995092"
      },
      "execution_count": null,
      "outputs": [
        {
          "output_type": "stream",
          "name": "stderr",
          "text": [
            "/usr/local/lib/python3.7/dist-packages/pandas/util/_decorators.py:311: SettingWithCopyWarning: \n",
            "A value is trying to be set on a copy of a slice from a DataFrame\n",
            "\n",
            "See the caveats in the documentation: https://pandas.pydata.org/pandas-docs/stable/user_guide/indexing.html#returning-a-view-versus-a-copy\n",
            "  return func(*args, **kwargs)\n"
          ]
        }
      ]
    },
    {
      "cell_type": "code",
      "source": [
        "from sklearn.linear_model import LinearRegression"
      ],
      "metadata": {
        "id": "5HKLL9EYO0iS"
      },
      "execution_count": null,
      "outputs": []
    },
    {
      "cell_type": "code",
      "source": [
        "model = LinearRegression()"
      ],
      "metadata": {
        "id": "wq00tvP1O_r-"
      },
      "execution_count": null,
      "outputs": []
    },
    {
      "cell_type": "code",
      "source": [
        "model.fit(aapl[lagnames], aapl['returns'])"
      ],
      "metadata": {
        "colab": {
          "base_uri": "https://localhost:8080/"
        },
        "id": "mvTnvLcMPGKm",
        "outputId": "47eb0d05-2e10-4c84-d90e-280069043443"
      },
      "execution_count": null,
      "outputs": [
        {
          "output_type": "execute_result",
          "data": {
            "text/plain": [
              "LinearRegression()"
            ]
          },
          "metadata": {},
          "execution_count": 49
        }
      ]
    },
    {
      "cell_type": "code",
      "source": [
        "aapl['prediction_LR'] = model.predict(aapl[lagnames])"
      ],
      "metadata": {
        "colab": {
          "base_uri": "https://localhost:8080/"
        },
        "id": "vjhD-HziPRM3",
        "outputId": "26b358bc-4edb-48fe-c8d8-86fa78c52b27"
      },
      "execution_count": null,
      "outputs": [
        {
          "output_type": "stream",
          "name": "stderr",
          "text": [
            "/usr/local/lib/python3.7/dist-packages/ipykernel_launcher.py:1: SettingWithCopyWarning: \n",
            "A value is trying to be set on a copy of a slice from a DataFrame.\n",
            "Try using .loc[row_indexer,col_indexer] = value instead\n",
            "\n",
            "See the caveats in the documentation: https://pandas.pydata.org/pandas-docs/stable/user_guide/indexing.html#returning-a-view-versus-a-copy\n",
            "  \"\"\"Entry point for launching an IPython kernel.\n"
          ]
        }
      ]
    },
    {
      "cell_type": "code",
      "source": [
        "aapl.head()"
      ],
      "metadata": {
        "colab": {
          "base_uri": "https://localhost:8080/",
          "height": 353
        },
        "id": "zRZwa84yPbDl",
        "outputId": "df0f3215-8e26-4fc7-a226-605a4bfac8c1"
      },
      "execution_count": null,
      "outputs": [
        {
          "output_type": "execute_result",
          "data": {
            "text/plain": [
              "            Date Symbol  Adj_Close      Close       High        Low  \\\n",
              "43302 2018-03-09   AAPL  43.337402  44.994999  45.000000  44.347500   \n",
              "43303 2018-03-12   AAPL  43.756374  45.430000  45.597500  45.052502   \n",
              "43304 2018-03-13   AAPL  43.334995  44.992500  45.875000  44.810001   \n",
              "43305 2018-03-14   AAPL  42.966583  44.610001  45.130001  44.452499   \n",
              "43306 2018-03-15   AAPL  43.017151  44.662498  45.060001  44.517502   \n",
              "\n",
              "            Open       Volume Exchange   Shortname    Longname      Sector  \\\n",
              "43302  44.490002  128740800.0      NMS  Apple Inc.  Apple Inc.  Technology   \n",
              "43303  45.072498  128828400.0      NMS  Apple Inc.  Apple Inc.  Technology   \n",
              "43304  45.647499  126774000.0      NMS  Apple Inc.  Apple Inc.  Technology   \n",
              "43305  45.080002  117473600.0      NMS  Apple Inc.  Apple Inc.  Technology   \n",
              "43306  44.625000   90975200.0      NMS  Apple Inc.  Apple Inc.  Technology   \n",
              "\n",
              "                   Industry   returns     Lag_1     Lag_2     Lag_3     Lag_4  \\\n",
              "43302  Consumer Electronics  0.017035  0.010853 -0.009326 -0.000849  0.003456   \n",
              "43303  Consumer Electronics  0.009621  0.017035  0.010853 -0.009326 -0.000849   \n",
              "43304  Consumer Electronics -0.009677  0.009621  0.017035  0.010853 -0.009326   \n",
              "43305  Consumer Electronics -0.008538 -0.009677  0.009621  0.017035  0.010853   \n",
              "43306  Consumer Electronics  0.001176 -0.008538 -0.009677  0.009621  0.017035   \n",
              "\n",
              "          Lag_5  prediction_LR  \n",
              "43302  0.006891       0.000017  \n",
              "43303  0.003456      -0.000362  \n",
              "43304 -0.000849       0.000378  \n",
              "43305 -0.009326       0.002206  \n",
              "43306  0.010853       0.002508  "
            ],
            "text/html": [
              "\n",
              "  <div id=\"df-0ee00cf7-3207-49c1-ace9-22084dc3afa7\">\n",
              "    <div class=\"colab-df-container\">\n",
              "      <div>\n",
              "<style scoped>\n",
              "    .dataframe tbody tr th:only-of-type {\n",
              "        vertical-align: middle;\n",
              "    }\n",
              "\n",
              "    .dataframe tbody tr th {\n",
              "        vertical-align: top;\n",
              "    }\n",
              "\n",
              "    .dataframe thead th {\n",
              "        text-align: right;\n",
              "    }\n",
              "</style>\n",
              "<table border=\"1\" class=\"dataframe\">\n",
              "  <thead>\n",
              "    <tr style=\"text-align: right;\">\n",
              "      <th></th>\n",
              "      <th>Date</th>\n",
              "      <th>Symbol</th>\n",
              "      <th>Adj_Close</th>\n",
              "      <th>Close</th>\n",
              "      <th>High</th>\n",
              "      <th>Low</th>\n",
              "      <th>Open</th>\n",
              "      <th>Volume</th>\n",
              "      <th>Exchange</th>\n",
              "      <th>Shortname</th>\n",
              "      <th>Longname</th>\n",
              "      <th>Sector</th>\n",
              "      <th>Industry</th>\n",
              "      <th>returns</th>\n",
              "      <th>Lag_1</th>\n",
              "      <th>Lag_2</th>\n",
              "      <th>Lag_3</th>\n",
              "      <th>Lag_4</th>\n",
              "      <th>Lag_5</th>\n",
              "      <th>prediction_LR</th>\n",
              "    </tr>\n",
              "  </thead>\n",
              "  <tbody>\n",
              "    <tr>\n",
              "      <th>43302</th>\n",
              "      <td>2018-03-09</td>\n",
              "      <td>AAPL</td>\n",
              "      <td>43.337402</td>\n",
              "      <td>44.994999</td>\n",
              "      <td>45.000000</td>\n",
              "      <td>44.347500</td>\n",
              "      <td>44.490002</td>\n",
              "      <td>128740800.0</td>\n",
              "      <td>NMS</td>\n",
              "      <td>Apple Inc.</td>\n",
              "      <td>Apple Inc.</td>\n",
              "      <td>Technology</td>\n",
              "      <td>Consumer Electronics</td>\n",
              "      <td>0.017035</td>\n",
              "      <td>0.010853</td>\n",
              "      <td>-0.009326</td>\n",
              "      <td>-0.000849</td>\n",
              "      <td>0.003456</td>\n",
              "      <td>0.006891</td>\n",
              "      <td>0.000017</td>\n",
              "    </tr>\n",
              "    <tr>\n",
              "      <th>43303</th>\n",
              "      <td>2018-03-12</td>\n",
              "      <td>AAPL</td>\n",
              "      <td>43.756374</td>\n",
              "      <td>45.430000</td>\n",
              "      <td>45.597500</td>\n",
              "      <td>45.052502</td>\n",
              "      <td>45.072498</td>\n",
              "      <td>128828400.0</td>\n",
              "      <td>NMS</td>\n",
              "      <td>Apple Inc.</td>\n",
              "      <td>Apple Inc.</td>\n",
              "      <td>Technology</td>\n",
              "      <td>Consumer Electronics</td>\n",
              "      <td>0.009621</td>\n",
              "      <td>0.017035</td>\n",
              "      <td>0.010853</td>\n",
              "      <td>-0.009326</td>\n",
              "      <td>-0.000849</td>\n",
              "      <td>0.003456</td>\n",
              "      <td>-0.000362</td>\n",
              "    </tr>\n",
              "    <tr>\n",
              "      <th>43304</th>\n",
              "      <td>2018-03-13</td>\n",
              "      <td>AAPL</td>\n",
              "      <td>43.334995</td>\n",
              "      <td>44.992500</td>\n",
              "      <td>45.875000</td>\n",
              "      <td>44.810001</td>\n",
              "      <td>45.647499</td>\n",
              "      <td>126774000.0</td>\n",
              "      <td>NMS</td>\n",
              "      <td>Apple Inc.</td>\n",
              "      <td>Apple Inc.</td>\n",
              "      <td>Technology</td>\n",
              "      <td>Consumer Electronics</td>\n",
              "      <td>-0.009677</td>\n",
              "      <td>0.009621</td>\n",
              "      <td>0.017035</td>\n",
              "      <td>0.010853</td>\n",
              "      <td>-0.009326</td>\n",
              "      <td>-0.000849</td>\n",
              "      <td>0.000378</td>\n",
              "    </tr>\n",
              "    <tr>\n",
              "      <th>43305</th>\n",
              "      <td>2018-03-14</td>\n",
              "      <td>AAPL</td>\n",
              "      <td>42.966583</td>\n",
              "      <td>44.610001</td>\n",
              "      <td>45.130001</td>\n",
              "      <td>44.452499</td>\n",
              "      <td>45.080002</td>\n",
              "      <td>117473600.0</td>\n",
              "      <td>NMS</td>\n",
              "      <td>Apple Inc.</td>\n",
              "      <td>Apple Inc.</td>\n",
              "      <td>Technology</td>\n",
              "      <td>Consumer Electronics</td>\n",
              "      <td>-0.008538</td>\n",
              "      <td>-0.009677</td>\n",
              "      <td>0.009621</td>\n",
              "      <td>0.017035</td>\n",
              "      <td>0.010853</td>\n",
              "      <td>-0.009326</td>\n",
              "      <td>0.002206</td>\n",
              "    </tr>\n",
              "    <tr>\n",
              "      <th>43306</th>\n",
              "      <td>2018-03-15</td>\n",
              "      <td>AAPL</td>\n",
              "      <td>43.017151</td>\n",
              "      <td>44.662498</td>\n",
              "      <td>45.060001</td>\n",
              "      <td>44.517502</td>\n",
              "      <td>44.625000</td>\n",
              "      <td>90975200.0</td>\n",
              "      <td>NMS</td>\n",
              "      <td>Apple Inc.</td>\n",
              "      <td>Apple Inc.</td>\n",
              "      <td>Technology</td>\n",
              "      <td>Consumer Electronics</td>\n",
              "      <td>0.001176</td>\n",
              "      <td>-0.008538</td>\n",
              "      <td>-0.009677</td>\n",
              "      <td>0.009621</td>\n",
              "      <td>0.017035</td>\n",
              "      <td>0.010853</td>\n",
              "      <td>0.002508</td>\n",
              "    </tr>\n",
              "  </tbody>\n",
              "</table>\n",
              "</div>\n",
              "      <button class=\"colab-df-convert\" onclick=\"convertToInteractive('df-0ee00cf7-3207-49c1-ace9-22084dc3afa7')\"\n",
              "              title=\"Convert this dataframe to an interactive table.\"\n",
              "              style=\"display:none;\">\n",
              "        \n",
              "  <svg xmlns=\"http://www.w3.org/2000/svg\" height=\"24px\"viewBox=\"0 0 24 24\"\n",
              "       width=\"24px\">\n",
              "    <path d=\"M0 0h24v24H0V0z\" fill=\"none\"/>\n",
              "    <path d=\"M18.56 5.44l.94 2.06.94-2.06 2.06-.94-2.06-.94-.94-2.06-.94 2.06-2.06.94zm-11 1L8.5 8.5l.94-2.06 2.06-.94-2.06-.94L8.5 2.5l-.94 2.06-2.06.94zm10 10l.94 2.06.94-2.06 2.06-.94-2.06-.94-.94-2.06-.94 2.06-2.06.94z\"/><path d=\"M17.41 7.96l-1.37-1.37c-.4-.4-.92-.59-1.43-.59-.52 0-1.04.2-1.43.59L10.3 9.45l-7.72 7.72c-.78.78-.78 2.05 0 2.83L4 21.41c.39.39.9.59 1.41.59.51 0 1.02-.2 1.41-.59l7.78-7.78 2.81-2.81c.8-.78.8-2.07 0-2.86zM5.41 20L4 18.59l7.72-7.72 1.47 1.35L5.41 20z\"/>\n",
              "  </svg>\n",
              "      </button>\n",
              "      \n",
              "  <style>\n",
              "    .colab-df-container {\n",
              "      display:flex;\n",
              "      flex-wrap:wrap;\n",
              "      gap: 12px;\n",
              "    }\n",
              "\n",
              "    .colab-df-convert {\n",
              "      background-color: #E8F0FE;\n",
              "      border: none;\n",
              "      border-radius: 50%;\n",
              "      cursor: pointer;\n",
              "      display: none;\n",
              "      fill: #1967D2;\n",
              "      height: 32px;\n",
              "      padding: 0 0 0 0;\n",
              "      width: 32px;\n",
              "    }\n",
              "\n",
              "    .colab-df-convert:hover {\n",
              "      background-color: #E2EBFA;\n",
              "      box-shadow: 0px 1px 2px rgba(60, 64, 67, 0.3), 0px 1px 3px 1px rgba(60, 64, 67, 0.15);\n",
              "      fill: #174EA6;\n",
              "    }\n",
              "\n",
              "    [theme=dark] .colab-df-convert {\n",
              "      background-color: #3B4455;\n",
              "      fill: #D2E3FC;\n",
              "    }\n",
              "\n",
              "    [theme=dark] .colab-df-convert:hover {\n",
              "      background-color: #434B5C;\n",
              "      box-shadow: 0px 1px 3px 1px rgba(0, 0, 0, 0.15);\n",
              "      filter: drop-shadow(0px 1px 2px rgba(0, 0, 0, 0.3));\n",
              "      fill: #FFFFFF;\n",
              "    }\n",
              "  </style>\n",
              "\n",
              "      <script>\n",
              "        const buttonEl =\n",
              "          document.querySelector('#df-0ee00cf7-3207-49c1-ace9-22084dc3afa7 button.colab-df-convert');\n",
              "        buttonEl.style.display =\n",
              "          google.colab.kernel.accessAllowed ? 'block' : 'none';\n",
              "\n",
              "        async function convertToInteractive(key) {\n",
              "          const element = document.querySelector('#df-0ee00cf7-3207-49c1-ace9-22084dc3afa7');\n",
              "          const dataTable =\n",
              "            await google.colab.kernel.invokeFunction('convertToInteractive',\n",
              "                                                     [key], {});\n",
              "          if (!dataTable) return;\n",
              "\n",
              "          const docLinkHtml = 'Like what you see? Visit the ' +\n",
              "            '<a target=\"_blank\" href=https://colab.research.google.com/notebooks/data_table.ipynb>data table notebook</a>'\n",
              "            + ' to learn more about interactive tables.';\n",
              "          element.innerHTML = '';\n",
              "          dataTable['output_type'] = 'display_data';\n",
              "          await google.colab.output.renderOutput(dataTable, element);\n",
              "          const docLink = document.createElement('div');\n",
              "          docLink.innerHTML = docLinkHtml;\n",
              "          element.appendChild(docLink);\n",
              "        }\n",
              "      </script>\n",
              "    </div>\n",
              "  </div>\n",
              "  "
            ]
          },
          "metadata": {},
          "execution_count": 51
        }
      ]
    },
    {
      "cell_type": "code",
      "source": [
        "aapl['direction_LR'] = [1 if i > 0 else -1 for i in aapl.prediction_LR]"
      ],
      "metadata": {
        "colab": {
          "base_uri": "https://localhost:8080/"
        },
        "id": "0o2OI4YTRPrR",
        "outputId": "cff0b925-9303-4c0b-8e77-5234d56c0d10"
      },
      "execution_count": null,
      "outputs": [
        {
          "output_type": "stream",
          "name": "stderr",
          "text": [
            "/usr/local/lib/python3.7/dist-packages/ipykernel_launcher.py:1: SettingWithCopyWarning: \n",
            "A value is trying to be set on a copy of a slice from a DataFrame.\n",
            "Try using .loc[row_indexer,col_indexer] = value instead\n",
            "\n",
            "See the caveats in the documentation: https://pandas.pydata.org/pandas-docs/stable/user_guide/indexing.html#returning-a-view-versus-a-copy\n",
            "  \"\"\"Entry point for launching an IPython kernel.\n"
          ]
        }
      ]
    },
    {
      "cell_type": "code",
      "source": [
        "aapl['strat_LR'] = aapl['direction_LR'] * aapl['returns']"
      ],
      "metadata": {
        "colab": {
          "base_uri": "https://localhost:8080/"
        },
        "id": "qJqUtQJmRgTL",
        "outputId": "e8966ba9-fae3-4cbc-8503-365c5f59c459"
      },
      "execution_count": null,
      "outputs": [
        {
          "output_type": "stream",
          "name": "stderr",
          "text": [
            "/usr/local/lib/python3.7/dist-packages/ipykernel_launcher.py:1: SettingWithCopyWarning: \n",
            "A value is trying to be set on a copy of a slice from a DataFrame.\n",
            "Try using .loc[row_indexer,col_indexer] = value instead\n",
            "\n",
            "See the caveats in the documentation: https://pandas.pydata.org/pandas-docs/stable/user_guide/indexing.html#returning-a-view-versus-a-copy\n",
            "  \"\"\"Entry point for launching an IPython kernel.\n"
          ]
        }
      ]
    },
    {
      "cell_type": "code",
      "source": [
        "np.exp(aapl[['returns','strat_LR']].sum())"
      ],
      "metadata": {
        "colab": {
          "base_uri": "https://localhost:8080/"
        },
        "id": "RU3-yHsTRsa_",
        "outputId": "72b295e8-4642-4799-f858-6d8f4d21476a"
      },
      "execution_count": null,
      "outputs": [
        {
          "output_type": "execute_result",
          "data": {
            "text/plain": [
              "returns     3.653668\n",
              "strat_LR    3.408414\n",
              "dtype: float64"
            ]
          },
          "metadata": {},
          "execution_count": 54
        }
      ]
    },
    {
      "cell_type": "code",
      "source": [
        "np.exp(aapl[['returns','strat_LR']].cumsum()).plot()"
      ],
      "metadata": {
        "colab": {
          "base_uri": "https://localhost:8080/",
          "height": 282
        },
        "id": "rPtgWb2-R7yd",
        "outputId": "28f8067e-3693-4642-cfc6-32edbca23091"
      },
      "execution_count": null,
      "outputs": [
        {
          "output_type": "execute_result",
          "data": {
            "text/plain": [
              "<matplotlib.axes._subplots.AxesSubplot at 0x7f15b776fd90>"
            ]
          },
          "metadata": {},
          "execution_count": 55
        },
        {
          "output_type": "display_data",
          "data": {
            "text/plain": [
              "<Figure size 432x288 with 1 Axes>"
            ],
            "image/png": "[encoded data removed]"
          },
          "metadata": {
            "needs_background": "light"
          }
        }
      ]
    },
    {
      "cell_type": "code",
      "source": [
        "print(merged_data.dtypes)"
      ],
      "metadata": {
        "colab": {
          "base_uri": "https://localhost:8080/"
        },
        "id": "3OHFCKkES7s9",
        "outputId": "17dbb533-0fba-473e-82ec-cedb07521155"
      },
      "execution_count": null,
      "outputs": [
        {
          "output_type": "stream",
          "name": "stdout",
          "text": [
            "Date         datetime64[ns]\n",
            "Symbol               object\n",
            "Adj_Close           float64\n",
            "Close               float64\n",
            "High                float64\n",
            "Low                 float64\n",
            "Open                float64\n",
            "Volume              float64\n",
            "Exchange             object\n",
            "Shortname            object\n",
            "Longname             object\n",
            "Sector               object\n",
            "Industry             object\n",
            "dtype: object\n"
          ]
        }
      ]
    },
    {
      "cell_type": "code",
      "source": [
        "from sklearn.model_selection import train_test_split"
      ],
      "metadata": {
        "id": "GjmQqqk2UzLe"
      },
      "execution_count": null,
      "outputs": []
    },
    {
      "cell_type": "code",
      "source": [
        "train,test = train_test_split(aapl, shuffle = False,\n",
        "                              test_size = 0.3, random_state = 0)"
      ],
      "metadata": {
        "id": "GD2hcNohU4VD"
      },
      "execution_count": null,
      "outputs": []
    },
    {
      "cell_type": "code",
      "source": [
        "train = train.copy()\n",
        "test = test.copy()"
      ],
      "metadata": {
        "id": "TGEqh5EIVU50"
      },
      "execution_count": null,
      "outputs": []
    },
    {
      "cell_type": "code",
      "source": [
        "model = LinearRegression()"
      ],
      "metadata": {
        "id": "jcVILjB9Vcoh"
      },
      "execution_count": null,
      "outputs": []
    },
    {
      "cell_type": "code",
      "source": [
        "model.fit(train[lagnames], train['returns'])"
      ],
      "metadata": {
        "colab": {
          "base_uri": "https://localhost:8080/"
        },
        "id": "o8oIhNtQVhRv",
        "outputId": "0a9e25f8-9eca-4d57-8963-4fd5dd6a4e10"
      },
      "execution_count": null,
      "outputs": [
        {
          "output_type": "execute_result",
          "data": {
            "text/plain": [
              "LinearRegression()"
            ]
          },
          "metadata": {},
          "execution_count": 64
        }
      ]
    },
    {
      "cell_type": "code",
      "source": [
        "test['prediction_LR'] = model.predict(test[lagnames])"
      ],
      "metadata": {
        "id": "CGOs77_4VyQo"
      },
      "execution_count": null,
      "outputs": []
    },
    {
      "cell_type": "code",
      "source": [
        "test['direction_LR'] = [1 if i > 0 else -1 for i in test.prediction_LR]"
      ],
      "metadata": {
        "id": "67l91bLQV9RU"
      },
      "execution_count": null,
      "outputs": []
    },
    {
      "cell_type": "code",
      "source": [
        "test['strat_LR'] = test['direction_LR'] * test['returns']"
      ],
      "metadata": {
        "id": "7N4xB4g7WIfV"
      },
      "execution_count": null,
      "outputs": []
    },
    {
      "cell_type": "code",
      "source": [
        "np.exp(test[['returns','strat_LR']].sum())"
      ],
      "metadata": {
        "colab": {
          "base_uri": "https://localhost:8080/"
        },
        "id": "YPyLB91KWSFu",
        "outputId": "b4b1a62c-6bfd-4ea8-a8d4-76efcb5eee4b"
      },
      "execution_count": null,
      "outputs": [
        {
          "output_type": "execute_result",
          "data": {
            "text/plain": [
              "returns     1.377365\n",
              "strat_LR    1.052226\n",
              "dtype: float64"
            ]
          },
          "metadata": {},
          "execution_count": 68
        }
      ]
    },
    {
      "cell_type": "code",
      "source": [
        "(test['direction_LR'].diff() != 0).value_counts()"
      ],
      "metadata": {
        "colab": {
          "base_uri": "https://localhost:8080/"
        },
        "id": "n6jQM9lbZjap",
        "outputId": "4f361e4f-18e2-47c5-ba82-40a8380c1950"
      },
      "execution_count": null,
      "outputs": [
        {
          "output_type": "execute_result",
          "data": {
            "text/plain": [
              "False    157\n",
              "True     137\n",
              "Name: direction_LR, dtype: int64"
            ]
          },
          "metadata": {},
          "execution_count": 74
        }
      ]
    },
    {
      "cell_type": "code",
      "source": [
        "p1 = np.exp(test[['returns','strat_LR']].cumsum())\n",
        "p1.plot()\n",
        "plt.show()"
      ],
      "metadata": {
        "colab": {
          "base_uri": "https://localhost:8080/",
          "height": 265
        },
        "id": "_lfzzYehWbFc",
        "outputId": "eb0ddf50-937c-4db4-8b51-3432bd6e0b63"
      },
      "execution_count": null,
      "outputs": [
        {
          "output_type": "display_data",
          "data": {
            "text/plain": [
              "<Figure size 432x288 with 1 Axes>"
            ],
            "image/png": "[encoded data removed]"
          },
          "metadata": {
            "needs_background": "light"
          }
        }
      ]
    }
  ]
}