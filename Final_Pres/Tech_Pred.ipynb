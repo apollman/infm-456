{
  "cells": [
    {
      "cell_type": "markdown",
      "metadata": {
        "id": "view-in-github",
        "colab_type": "text"
      },
      "source": [
        "<a href=\"https://colab.research.google.com/github/apollman/infm-456/blob/main/Final_Pres/Tech_Pred.ipynb\" target=\"_parent\"><img src=\"https://colab.research.google.com/assets/colab-badge.svg\" alt=\"Open In Colab\"/></a>"
      ]
    },
    {
      "cell_type": "code",
      "execution_count": null,
      "id": "51f1e39e",
      "metadata": {
        "id": "51f1e39e"
      },
      "outputs": [],
      "source": [
        "import pandas as pd\n",
        "import numpy as np\n",
        "import matplotlib.pyplot as plt\n",
        "import seaborn as sb\n",
        "import scipy.stats as stat\n",
        "import plotly.express as py\n",
        "import plotly.graph_objects as go\n",
        "from plotly.subplots import make_subplots\n",
        "from sklearn.preprocessing import MinMaxScaler\n",
        "from sklearn.model_selection import TimeSeriesSplit"
      ]
    },
    {
      "cell_type": "code",
      "execution_count": null,
      "id": "55968a48",
      "metadata": {
        "colab": {
          "base_uri": "https://localhost:8080/"
        },
        "id": "55968a48",
        "outputId": "e41903e0-fed1-4eef-c8ec-41da216b13e0"
      },
      "outputs": [
        {
          "output_type": "stream",
          "name": "stdout",
          "text": [
            "Requirement already satisfied: keras in /usr/local/lib/python3.7/dist-packages (2.8.0)\n"
          ]
        }
      ],
      "source": [
        "pip install keras "
      ]
    },
    {
      "cell_type": "code",
      "execution_count": null,
      "id": "34b4ae16",
      "metadata": {
        "colab": {
          "base_uri": "https://localhost:8080/"
        },
        "id": "34b4ae16",
        "outputId": "a2ddf473-29cc-4598-c9d3-bed65c34ac50"
      },
      "outputs": [
        {
          "output_type": "stream",
          "name": "stdout",
          "text": [
            "Requirement already satisfied: tensorflow in /usr/local/lib/python3.7/dist-packages (2.8.0)\n",
            "Requirement already satisfied: opt-einsum>=2.3.2 in /usr/local/lib/python3.7/dist-packages (from tensorflow) (3.3.0)\n",
            "Collecting tf-estimator-nightly==2.8.0.dev2021122109\n",
            "  Downloading tf_estimator_nightly-2.8.0.dev2021122109-py2.py3-none-any.whl (462 kB)\n",
            "\u001b[K     |████████████████████████████████| 462 kB 4.2 MB/s \n",
            "\u001b[?25hRequirement already satisfied: libclang>=9.0.1 in /usr/local/lib/python3.7/dist-packages (from tensorflow) (13.0.0)\n",
            "Requirement already satisfied: flatbuffers>=1.12 in /usr/local/lib/python3.7/dist-packages (from tensorflow) (2.0)\n",
            "Requirement already satisfied: tensorboard<2.9,>=2.8 in /usr/local/lib/python3.7/dist-packages (from tensorflow) (2.8.0)\n",
            "Requirement already satisfied: gast>=0.2.1 in /usr/local/lib/python3.7/dist-packages (from tensorflow) (0.5.3)\n",
            "Requirement already satisfied: typing-extensions>=3.6.6 in /usr/local/lib/python3.7/dist-packages (from tensorflow) (4.2.0)\n",
            "Requirement already satisfied: setuptools in /usr/local/lib/python3.7/dist-packages (from tensorflow) (57.4.0)\n",
            "Requirement already satisfied: numpy>=1.20 in /usr/local/lib/python3.7/dist-packages (from tensorflow) (1.21.6)\n",
            "Requirement already satisfied: google-pasta>=0.1.1 in /usr/local/lib/python3.7/dist-packages (from tensorflow) (0.2.0)\n",
            "Requirement already satisfied: h5py>=2.9.0 in /usr/local/lib/python3.7/dist-packages (from tensorflow) (3.1.0)\n",
            "Requirement already satisfied: tensorflow-io-gcs-filesystem>=0.23.1 in /usr/local/lib/python3.7/dist-packages (from tensorflow) (0.24.0)\n",
            "Requirement already satisfied: grpcio<2.0,>=1.24.3 in /usr/local/lib/python3.7/dist-packages (from tensorflow) (1.44.0)\n",
            "Requirement already satisfied: astunparse>=1.6.0 in /usr/local/lib/python3.7/dist-packages (from tensorflow) (1.6.3)\n",
            "Requirement already satisfied: absl-py>=0.4.0 in /usr/local/lib/python3.7/dist-packages (from tensorflow) (1.0.0)\n",
            "Requirement already satisfied: keras-preprocessing>=1.1.1 in /usr/local/lib/python3.7/dist-packages (from tensorflow) (1.1.2)\n",
            "Requirement already satisfied: protobuf>=3.9.2 in /usr/local/lib/python3.7/dist-packages (from tensorflow) (3.17.3)\n",
            "Requirement already satisfied: six>=1.12.0 in /usr/local/lib/python3.7/dist-packages (from tensorflow) (1.15.0)\n",
            "Requirement already satisfied: termcolor>=1.1.0 in /usr/local/lib/python3.7/dist-packages (from tensorflow) (1.1.0)\n",
            "Requirement already satisfied: keras<2.9,>=2.8.0rc0 in /usr/local/lib/python3.7/dist-packages (from tensorflow) (2.8.0)\n",
            "Requirement already satisfied: wrapt>=1.11.0 in /usr/local/lib/python3.7/dist-packages (from tensorflow) (1.14.0)\n",
            "Requirement already satisfied: wheel<1.0,>=0.23.0 in /usr/local/lib/python3.7/dist-packages (from astunparse>=1.6.0->tensorflow) (0.37.1)\n",
            "Requirement already satisfied: cached-property in /usr/local/lib/python3.7/dist-packages (from h5py>=2.9.0->tensorflow) (1.5.2)\n",
            "Requirement already satisfied: tensorboard-data-server<0.7.0,>=0.6.0 in /usr/local/lib/python3.7/dist-packages (from tensorboard<2.9,>=2.8->tensorflow) (0.6.1)\n",
            "Requirement already satisfied: google-auth-oauthlib<0.5,>=0.4.1 in /usr/local/lib/python3.7/dist-packages (from tensorboard<2.9,>=2.8->tensorflow) (0.4.6)\n",
            "Requirement already satisfied: tensorboard-plugin-wit>=1.6.0 in /usr/local/lib/python3.7/dist-packages (from tensorboard<2.9,>=2.8->tensorflow) (1.8.1)\n",
            "Requirement already satisfied: werkzeug>=0.11.15 in /usr/local/lib/python3.7/dist-packages (from tensorboard<2.9,>=2.8->tensorflow) (1.0.1)\n",
            "Requirement already satisfied: markdown>=2.6.8 in /usr/local/lib/python3.7/dist-packages (from tensorboard<2.9,>=2.8->tensorflow) (3.3.6)\n",
            "Requirement already satisfied: google-auth<3,>=1.6.3 in /usr/local/lib/python3.7/dist-packages (from tensorboard<2.9,>=2.8->tensorflow) (1.35.0)\n",
            "Requirement already satisfied: requests<3,>=2.21.0 in /usr/local/lib/python3.7/dist-packages (from tensorboard<2.9,>=2.8->tensorflow) (2.23.0)\n",
            "Requirement already satisfied: cachetools<5.0,>=2.0.0 in /usr/local/lib/python3.7/dist-packages (from google-auth<3,>=1.6.3->tensorboard<2.9,>=2.8->tensorflow) (4.2.4)\n",
            "Requirement already satisfied: pyasn1-modules>=0.2.1 in /usr/local/lib/python3.7/dist-packages (from google-auth<3,>=1.6.3->tensorboard<2.9,>=2.8->tensorflow) (0.2.8)\n",
            "Requirement already satisfied: rsa<5,>=3.1.4 in /usr/local/lib/python3.7/dist-packages (from google-auth<3,>=1.6.3->tensorboard<2.9,>=2.8->tensorflow) (4.8)\n",
            "Requirement already satisfied: requests-oauthlib>=0.7.0 in /usr/local/lib/python3.7/dist-packages (from google-auth-oauthlib<0.5,>=0.4.1->tensorboard<2.9,>=2.8->tensorflow) (1.3.1)\n",
            "Requirement already satisfied: importlib-metadata>=4.4 in /usr/local/lib/python3.7/dist-packages (from markdown>=2.6.8->tensorboard<2.9,>=2.8->tensorflow) (4.11.3)\n",
            "Requirement already satisfied: zipp>=0.5 in /usr/local/lib/python3.7/dist-packages (from importlib-metadata>=4.4->markdown>=2.6.8->tensorboard<2.9,>=2.8->tensorflow) (3.8.0)\n",
            "Requirement already satisfied: pyasn1<0.5.0,>=0.4.6 in /usr/local/lib/python3.7/dist-packages (from pyasn1-modules>=0.2.1->google-auth<3,>=1.6.3->tensorboard<2.9,>=2.8->tensorflow) (0.4.8)\n",
            "Requirement already satisfied: certifi>=2017.4.17 in /usr/local/lib/python3.7/dist-packages (from requests<3,>=2.21.0->tensorboard<2.9,>=2.8->tensorflow) (2021.10.8)\n",
            "Requirement already satisfied: urllib3!=1.25.0,!=1.25.1,<1.26,>=1.21.1 in /usr/local/lib/python3.7/dist-packages (from requests<3,>=2.21.0->tensorboard<2.9,>=2.8->tensorflow) (1.24.3)\n",
            "Requirement already satisfied: idna<3,>=2.5 in /usr/local/lib/python3.7/dist-packages (from requests<3,>=2.21.0->tensorboard<2.9,>=2.8->tensorflow) (2.10)\n",
            "Requirement already satisfied: chardet<4,>=3.0.2 in /usr/local/lib/python3.7/dist-packages (from requests<3,>=2.21.0->tensorboard<2.9,>=2.8->tensorflow) (3.0.4)\n",
            "Requirement already satisfied: oauthlib>=3.0.0 in /usr/local/lib/python3.7/dist-packages (from requests-oauthlib>=0.7.0->google-auth-oauthlib<0.5,>=0.4.1->tensorboard<2.9,>=2.8->tensorflow) (3.2.0)\n",
            "Installing collected packages: tf-estimator-nightly\n",
            "Successfully installed tf-estimator-nightly-2.8.0.dev2021122109\n"
          ]
        }
      ],
      "source": [
        "pip install tensorflow"
      ]
    },
    {
      "cell_type": "code",
      "execution_count": null,
      "id": "857bc372",
      "metadata": {
        "id": "857bc372"
      },
      "outputs": [],
      "source": [
        "from keras.models import Sequential\n",
        "from keras.layers import LSTM\n",
        "from keras.layers import Dense\n",
        "from keras.layers import Dropout"
      ]
    },
    {
      "cell_type": "code",
      "source": [
        "from google.colab import drive\n",
        "drive.mount('/content/drive')"
      ],
      "metadata": {
        "colab": {
          "base_uri": "https://localhost:8080/"
        },
        "id": "BjnVgSgsnygz",
        "outputId": "b54ae38f-f868-4236-90e2-6a310e56d052"
      },
      "id": "BjnVgSgsnygz",
      "execution_count": null,
      "outputs": [
        {
          "output_type": "stream",
          "name": "stdout",
          "text": [
            "Drive already mounted at /content/drive; to attempt to forcibly remount, call drive.mount(\"/content/drive\", force_remount=True).\n"
          ]
        }
      ]
    },
    {
      "cell_type": "code",
      "execution_count": null,
      "id": "2e6bb96c",
      "metadata": {
        "id": "2e6bb96c"
      },
      "outputs": [],
      "source": [
        "companies = pd.read_csv(\"/content/drive/MyDrive/Colab Notebooks/sp500_companies.csv\")\n",
        "stocks = pd.read_csv(\"/content/drive/MyDrive/Colab Notebooks/cleaned.csv\")"
      ]
    },
    {
      "cell_type": "code",
      "execution_count": null,
      "id": "507854e3",
      "metadata": {
        "id": "507854e3"
      },
      "outputs": [],
      "source": [
        "compwh= pd.read_csv(\"/content/drive/MyDrive/Colab Notebooks/sp500_companies.csv\", header= None, engine='python' )\n",
        "compwh = compwh.iloc[1: , :]\n",
        "\n",
        "c_headers=[\"Exchange\", \"Symbol\", \"Shortname\", \"Longname\", \"Sector\", \"Industry\",\n",
        "       \"Currentprice\", \"Marketcap\", \"Ebitda\", \"Revenuegrowth\", \"City\", \"State\",\n",
        "      \"Country\", \"Fulltimeemployees\", \"Longbusinesssummary\", \"Weight\"]\n",
        "\n",
        "compwh.columns= c_headers"
      ]
    },
    {
      "cell_type": "code",
      "execution_count": null,
      "id": "050abeb5",
      "metadata": {
        "colab": {
          "base_uri": "https://localhost:8080/",
          "height": 333
        },
        "id": "050abeb5",
        "outputId": "5cb70dc2-9617-4d3e-fcb3-264958e206b0"
      },
      "outputs": [
        {
          "output_type": "execute_result",
          "data": {
            "text/plain": [
              "  Exchange Symbol              Shortname               Longname  \\\n",
              "1      NMS   AAPL             Apple Inc.             Apple Inc.   \n",
              "2      NMS   MSFT  Microsoft Corporation  Microsoft Corporation   \n",
              "3      NMS  GOOGL          Alphabet Inc.          Alphabet Inc.   \n",
              "4      NMS   GOOG          Alphabet Inc.          Alphabet Inc.   \n",
              "5      NMS   AMZN       Amazon.com, Inc.       Amazon.com, Inc.   \n",
              "\n",
              "                   Sector                        Industry  \n",
              "1              Technology            Consumer Electronics  \n",
              "2              Technology         Software—Infrastructure  \n",
              "3  Communication Services  Internet Content & Information  \n",
              "4  Communication Services  Internet Content & Information  \n",
              "5       Consumer Cyclical                 Internet Retail  "
            ],
            "text/html": [
              "\n",
              "  <div id=\"df-9b0acfcf-16de-430d-8b1a-a5411d55fb0b\">\n",
              "    <div class=\"colab-df-container\">\n",
              "      <div>\n",
              "<style scoped>\n",
              "    .dataframe tbody tr th:only-of-type {\n",
              "        vertical-align: middle;\n",
              "    }\n",
              "\n",
              "    .dataframe tbody tr th {\n",
              "        vertical-align: top;\n",
              "    }\n",
              "\n",
              "    .dataframe thead th {\n",
              "        text-align: right;\n",
              "    }\n",
              "</style>\n",
              "<table border=\"1\" class=\"dataframe\">\n",
              "  <thead>\n",
              "    <tr style=\"text-align: right;\">\n",
              "      <th></th>\n",
              "      <th>Exchange</th>\n",
              "      <th>Symbol</th>\n",
              "      <th>Shortname</th>\n",
              "      <th>Longname</th>\n",
              "      <th>Sector</th>\n",
              "      <th>Industry</th>\n",
              "    </tr>\n",
              "  </thead>\n",
              "  <tbody>\n",
              "    <tr>\n",
              "      <th>1</th>\n",
              "      <td>NMS</td>\n",
              "      <td>AAPL</td>\n",
              "      <td>Apple Inc.</td>\n",
              "      <td>Apple Inc.</td>\n",
              "      <td>Technology</td>\n",
              "      <td>Consumer Electronics</td>\n",
              "    </tr>\n",
              "    <tr>\n",
              "      <th>2</th>\n",
              "      <td>NMS</td>\n",
              "      <td>MSFT</td>\n",
              "      <td>Microsoft Corporation</td>\n",
              "      <td>Microsoft Corporation</td>\n",
              "      <td>Technology</td>\n",
              "      <td>Software—Infrastructure</td>\n",
              "    </tr>\n",
              "    <tr>\n",
              "      <th>3</th>\n",
              "      <td>NMS</td>\n",
              "      <td>GOOGL</td>\n",
              "      <td>Alphabet Inc.</td>\n",
              "      <td>Alphabet Inc.</td>\n",
              "      <td>Communication Services</td>\n",
              "      <td>Internet Content &amp; Information</td>\n",
              "    </tr>\n",
              "    <tr>\n",
              "      <th>4</th>\n",
              "      <td>NMS</td>\n",
              "      <td>GOOG</td>\n",
              "      <td>Alphabet Inc.</td>\n",
              "      <td>Alphabet Inc.</td>\n",
              "      <td>Communication Services</td>\n",
              "      <td>Internet Content &amp; Information</td>\n",
              "    </tr>\n",
              "    <tr>\n",
              "      <th>5</th>\n",
              "      <td>NMS</td>\n",
              "      <td>AMZN</td>\n",
              "      <td>Amazon.com, Inc.</td>\n",
              "      <td>Amazon.com, Inc.</td>\n",
              "      <td>Consumer Cyclical</td>\n",
              "      <td>Internet Retail</td>\n",
              "    </tr>\n",
              "  </tbody>\n",
              "</table>\n",
              "</div>\n",
              "      <button class=\"colab-df-convert\" onclick=\"convertToInteractive('df-9b0acfcf-16de-430d-8b1a-a5411d55fb0b')\"\n",
              "              title=\"Convert this dataframe to an interactive table.\"\n",
              "              style=\"display:none;\">\n",
              "        \n",
              "  <svg xmlns=\"http://www.w3.org/2000/svg\" height=\"24px\"viewBox=\"0 0 24 24\"\n",
              "       width=\"24px\">\n",
              "    <path d=\"M0 0h24v24H0V0z\" fill=\"none\"/>\n",
              "    <path d=\"M18.56 5.44l.94 2.06.94-2.06 2.06-.94-2.06-.94-.94-2.06-.94 2.06-2.06.94zm-11 1L8.5 8.5l.94-2.06 2.06-.94-2.06-.94L8.5 2.5l-.94 2.06-2.06.94zm10 10l.94 2.06.94-2.06 2.06-.94-2.06-.94-.94-2.06-.94 2.06-2.06.94z\"/><path d=\"M17.41 7.96l-1.37-1.37c-.4-.4-.92-.59-1.43-.59-.52 0-1.04.2-1.43.59L10.3 9.45l-7.72 7.72c-.78.78-.78 2.05 0 2.83L4 21.41c.39.39.9.59 1.41.59.51 0 1.02-.2 1.41-.59l7.78-7.78 2.81-2.81c.8-.78.8-2.07 0-2.86zM5.41 20L4 18.59l7.72-7.72 1.47 1.35L5.41 20z\"/>\n",
              "  </svg>\n",
              "      </button>\n",
              "      \n",
              "  <style>\n",
              "    .colab-df-container {\n",
              "      display:flex;\n",
              "      flex-wrap:wrap;\n",
              "      gap: 12px;\n",
              "    }\n",
              "\n",
              "    .colab-df-convert {\n",
              "      background-color: #E8F0FE;\n",
              "      border: none;\n",
              "      border-radius: 50%;\n",
              "      cursor: pointer;\n",
              "      display: none;\n",
              "      fill: #1967D2;\n",
              "      height: 32px;\n",
              "      padding: 0 0 0 0;\n",
              "      width: 32px;\n",
              "    }\n",
              "\n",
              "    .colab-df-convert:hover {\n",
              "      background-color: #E2EBFA;\n",
              "      box-shadow: 0px 1px 2px rgba(60, 64, 67, 0.3), 0px 1px 3px 1px rgba(60, 64, 67, 0.15);\n",
              "      fill: #174EA6;\n",
              "    }\n",
              "\n",
              "    [theme=dark] .colab-df-convert {\n",
              "      background-color: #3B4455;\n",
              "      fill: #D2E3FC;\n",
              "    }\n",
              "\n",
              "    [theme=dark] .colab-df-convert:hover {\n",
              "      background-color: #434B5C;\n",
              "      box-shadow: 0px 1px 3px 1px rgba(0, 0, 0, 0.15);\n",
              "      filter: drop-shadow(0px 1px 2px rgba(0, 0, 0, 0.3));\n",
              "      fill: #FFFFFF;\n",
              "    }\n",
              "  </style>\n",
              "\n",
              "      <script>\n",
              "        const buttonEl =\n",
              "          document.querySelector('#df-9b0acfcf-16de-430d-8b1a-a5411d55fb0b button.colab-df-convert');\n",
              "        buttonEl.style.display =\n",
              "          google.colab.kernel.accessAllowed ? 'block' : 'none';\n",
              "\n",
              "        async function convertToInteractive(key) {\n",
              "          const element = document.querySelector('#df-9b0acfcf-16de-430d-8b1a-a5411d55fb0b');\n",
              "          const dataTable =\n",
              "            await google.colab.kernel.invokeFunction('convertToInteractive',\n",
              "                                                     [key], {});\n",
              "          if (!dataTable) return;\n",
              "\n",
              "          const docLinkHtml = 'Like what you see? Visit the ' +\n",
              "            '<a target=\"_blank\" href=https://colab.research.google.com/notebooks/data_table.ipynb>data table notebook</a>'\n",
              "            + ' to learn more about interactive tables.';\n",
              "          element.innerHTML = '';\n",
              "          dataTable['output_type'] = 'display_data';\n",
              "          await google.colab.output.renderOutput(dataTable, element);\n",
              "          const docLink = document.createElement('div');\n",
              "          docLink.innerHTML = docLinkHtml;\n",
              "          element.appendChild(docLink);\n",
              "        }\n",
              "      </script>\n",
              "    </div>\n",
              "  </div>\n",
              "  "
            ]
          },
          "metadata": {},
          "execution_count": 14
        }
      ],
      "source": [
        "to_drop = ['Marketcap', 'Ebitda', 'Revenuegrowth', \n",
        "           'City', 'State', 'Country', \n",
        "           'Fulltimeemployees', 'Weight', 'Currentprice', \n",
        "           'Longbusinesssummary']\n",
        "compwh.drop(to_drop, inplace=True, axis=1)\n",
        "compwh.head()"
      ]
    },
    {
      "cell_type": "markdown",
      "source": [
        "#This was done in a seperate file to turn the stock data into cleaned.csv\n",
        "stckwh = pd.read_csv(\"sp500_stocks.csv\", header= None, engine='python')\n",
        "stckwh = stckwh.iloc[1: , :]\n",
        "s_headers = ['Date', 'Symbol', 'Adj_Close', 'Close', 'High', 'Low', 'Open',\n",
        "       'Volume']\n",
        "stckwh.columns = s_headers\n",
        "stckwh = stckwh[stckwh.Date >= '2018-03-01']"
      ],
      "metadata": {
        "id": "06r-3Yu6eERX"
      },
      "id": "06r-3Yu6eERX"
    },
    {
      "cell_type": "code",
      "source": [
        "stckwh = pd.read_csv(\"/content/drive/MyDrive/Colab Notebooks/cleaned.csv\", header= None, engine='python')\n",
        "stckwh.head()"
      ],
      "metadata": {
        "colab": {
          "base_uri": "https://localhost:8080/",
          "height": 336
        },
        "id": "ep8ejBOoe2am",
        "outputId": "0b1bf2cd-cfb8-4a29-c3f9-e88b9e5d499d"
      },
      "id": "ep8ejBOoe2am",
      "execution_count": null,
      "outputs": [
        {
          "output_type": "execute_result",
          "data": {
            "text/plain": [
              "        0           1       2                   3                   4  \\\n",
              "0     NaN        Date  Symbol           Adj_Close               Close   \n",
              "1  2060.0  2018-03-01     MMM   204.9241943359375  231.33999633789062   \n",
              "2  2061.0  2018-03-02     MMM  204.06497192382812   230.3699951171875   \n",
              "3  2062.0  2018-03-05     MMM  206.22637939453125  232.80999755859375   \n",
              "4  2063.0  2018-03-06     MMM   206.9793243408203  233.66000366210938   \n",
              "\n",
              "                    5                   6                   7          8  \n",
              "0                High                 Low                Open     Volume  \n",
              "1   236.8300018310547  229.52999877929688  236.14999389648438  3487100.0  \n",
              "2  231.27000427246094   226.3300018310547              229.75  2912800.0  \n",
              "3   233.7100067138672  228.52999877929688               230.0  2235300.0  \n",
              "4   235.9199981689453   230.8000030517578   234.0500030517578  2091100.0  "
            ],
            "text/html": [
              "\n",
              "  <div id=\"df-1ede59dc-7c21-4cb0-8f03-09fd16222e89\">\n",
              "    <div class=\"colab-df-container\">\n",
              "      <div>\n",
              "<style scoped>\n",
              "    .dataframe tbody tr th:only-of-type {\n",
              "        vertical-align: middle;\n",
              "    }\n",
              "\n",
              "    .dataframe tbody tr th {\n",
              "        vertical-align: top;\n",
              "    }\n",
              "\n",
              "    .dataframe thead th {\n",
              "        text-align: right;\n",
              "    }\n",
              "</style>\n",
              "<table border=\"1\" class=\"dataframe\">\n",
              "  <thead>\n",
              "    <tr style=\"text-align: right;\">\n",
              "      <th></th>\n",
              "      <th>0</th>\n",
              "      <th>1</th>\n",
              "      <th>2</th>\n",
              "      <th>3</th>\n",
              "      <th>4</th>\n",
              "      <th>5</th>\n",
              "      <th>6</th>\n",
              "      <th>7</th>\n",
              "      <th>8</th>\n",
              "    </tr>\n",
              "  </thead>\n",
              "  <tbody>\n",
              "    <tr>\n",
              "      <th>0</th>\n",
              "      <td>NaN</td>\n",
              "      <td>Date</td>\n",
              "      <td>Symbol</td>\n",
              "      <td>Adj_Close</td>\n",
              "      <td>Close</td>\n",
              "      <td>High</td>\n",
              "      <td>Low</td>\n",
              "      <td>Open</td>\n",
              "      <td>Volume</td>\n",
              "    </tr>\n",
              "    <tr>\n",
              "      <th>1</th>\n",
              "      <td>2060.0</td>\n",
              "      <td>2018-03-01</td>\n",
              "      <td>MMM</td>\n",
              "      <td>204.9241943359375</td>\n",
              "      <td>231.33999633789062</td>\n",
              "      <td>236.8300018310547</td>\n",
              "      <td>229.52999877929688</td>\n",
              "      <td>236.14999389648438</td>\n",
              "      <td>3487100.0</td>\n",
              "    </tr>\n",
              "    <tr>\n",
              "      <th>2</th>\n",
              "      <td>2061.0</td>\n",
              "      <td>2018-03-02</td>\n",
              "      <td>MMM</td>\n",
              "      <td>204.06497192382812</td>\n",
              "      <td>230.3699951171875</td>\n",
              "      <td>231.27000427246094</td>\n",
              "      <td>226.3300018310547</td>\n",
              "      <td>229.75</td>\n",
              "      <td>2912800.0</td>\n",
              "    </tr>\n",
              "    <tr>\n",
              "      <th>3</th>\n",
              "      <td>2062.0</td>\n",
              "      <td>2018-03-05</td>\n",
              "      <td>MMM</td>\n",
              "      <td>206.22637939453125</td>\n",
              "      <td>232.80999755859375</td>\n",
              "      <td>233.7100067138672</td>\n",
              "      <td>228.52999877929688</td>\n",
              "      <td>230.0</td>\n",
              "      <td>2235300.0</td>\n",
              "    </tr>\n",
              "    <tr>\n",
              "      <th>4</th>\n",
              "      <td>2063.0</td>\n",
              "      <td>2018-03-06</td>\n",
              "      <td>MMM</td>\n",
              "      <td>206.9793243408203</td>\n",
              "      <td>233.66000366210938</td>\n",
              "      <td>235.9199981689453</td>\n",
              "      <td>230.8000030517578</td>\n",
              "      <td>234.0500030517578</td>\n",
              "      <td>2091100.0</td>\n",
              "    </tr>\n",
              "  </tbody>\n",
              "</table>\n",
              "</div>\n",
              "      <button class=\"colab-df-convert\" onclick=\"convertToInteractive('df-1ede59dc-7c21-4cb0-8f03-09fd16222e89')\"\n",
              "              title=\"Convert this dataframe to an interactive table.\"\n",
              "              style=\"display:none;\">\n",
              "        \n",
              "  <svg xmlns=\"http://www.w3.org/2000/svg\" height=\"24px\"viewBox=\"0 0 24 24\"\n",
              "       width=\"24px\">\n",
              "    <path d=\"M0 0h24v24H0V0z\" fill=\"none\"/>\n",
              "    <path d=\"M18.56 5.44l.94 2.06.94-2.06 2.06-.94-2.06-.94-.94-2.06-.94 2.06-2.06.94zm-11 1L8.5 8.5l.94-2.06 2.06-.94-2.06-.94L8.5 2.5l-.94 2.06-2.06.94zm10 10l.94 2.06.94-2.06 2.06-.94-2.06-.94-.94-2.06-.94 2.06-2.06.94z\"/><path d=\"M17.41 7.96l-1.37-1.37c-.4-.4-.92-.59-1.43-.59-.52 0-1.04.2-1.43.59L10.3 9.45l-7.72 7.72c-.78.78-.78 2.05 0 2.83L4 21.41c.39.39.9.59 1.41.59.51 0 1.02-.2 1.41-.59l7.78-7.78 2.81-2.81c.8-.78.8-2.07 0-2.86zM5.41 20L4 18.59l7.72-7.72 1.47 1.35L5.41 20z\"/>\n",
              "  </svg>\n",
              "      </button>\n",
              "      \n",
              "  <style>\n",
              "    .colab-df-container {\n",
              "      display:flex;\n",
              "      flex-wrap:wrap;\n",
              "      gap: 12px;\n",
              "    }\n",
              "\n",
              "    .colab-df-convert {\n",
              "      background-color: #E8F0FE;\n",
              "      border: none;\n",
              "      border-radius: 50%;\n",
              "      cursor: pointer;\n",
              "      display: none;\n",
              "      fill: #1967D2;\n",
              "      height: 32px;\n",
              "      padding: 0 0 0 0;\n",
              "      width: 32px;\n",
              "    }\n",
              "\n",
              "    .colab-df-convert:hover {\n",
              "      background-color: #E2EBFA;\n",
              "      box-shadow: 0px 1px 2px rgba(60, 64, 67, 0.3), 0px 1px 3px 1px rgba(60, 64, 67, 0.15);\n",
              "      fill: #174EA6;\n",
              "    }\n",
              "\n",
              "    [theme=dark] .colab-df-convert {\n",
              "      background-color: #3B4455;\n",
              "      fill: #D2E3FC;\n",
              "    }\n",
              "\n",
              "    [theme=dark] .colab-df-convert:hover {\n",
              "      background-color: #434B5C;\n",
              "      box-shadow: 0px 1px 3px 1px rgba(0, 0, 0, 0.15);\n",
              "      filter: drop-shadow(0px 1px 2px rgba(0, 0, 0, 0.3));\n",
              "      fill: #FFFFFF;\n",
              "    }\n",
              "  </style>\n",
              "\n",
              "      <script>\n",
              "        const buttonEl =\n",
              "          document.querySelector('#df-1ede59dc-7c21-4cb0-8f03-09fd16222e89 button.colab-df-convert');\n",
              "        buttonEl.style.display =\n",
              "          google.colab.kernel.accessAllowed ? 'block' : 'none';\n",
              "\n",
              "        async function convertToInteractive(key) {\n",
              "          const element = document.querySelector('#df-1ede59dc-7c21-4cb0-8f03-09fd16222e89');\n",
              "          const dataTable =\n",
              "            await google.colab.kernel.invokeFunction('convertToInteractive',\n",
              "                                                     [key], {});\n",
              "          if (!dataTable) return;\n",
              "\n",
              "          const docLinkHtml = 'Like what you see? Visit the ' +\n",
              "            '<a target=\"_blank\" href=https://colab.research.google.com/notebooks/data_table.ipynb>data table notebook</a>'\n",
              "            + ' to learn more about interactive tables.';\n",
              "          element.innerHTML = '';\n",
              "          dataTable['output_type'] = 'display_data';\n",
              "          await google.colab.output.renderOutput(dataTable, element);\n",
              "          const docLink = document.createElement('div');\n",
              "          docLink.innerHTML = docLinkHtml;\n",
              "          element.appendChild(docLink);\n",
              "        }\n",
              "      </script>\n",
              "    </div>\n",
              "  </div>\n",
              "  "
            ]
          },
          "metadata": {},
          "execution_count": 16
        }
      ]
    },
    {
      "cell_type": "code",
      "source": [
        "stckwh = pd.read_csv(\"/content/drive/MyDrive/Colab Notebooks/cleaned.csv\", header= None, engine='python')\n",
        "stckwh = stckwh.iloc[1: , :]\n",
        "s_headers = ['Label', 'Date', 'Symbol', 'Adj_Close', 'Close', 'High', 'Low', 'Open',\n",
        "       'Volume']\n",
        "stckwh.columns = s_headers"
      ],
      "metadata": {
        "id": "BWagtR1OeXRj"
      },
      "id": "BWagtR1OeXRj",
      "execution_count": null,
      "outputs": []
    },
    {
      "cell_type": "markdown",
      "source": [
        "Need to delete Label column "
      ],
      "metadata": {
        "id": "2Xuk6RAxfYgY"
      },
      "id": "2Xuk6RAxfYgY"
    },
    {
      "cell_type": "code",
      "execution_count": null,
      "id": "d41e5683",
      "metadata": {
        "colab": {
          "base_uri": "https://localhost:8080/"
        },
        "id": "d41e5683",
        "outputId": "62b7c72f-c2fc-414d-8f7a-947ba198cfa4"
      },
      "outputs": [
        {
          "output_type": "stream",
          "name": "stdout",
          "text": [
            "       Exchange Symbol           Shortname         Longname      Sector  \\\n",
            "count       502    502                 502              502         501   \n",
            "unique        4    502                 498              497          11   \n",
            "top         NYQ   AAPL  Under Armour, Inc.  Discovery, Inc.  Technology   \n",
            "freq        352      1                   2                2          73   \n",
            "\n",
            "                            Industry  \n",
            "count                            501  \n",
            "unique                           114  \n",
            "top     Utilities—Regulated Electric  \n",
            "freq                              20  \n"
          ]
        }
      ],
      "source": [
        "print(compwh.describe(include=\"all\"))"
      ]
    },
    {
      "cell_type": "code",
      "execution_count": null,
      "id": "3a2c9155",
      "metadata": {
        "colab": {
          "base_uri": "https://localhost:8080/",
          "height": 353
        },
        "id": "3a2c9155",
        "outputId": "a16e4a2a-b3e0-4f8d-9604-c6c416d50269"
      },
      "outputs": [
        {
          "output_type": "execute_result",
          "data": {
            "text/plain": [
              "    Label        Date Symbol           Adj_Close               Close  \\\n",
              "0  2060.0  2018-03-01    MMM   204.9241943359375  231.33999633789062   \n",
              "1  2061.0  2018-03-02    MMM  204.06497192382812   230.3699951171875   \n",
              "2  2062.0  2018-03-05    MMM  206.22637939453125  232.80999755859375   \n",
              "3  2063.0  2018-03-06    MMM   206.9793243408203  233.66000366210938   \n",
              "4  2064.0  2018-03-07    MMM   208.6712188720703  235.57000732421875   \n",
              "\n",
              "                 High                 Low                Open     Volume  \\\n",
              "0   236.8300018310547  229.52999877929688  236.14999389648438  3487100.0   \n",
              "1  231.27000427246094   226.3300018310547              229.75  2912800.0   \n",
              "2   233.7100067138672  228.52999877929688               230.0  2235300.0   \n",
              "3   235.9199981689453   230.8000030517578   234.0500030517578  2091100.0   \n",
              "4  236.22000122070312  230.58999633789062  231.22000122070312  2213800.0   \n",
              "\n",
              "  Exchange   Shortname    Longname       Sector       Industry  \n",
              "0      NYQ  3M Company  3M Company  Industrials  Conglomerates  \n",
              "1      NYQ  3M Company  3M Company  Industrials  Conglomerates  \n",
              "2      NYQ  3M Company  3M Company  Industrials  Conglomerates  \n",
              "3      NYQ  3M Company  3M Company  Industrials  Conglomerates  \n",
              "4      NYQ  3M Company  3M Company  Industrials  Conglomerates  "
            ],
            "text/html": [
              "\n",
              "  <div id=\"df-5ed726a7-97b3-4071-84bb-5b9868e1b02f\">\n",
              "    <div class=\"colab-df-container\">\n",
              "      <div>\n",
              "<style scoped>\n",
              "    .dataframe tbody tr th:only-of-type {\n",
              "        vertical-align: middle;\n",
              "    }\n",
              "\n",
              "    .dataframe tbody tr th {\n",
              "        vertical-align: top;\n",
              "    }\n",
              "\n",
              "    .dataframe thead th {\n",
              "        text-align: right;\n",
              "    }\n",
              "</style>\n",
              "<table border=\"1\" class=\"dataframe\">\n",
              "  <thead>\n",
              "    <tr style=\"text-align: right;\">\n",
              "      <th></th>\n",
              "      <th>Label</th>\n",
              "      <th>Date</th>\n",
              "      <th>Symbol</th>\n",
              "      <th>Adj_Close</th>\n",
              "      <th>Close</th>\n",
              "      <th>High</th>\n",
              "      <th>Low</th>\n",
              "      <th>Open</th>\n",
              "      <th>Volume</th>\n",
              "      <th>Exchange</th>\n",
              "      <th>Shortname</th>\n",
              "      <th>Longname</th>\n",
              "      <th>Sector</th>\n",
              "      <th>Industry</th>\n",
              "    </tr>\n",
              "  </thead>\n",
              "  <tbody>\n",
              "    <tr>\n",
              "      <th>0</th>\n",
              "      <td>2060.0</td>\n",
              "      <td>2018-03-01</td>\n",
              "      <td>MMM</td>\n",
              "      <td>204.9241943359375</td>\n",
              "      <td>231.33999633789062</td>\n",
              "      <td>236.8300018310547</td>\n",
              "      <td>229.52999877929688</td>\n",
              "      <td>236.14999389648438</td>\n",
              "      <td>3487100.0</td>\n",
              "      <td>NYQ</td>\n",
              "      <td>3M Company</td>\n",
              "      <td>3M Company</td>\n",
              "      <td>Industrials</td>\n",
              "      <td>Conglomerates</td>\n",
              "    </tr>\n",
              "    <tr>\n",
              "      <th>1</th>\n",
              "      <td>2061.0</td>\n",
              "      <td>2018-03-02</td>\n",
              "      <td>MMM</td>\n",
              "      <td>204.06497192382812</td>\n",
              "      <td>230.3699951171875</td>\n",
              "      <td>231.27000427246094</td>\n",
              "      <td>226.3300018310547</td>\n",
              "      <td>229.75</td>\n",
              "      <td>2912800.0</td>\n",
              "      <td>NYQ</td>\n",
              "      <td>3M Company</td>\n",
              "      <td>3M Company</td>\n",
              "      <td>Industrials</td>\n",
              "      <td>Conglomerates</td>\n",
              "    </tr>\n",
              "    <tr>\n",
              "      <th>2</th>\n",
              "      <td>2062.0</td>\n",
              "      <td>2018-03-05</td>\n",
              "      <td>MMM</td>\n",
              "      <td>206.22637939453125</td>\n",
              "      <td>232.80999755859375</td>\n",
              "      <td>233.7100067138672</td>\n",
              "      <td>228.52999877929688</td>\n",
              "      <td>230.0</td>\n",
              "      <td>2235300.0</td>\n",
              "      <td>NYQ</td>\n",
              "      <td>3M Company</td>\n",
              "      <td>3M Company</td>\n",
              "      <td>Industrials</td>\n",
              "      <td>Conglomerates</td>\n",
              "    </tr>\n",
              "    <tr>\n",
              "      <th>3</th>\n",
              "      <td>2063.0</td>\n",
              "      <td>2018-03-06</td>\n",
              "      <td>MMM</td>\n",
              "      <td>206.9793243408203</td>\n",
              "      <td>233.66000366210938</td>\n",
              "      <td>235.9199981689453</td>\n",
              "      <td>230.8000030517578</td>\n",
              "      <td>234.0500030517578</td>\n",
              "      <td>2091100.0</td>\n",
              "      <td>NYQ</td>\n",
              "      <td>3M Company</td>\n",
              "      <td>3M Company</td>\n",
              "      <td>Industrials</td>\n",
              "      <td>Conglomerates</td>\n",
              "    </tr>\n",
              "    <tr>\n",
              "      <th>4</th>\n",
              "      <td>2064.0</td>\n",
              "      <td>2018-03-07</td>\n",
              "      <td>MMM</td>\n",
              "      <td>208.6712188720703</td>\n",
              "      <td>235.57000732421875</td>\n",
              "      <td>236.22000122070312</td>\n",
              "      <td>230.58999633789062</td>\n",
              "      <td>231.22000122070312</td>\n",
              "      <td>2213800.0</td>\n",
              "      <td>NYQ</td>\n",
              "      <td>3M Company</td>\n",
              "      <td>3M Company</td>\n",
              "      <td>Industrials</td>\n",
              "      <td>Conglomerates</td>\n",
              "    </tr>\n",
              "  </tbody>\n",
              "</table>\n",
              "</div>\n",
              "      <button class=\"colab-df-convert\" onclick=\"convertToInteractive('df-5ed726a7-97b3-4071-84bb-5b9868e1b02f')\"\n",
              "              title=\"Convert this dataframe to an interactive table.\"\n",
              "              style=\"display:none;\">\n",
              "        \n",
              "  <svg xmlns=\"http://www.w3.org/2000/svg\" height=\"24px\"viewBox=\"0 0 24 24\"\n",
              "       width=\"24px\">\n",
              "    <path d=\"M0 0h24v24H0V0z\" fill=\"none\"/>\n",
              "    <path d=\"M18.56 5.44l.94 2.06.94-2.06 2.06-.94-2.06-.94-.94-2.06-.94 2.06-2.06.94zm-11 1L8.5 8.5l.94-2.06 2.06-.94-2.06-.94L8.5 2.5l-.94 2.06-2.06.94zm10 10l.94 2.06.94-2.06 2.06-.94-2.06-.94-.94-2.06-.94 2.06-2.06.94z\"/><path d=\"M17.41 7.96l-1.37-1.37c-.4-.4-.92-.59-1.43-.59-.52 0-1.04.2-1.43.59L10.3 9.45l-7.72 7.72c-.78.78-.78 2.05 0 2.83L4 21.41c.39.39.9.59 1.41.59.51 0 1.02-.2 1.41-.59l7.78-7.78 2.81-2.81c.8-.78.8-2.07 0-2.86zM5.41 20L4 18.59l7.72-7.72 1.47 1.35L5.41 20z\"/>\n",
              "  </svg>\n",
              "      </button>\n",
              "      \n",
              "  <style>\n",
              "    .colab-df-container {\n",
              "      display:flex;\n",
              "      flex-wrap:wrap;\n",
              "      gap: 12px;\n",
              "    }\n",
              "\n",
              "    .colab-df-convert {\n",
              "      background-color: #E8F0FE;\n",
              "      border: none;\n",
              "      border-radius: 50%;\n",
              "      cursor: pointer;\n",
              "      display: none;\n",
              "      fill: #1967D2;\n",
              "      height: 32px;\n",
              "      padding: 0 0 0 0;\n",
              "      width: 32px;\n",
              "    }\n",
              "\n",
              "    .colab-df-convert:hover {\n",
              "      background-color: #E2EBFA;\n",
              "      box-shadow: 0px 1px 2px rgba(60, 64, 67, 0.3), 0px 1px 3px 1px rgba(60, 64, 67, 0.15);\n",
              "      fill: #174EA6;\n",
              "    }\n",
              "\n",
              "    [theme=dark] .colab-df-convert {\n",
              "      background-color: #3B4455;\n",
              "      fill: #D2E3FC;\n",
              "    }\n",
              "\n",
              "    [theme=dark] .colab-df-convert:hover {\n",
              "      background-color: #434B5C;\n",
              "      box-shadow: 0px 1px 3px 1px rgba(0, 0, 0, 0.15);\n",
              "      filter: drop-shadow(0px 1px 2px rgba(0, 0, 0, 0.3));\n",
              "      fill: #FFFFFF;\n",
              "    }\n",
              "  </style>\n",
              "\n",
              "      <script>\n",
              "        const buttonEl =\n",
              "          document.querySelector('#df-5ed726a7-97b3-4071-84bb-5b9868e1b02f button.colab-df-convert');\n",
              "        buttonEl.style.display =\n",
              "          google.colab.kernel.accessAllowed ? 'block' : 'none';\n",
              "\n",
              "        async function convertToInteractive(key) {\n",
              "          const element = document.querySelector('#df-5ed726a7-97b3-4071-84bb-5b9868e1b02f');\n",
              "          const dataTable =\n",
              "            await google.colab.kernel.invokeFunction('convertToInteractive',\n",
              "                                                     [key], {});\n",
              "          if (!dataTable) return;\n",
              "\n",
              "          const docLinkHtml = 'Like what you see? Visit the ' +\n",
              "            '<a target=\"_blank\" href=https://colab.research.google.com/notebooks/data_table.ipynb>data table notebook</a>'\n",
              "            + ' to learn more about interactive tables.';\n",
              "          element.innerHTML = '';\n",
              "          dataTable['output_type'] = 'display_data';\n",
              "          await google.colab.output.renderOutput(dataTable, element);\n",
              "          const docLink = document.createElement('div');\n",
              "          docLink.innerHTML = docLinkHtml;\n",
              "          element.appendChild(docLink);\n",
              "        }\n",
              "      </script>\n",
              "    </div>\n",
              "  </div>\n",
              "  "
            ]
          },
          "metadata": {},
          "execution_count": 19
        }
      ],
      "source": [
        "merged_data = stckwh.merge(compwh,on=[\"Symbol\"])\n",
        "merged_data.head()"
      ]
    },
    {
      "cell_type": "code",
      "execution_count": null,
      "id": "ab7e4167",
      "metadata": {
        "colab": {
          "base_uri": "https://localhost:8080/"
        },
        "id": "ab7e4167",
        "outputId": "04fd8c1e-80b3-4e58-8421-8adf6c656d93"
      },
      "outputs": [
        {
          "output_type": "stream",
          "name": "stdout",
          "text": [
            "Label        float64\n",
            "Date          object\n",
            "Symbol        object\n",
            "Adj_Close     object\n",
            "Close         object\n",
            "High          object\n",
            "Low           object\n",
            "Open          object\n",
            "Volume        object\n",
            "Exchange      object\n",
            "Shortname     object\n",
            "Longname      object\n",
            "Sector        object\n",
            "Industry      object\n",
            "dtype: object\n"
          ]
        }
      ],
      "source": [
        "print(merged_data.dtypes)"
      ]
    },
    {
      "cell_type": "code",
      "execution_count": null,
      "id": "48b20b77",
      "metadata": {
        "id": "48b20b77"
      },
      "outputs": [],
      "source": [
        "merged_data[\"Adj_Close\"] = merged_data[\"Adj_Close\"].astype(str).astype(float)\n",
        "merged_data[\"Volume\"] = merged_data[\"Volume\"].astype(str).astype(float)\n",
        "merged_data[\"Close\"] = merged_data[\"Close\"].astype(str).astype(float)\n",
        "merged_data[\"High\"] = merged_data[\"High\"].astype(str).astype(float)\n",
        "merged_data[\"Low\"] = merged_data[\"Low\"].astype(str).astype(float)\n",
        "merged_data[\"Open\"] = merged_data[\"Open\"].astype(str).astype(float)"
      ]
    },
    {
      "cell_type": "code",
      "execution_count": null,
      "id": "636465a0",
      "metadata": {
        "id": "636465a0"
      },
      "outputs": [],
      "source": [
        "#Changing NaN Values to O\n",
        "merged_data[\"Adj_Close\"]=merged_data[\"Adj_Close\"].fillna(0)\n",
        "#Removing NaN Values\n",
        "dropvalue=merged_data[merged_data[\"Adj_Close\"]== 0]\n",
        "merged_data.drop(dropvalue.index,axis=0,inplace=True)"
      ]
    },
    {
      "cell_type": "code",
      "execution_count": null,
      "id": "4640049c",
      "metadata": {
        "colab": {
          "base_uri": "https://localhost:8080/"
        },
        "id": "4640049c",
        "outputId": "36a50532-fc53-4852-c815-7be74d1572e0"
      },
      "outputs": [
        {
          "output_type": "execute_result",
          "data": {
            "text/plain": [
              "Label          0\n",
              "Date           0\n",
              "Symbol         0\n",
              "Adj_Close      0\n",
              "Close          0\n",
              "High           0\n",
              "Low            0\n",
              "Open           0\n",
              "Volume         0\n",
              "Exchange       0\n",
              "Shortname      0\n",
              "Longname       0\n",
              "Sector       983\n",
              "Industry     983\n",
              "dtype: int64"
            ]
          },
          "metadata": {},
          "execution_count": 23
        }
      ],
      "source": [
        "merged_data.isnull().sum()"
      ]
    },
    {
      "cell_type": "code",
      "execution_count": null,
      "id": "5766a2c7",
      "metadata": {
        "colab": {
          "base_uri": "https://localhost:8080/"
        },
        "id": "5766a2c7",
        "outputId": "a2b0e241-ac1c-46f3-8c16-224b41508e97"
      },
      "outputs": [
        {
          "output_type": "execute_result",
          "data": {
            "text/plain": [
              "490302"
            ]
          },
          "metadata": {},
          "execution_count": 24
        }
      ],
      "source": [
        "len(merged_data.index)"
      ]
    },
    {
      "cell_type": "code",
      "execution_count": null,
      "id": "23c9f49a",
      "metadata": {
        "id": "23c9f49a"
      },
      "outputs": [],
      "source": [
        "merged_data = merged_data.dropna()"
      ]
    },
    {
      "cell_type": "code",
      "execution_count": 52,
      "id": "760f5dfe",
      "metadata": {
        "colab": {
          "base_uri": "https://localhost:8080/",
          "height": 333
        },
        "id": "760f5dfe",
        "outputId": "5e9712b3-32fe-4afd-ccd4-d9c2becd2f31"
      },
      "outputs": [
        {
          "output_type": "execute_result",
          "data": {
            "text/plain": [
              "        Label       Date Symbol   Adj_Close       Close        High  \\\n",
              "4920  17275.0 2018-03-01    ACN  146.877289  156.149994  161.589996   \n",
              "4921  17276.0 2018-03-02    ACN  148.147125  157.500000  157.630005   \n",
              "4922  17277.0 2018-03-05    ACN  149.416992  158.850006  159.660004   \n",
              "4923  17278.0 2018-03-06    ACN  148.645676  158.029999  160.149994   \n",
              "4924  17279.0 2018-03-07    ACN  149.134766  158.550003  158.960007   \n",
              "\n",
              "             Low        Open     Volume Exchange      Shortname  \\\n",
              "4920  155.880005  161.279999  3005400.0      NYQ  Accenture plc   \n",
              "4921  154.690002  155.210007  2960100.0      NYQ  Accenture plc   \n",
              "4922  156.990005  157.169998  1936800.0      NYQ  Accenture plc   \n",
              "4923  156.979996  159.169998  2352500.0      NYQ  Accenture plc   \n",
              "4924  156.520004  156.979996  3176200.0      NYQ  Accenture plc   \n",
              "\n",
              "           Longname      Sector                         Industry  \n",
              "4920  Accenture plc  Technology  Information Technology Services  \n",
              "4921  Accenture plc  Technology  Information Technology Services  \n",
              "4922  Accenture plc  Technology  Information Technology Services  \n",
              "4923  Accenture plc  Technology  Information Technology Services  \n",
              "4924  Accenture plc  Technology  Information Technology Services  "
            ],
            "text/html": [
              "\n",
              "  <div id=\"df-e58e3197-534c-4c8e-943f-d73cc7b6c25d\">\n",
              "    <div class=\"colab-df-container\">\n",
              "      <div>\n",
              "<style scoped>\n",
              "    .dataframe tbody tr th:only-of-type {\n",
              "        vertical-align: middle;\n",
              "    }\n",
              "\n",
              "    .dataframe tbody tr th {\n",
              "        vertical-align: top;\n",
              "    }\n",
              "\n",
              "    .dataframe thead th {\n",
              "        text-align: right;\n",
              "    }\n",
              "</style>\n",
              "<table border=\"1\" class=\"dataframe\">\n",
              "  <thead>\n",
              "    <tr style=\"text-align: right;\">\n",
              "      <th></th>\n",
              "      <th>Label</th>\n",
              "      <th>Date</th>\n",
              "      <th>Symbol</th>\n",
              "      <th>Adj_Close</th>\n",
              "      <th>Close</th>\n",
              "      <th>High</th>\n",
              "      <th>Low</th>\n",
              "      <th>Open</th>\n",
              "      <th>Volume</th>\n",
              "      <th>Exchange</th>\n",
              "      <th>Shortname</th>\n",
              "      <th>Longname</th>\n",
              "      <th>Sector</th>\n",
              "      <th>Industry</th>\n",
              "    </tr>\n",
              "  </thead>\n",
              "  <tbody>\n",
              "    <tr>\n",
              "      <th>4920</th>\n",
              "      <td>17275.0</td>\n",
              "      <td>2018-03-01</td>\n",
              "      <td>ACN</td>\n",
              "      <td>146.877289</td>\n",
              "      <td>156.149994</td>\n",
              "      <td>161.589996</td>\n",
              "      <td>155.880005</td>\n",
              "      <td>161.279999</td>\n",
              "      <td>3005400.0</td>\n",
              "      <td>NYQ</td>\n",
              "      <td>Accenture plc</td>\n",
              "      <td>Accenture plc</td>\n",
              "      <td>Technology</td>\n",
              "      <td>Information Technology Services</td>\n",
              "    </tr>\n",
              "    <tr>\n",
              "      <th>4921</th>\n",
              "      <td>17276.0</td>\n",
              "      <td>2018-03-02</td>\n",
              "      <td>ACN</td>\n",
              "      <td>148.147125</td>\n",
              "      <td>157.500000</td>\n",
              "      <td>157.630005</td>\n",
              "      <td>154.690002</td>\n",
              "      <td>155.210007</td>\n",
              "      <td>2960100.0</td>\n",
              "      <td>NYQ</td>\n",
              "      <td>Accenture plc</td>\n",
              "      <td>Accenture plc</td>\n",
              "      <td>Technology</td>\n",
              "      <td>Information Technology Services</td>\n",
              "    </tr>\n",
              "    <tr>\n",
              "      <th>4922</th>\n",
              "      <td>17277.0</td>\n",
              "      <td>2018-03-05</td>\n",
              "      <td>ACN</td>\n",
              "      <td>149.416992</td>\n",
              "      <td>158.850006</td>\n",
              "      <td>159.660004</td>\n",
              "      <td>156.990005</td>\n",
              "      <td>157.169998</td>\n",
              "      <td>1936800.0</td>\n",
              "      <td>NYQ</td>\n",
              "      <td>Accenture plc</td>\n",
              "      <td>Accenture plc</td>\n",
              "      <td>Technology</td>\n",
              "      <td>Information Technology Services</td>\n",
              "    </tr>\n",
              "    <tr>\n",
              "      <th>4923</th>\n",
              "      <td>17278.0</td>\n",
              "      <td>2018-03-06</td>\n",
              "      <td>ACN</td>\n",
              "      <td>148.645676</td>\n",
              "      <td>158.029999</td>\n",
              "      <td>160.149994</td>\n",
              "      <td>156.979996</td>\n",
              "      <td>159.169998</td>\n",
              "      <td>2352500.0</td>\n",
              "      <td>NYQ</td>\n",
              "      <td>Accenture plc</td>\n",
              "      <td>Accenture plc</td>\n",
              "      <td>Technology</td>\n",
              "      <td>Information Technology Services</td>\n",
              "    </tr>\n",
              "    <tr>\n",
              "      <th>4924</th>\n",
              "      <td>17279.0</td>\n",
              "      <td>2018-03-07</td>\n",
              "      <td>ACN</td>\n",
              "      <td>149.134766</td>\n",
              "      <td>158.550003</td>\n",
              "      <td>158.960007</td>\n",
              "      <td>156.520004</td>\n",
              "      <td>156.979996</td>\n",
              "      <td>3176200.0</td>\n",
              "      <td>NYQ</td>\n",
              "      <td>Accenture plc</td>\n",
              "      <td>Accenture plc</td>\n",
              "      <td>Technology</td>\n",
              "      <td>Information Technology Services</td>\n",
              "    </tr>\n",
              "  </tbody>\n",
              "</table>\n",
              "</div>\n",
              "      <button class=\"colab-df-convert\" onclick=\"convertToInteractive('df-e58e3197-534c-4c8e-943f-d73cc7b6c25d')\"\n",
              "              title=\"Convert this dataframe to an interactive table.\"\n",
              "              style=\"display:none;\">\n",
              "        \n",
              "  <svg xmlns=\"http://www.w3.org/2000/svg\" height=\"24px\"viewBox=\"0 0 24 24\"\n",
              "       width=\"24px\">\n",
              "    <path d=\"M0 0h24v24H0V0z\" fill=\"none\"/>\n",
              "    <path d=\"M18.56 5.44l.94 2.06.94-2.06 2.06-.94-2.06-.94-.94-2.06-.94 2.06-2.06.94zm-11 1L8.5 8.5l.94-2.06 2.06-.94-2.06-.94L8.5 2.5l-.94 2.06-2.06.94zm10 10l.94 2.06.94-2.06 2.06-.94-2.06-.94-.94-2.06-.94 2.06-2.06.94z\"/><path d=\"M17.41 7.96l-1.37-1.37c-.4-.4-.92-.59-1.43-.59-.52 0-1.04.2-1.43.59L10.3 9.45l-7.72 7.72c-.78.78-.78 2.05 0 2.83L4 21.41c.39.39.9.59 1.41.59.51 0 1.02-.2 1.41-.59l7.78-7.78 2.81-2.81c.8-.78.8-2.07 0-2.86zM5.41 20L4 18.59l7.72-7.72 1.47 1.35L5.41 20z\"/>\n",
              "  </svg>\n",
              "      </button>\n",
              "      \n",
              "  <style>\n",
              "    .colab-df-container {\n",
              "      display:flex;\n",
              "      flex-wrap:wrap;\n",
              "      gap: 12px;\n",
              "    }\n",
              "\n",
              "    .colab-df-convert {\n",
              "      background-color: #E8F0FE;\n",
              "      border: none;\n",
              "      border-radius: 50%;\n",
              "      cursor: pointer;\n",
              "      display: none;\n",
              "      fill: #1967D2;\n",
              "      height: 32px;\n",
              "      padding: 0 0 0 0;\n",
              "      width: 32px;\n",
              "    }\n",
              "\n",
              "    .colab-df-convert:hover {\n",
              "      background-color: #E2EBFA;\n",
              "      box-shadow: 0px 1px 2px rgba(60, 64, 67, 0.3), 0px 1px 3px 1px rgba(60, 64, 67, 0.15);\n",
              "      fill: #174EA6;\n",
              "    }\n",
              "\n",
              "    [theme=dark] .colab-df-convert {\n",
              "      background-color: #3B4455;\n",
              "      fill: #D2E3FC;\n",
              "    }\n",
              "\n",
              "    [theme=dark] .colab-df-convert:hover {\n",
              "      background-color: #434B5C;\n",
              "      box-shadow: 0px 1px 3px 1px rgba(0, 0, 0, 0.15);\n",
              "      filter: drop-shadow(0px 1px 2px rgba(0, 0, 0, 0.3));\n",
              "      fill: #FFFFFF;\n",
              "    }\n",
              "  </style>\n",
              "\n",
              "      <script>\n",
              "        const buttonEl =\n",
              "          document.querySelector('#df-e58e3197-534c-4c8e-943f-d73cc7b6c25d button.colab-df-convert');\n",
              "        buttonEl.style.display =\n",
              "          google.colab.kernel.accessAllowed ? 'block' : 'none';\n",
              "\n",
              "        async function convertToInteractive(key) {\n",
              "          const element = document.querySelector('#df-e58e3197-534c-4c8e-943f-d73cc7b6c25d');\n",
              "          const dataTable =\n",
              "            await google.colab.kernel.invokeFunction('convertToInteractive',\n",
              "                                                     [key], {});\n",
              "          if (!dataTable) return;\n",
              "\n",
              "          const docLinkHtml = 'Like what you see? Visit the ' +\n",
              "            '<a target=\"_blank\" href=https://colab.research.google.com/notebooks/data_table.ipynb>data table notebook</a>'\n",
              "            + ' to learn more about interactive tables.';\n",
              "          element.innerHTML = '';\n",
              "          dataTable['output_type'] = 'display_data';\n",
              "          await google.colab.output.renderOutput(dataTable, element);\n",
              "          const docLink = document.createElement('div');\n",
              "          docLink.innerHTML = docLinkHtml;\n",
              "          element.appendChild(docLink);\n",
              "        }\n",
              "      </script>\n",
              "    </div>\n",
              "  </div>\n",
              "  "
            ]
          },
          "metadata": {},
          "execution_count": 52
        }
      ],
      "source": [
        "tech = merged_data[merged_data.Sector == 'Technology']\n",
        "\n",
        "tech.head()"
      ]
    },
    {
      "cell_type": "code",
      "execution_count": 53,
      "id": "7eb6e7aa",
      "metadata": {
        "colab": {
          "base_uri": "https://localhost:8080/",
          "height": 282
        },
        "id": "7eb6e7aa",
        "outputId": "8735559c-a36a-4c46-eb22-dd0cb9e13de2"
      },
      "outputs": [
        {
          "output_type": "execute_result",
          "data": {
            "text/plain": [
              "<matplotlib.axes._subplots.AxesSubplot at 0x7f2218bda150>"
            ]
          },
          "metadata": {},
          "execution_count": 53
        },
        {
          "output_type": "display_data",
          "data": {
            "text/plain": [
              "<Figure size 432x288 with 1 Axes>"
            ],
            "image/png": "[encoded data removed]"
          },
          "metadata": {
            "needs_background": "light"
          }
        }
      ],
      "source": [
        "#Plot the True Adj Close Value\n",
        "tech['Adj_Close'].plot()"
      ]
    },
    {
      "cell_type": "code",
      "execution_count": 42,
      "id": "0913142a",
      "metadata": {
        "id": "0913142a"
      },
      "outputs": [],
      "source": [
        "merged_data['Date'] = merged_data['Date'].astype('datetime64[ns]')"
      ]
    },
    {
      "cell_type": "code",
      "execution_count": 54,
      "id": "6a844a48",
      "metadata": {
        "id": "6a844a48"
      },
      "outputs": [],
      "source": [
        "#Set Target Variable\n",
        "output_var = pd.DataFrame(tech['Adj_Close'])\n",
        "#Selecting the Features\n",
        "features = ['Open', 'High', 'Low', 'Volume']"
      ]
    },
    {
      "cell_type": "code",
      "execution_count": 55,
      "id": "0f3748f5",
      "metadata": {
        "colab": {
          "base_uri": "https://localhost:8080/",
          "height": 204
        },
        "id": "0f3748f5",
        "outputId": "e7d66ad5-d402-46e6-cef5-024eb2de07a7"
      },
      "outputs": [
        {
          "output_type": "execute_result",
          "data": {
            "text/plain": [
              "          Open      High       Low    Volume\n",
              "4920  0.218026  0.217074  0.213895  0.007046\n",
              "4921  0.209650  0.211637  0.212228  0.006940\n",
              "4922  0.212355  0.214424  0.215449  0.004541\n",
              "4923  0.215115  0.215097  0.215435  0.005516\n",
              "4924  0.212093  0.213463  0.214791  0.007447"
            ],
            "text/html": [
              "\n",
              "  <div id=\"df-4fe28380-cbcd-4b51-a7f1-282b174d966c\">\n",
              "    <div class=\"colab-df-container\">\n",
              "      <div>\n",
              "<style scoped>\n",
              "    .dataframe tbody tr th:only-of-type {\n",
              "        vertical-align: middle;\n",
              "    }\n",
              "\n",
              "    .dataframe tbody tr th {\n",
              "        vertical-align: top;\n",
              "    }\n",
              "\n",
              "    .dataframe thead th {\n",
              "        text-align: right;\n",
              "    }\n",
              "</style>\n",
              "<table border=\"1\" class=\"dataframe\">\n",
              "  <thead>\n",
              "    <tr style=\"text-align: right;\">\n",
              "      <th></th>\n",
              "      <th>Open</th>\n",
              "      <th>High</th>\n",
              "      <th>Low</th>\n",
              "      <th>Volume</th>\n",
              "    </tr>\n",
              "  </thead>\n",
              "  <tbody>\n",
              "    <tr>\n",
              "      <th>4920</th>\n",
              "      <td>0.218026</td>\n",
              "      <td>0.217074</td>\n",
              "      <td>0.213895</td>\n",
              "      <td>0.007046</td>\n",
              "    </tr>\n",
              "    <tr>\n",
              "      <th>4921</th>\n",
              "      <td>0.209650</td>\n",
              "      <td>0.211637</td>\n",
              "      <td>0.212228</td>\n",
              "      <td>0.006940</td>\n",
              "    </tr>\n",
              "    <tr>\n",
              "      <th>4922</th>\n",
              "      <td>0.212355</td>\n",
              "      <td>0.214424</td>\n",
              "      <td>0.215449</td>\n",
              "      <td>0.004541</td>\n",
              "    </tr>\n",
              "    <tr>\n",
              "      <th>4923</th>\n",
              "      <td>0.215115</td>\n",
              "      <td>0.215097</td>\n",
              "      <td>0.215435</td>\n",
              "      <td>0.005516</td>\n",
              "    </tr>\n",
              "    <tr>\n",
              "      <th>4924</th>\n",
              "      <td>0.212093</td>\n",
              "      <td>0.213463</td>\n",
              "      <td>0.214791</td>\n",
              "      <td>0.007447</td>\n",
              "    </tr>\n",
              "  </tbody>\n",
              "</table>\n",
              "</div>\n",
              "      <button class=\"colab-df-convert\" onclick=\"convertToInteractive('df-4fe28380-cbcd-4b51-a7f1-282b174d966c')\"\n",
              "              title=\"Convert this dataframe to an interactive table.\"\n",
              "              style=\"display:none;\">\n",
              "        \n",
              "  <svg xmlns=\"http://www.w3.org/2000/svg\" height=\"24px\"viewBox=\"0 0 24 24\"\n",
              "       width=\"24px\">\n",
              "    <path d=\"M0 0h24v24H0V0z\" fill=\"none\"/>\n",
              "    <path d=\"M18.56 5.44l.94 2.06.94-2.06 2.06-.94-2.06-.94-.94-2.06-.94 2.06-2.06.94zm-11 1L8.5 8.5l.94-2.06 2.06-.94-2.06-.94L8.5 2.5l-.94 2.06-2.06.94zm10 10l.94 2.06.94-2.06 2.06-.94-2.06-.94-.94-2.06-.94 2.06-2.06.94z\"/><path d=\"M17.41 7.96l-1.37-1.37c-.4-.4-.92-.59-1.43-.59-.52 0-1.04.2-1.43.59L10.3 9.45l-7.72 7.72c-.78.78-.78 2.05 0 2.83L4 21.41c.39.39.9.59 1.41.59.51 0 1.02-.2 1.41-.59l7.78-7.78 2.81-2.81c.8-.78.8-2.07 0-2.86zM5.41 20L4 18.59l7.72-7.72 1.47 1.35L5.41 20z\"/>\n",
              "  </svg>\n",
              "      </button>\n",
              "      \n",
              "  <style>\n",
              "    .colab-df-container {\n",
              "      display:flex;\n",
              "      flex-wrap:wrap;\n",
              "      gap: 12px;\n",
              "    }\n",
              "\n",
              "    .colab-df-convert {\n",
              "      background-color: #E8F0FE;\n",
              "      border: none;\n",
              "      border-radius: 50%;\n",
              "      cursor: pointer;\n",
              "      display: none;\n",
              "      fill: #1967D2;\n",
              "      height: 32px;\n",
              "      padding: 0 0 0 0;\n",
              "      width: 32px;\n",
              "    }\n",
              "\n",
              "    .colab-df-convert:hover {\n",
              "      background-color: #E2EBFA;\n",
              "      box-shadow: 0px 1px 2px rgba(60, 64, 67, 0.3), 0px 1px 3px 1px rgba(60, 64, 67, 0.15);\n",
              "      fill: #174EA6;\n",
              "    }\n",
              "\n",
              "    [theme=dark] .colab-df-convert {\n",
              "      background-color: #3B4455;\n",
              "      fill: #D2E3FC;\n",
              "    }\n",
              "\n",
              "    [theme=dark] .colab-df-convert:hover {\n",
              "      background-color: #434B5C;\n",
              "      box-shadow: 0px 1px 3px 1px rgba(0, 0, 0, 0.15);\n",
              "      filter: drop-shadow(0px 1px 2px rgba(0, 0, 0, 0.3));\n",
              "      fill: #FFFFFF;\n",
              "    }\n",
              "  </style>\n",
              "\n",
              "      <script>\n",
              "        const buttonEl =\n",
              "          document.querySelector('#df-4fe28380-cbcd-4b51-a7f1-282b174d966c button.colab-df-convert');\n",
              "        buttonEl.style.display =\n",
              "          google.colab.kernel.accessAllowed ? 'block' : 'none';\n",
              "\n",
              "        async function convertToInteractive(key) {\n",
              "          const element = document.querySelector('#df-4fe28380-cbcd-4b51-a7f1-282b174d966c');\n",
              "          const dataTable =\n",
              "            await google.colab.kernel.invokeFunction('convertToInteractive',\n",
              "                                                     [key], {});\n",
              "          if (!dataTable) return;\n",
              "\n",
              "          const docLinkHtml = 'Like what you see? Visit the ' +\n",
              "            '<a target=\"_blank\" href=https://colab.research.google.com/notebooks/data_table.ipynb>data table notebook</a>'\n",
              "            + ' to learn more about interactive tables.';\n",
              "          element.innerHTML = '';\n",
              "          dataTable['output_type'] = 'display_data';\n",
              "          await google.colab.output.renderOutput(dataTable, element);\n",
              "          const docLink = document.createElement('div');\n",
              "          docLink.innerHTML = docLinkHtml;\n",
              "          element.appendChild(docLink);\n",
              "        }\n",
              "      </script>\n",
              "    </div>\n",
              "  </div>\n",
              "  "
            ]
          },
          "metadata": {},
          "execution_count": 55
        }
      ],
      "source": [
        "#Scaling\n",
        "scaler = MinMaxScaler()\n",
        "feature_transform = scaler.fit_transform(tech[features])\n",
        "feature_transform= pd.DataFrame(columns=features, data=feature_transform, index=tech.index)\n",
        "feature_transform.head()"
      ]
    },
    {
      "cell_type": "code",
      "execution_count": 56,
      "id": "8a461e7b",
      "metadata": {
        "id": "8a461e7b"
      },
      "outputs": [],
      "source": [
        "#Splitting to Training set and Test set\n",
        "timesplit= TimeSeriesSplit(n_splits=10)\n",
        "for train_index, test_index in timesplit.split(feature_transform):\n",
        "        X_train, X_test = feature_transform[:len(train_index)], feature_transform[len(train_index): (len(train_index)+len(test_index))]\n",
        "        y_train, y_test = output_var[:len(train_index)].values.ravel(), output_var[len(train_index): (len(train_index)+len(test_index))].values.ravel()"
      ]
    },
    {
      "cell_type": "code",
      "execution_count": 57,
      "id": "4b7919c3",
      "metadata": {
        "id": "4b7919c3"
      },
      "outputs": [],
      "source": [
        "#Process the data for LSTM\n",
        "trainX =np.array(X_train)\n",
        "testX =np.array(X_test)\n",
        "X_train = trainX.reshape(X_train.shape[0], 1, X_train.shape[1])\n",
        "X_test = testX.reshape(X_test.shape[0], 1, X_test.shape[1])"
      ]
    },
    {
      "cell_type": "code",
      "source": [
        "from keras.utils.vis_utils import plot_model"
      ],
      "metadata": {
        "id": "mEoBz2ymo2L5"
      },
      "id": "mEoBz2ymo2L5",
      "execution_count": 47,
      "outputs": []
    },
    {
      "cell_type": "code",
      "execution_count": 58,
      "id": "1fc74609",
      "metadata": {
        "colab": {
          "base_uri": "https://localhost:8080/",
          "height": 312
        },
        "id": "1fc74609",
        "outputId": "d7e610a1-d787-4ba7-ab90-40799e96e1d8"
      },
      "outputs": [
        {
          "output_type": "execute_result",
          "data": {
            "text/plain": [
              "<IPython.core.display.Image object>"
            ],
            "image/png": "[encoded data removed]"
          },
          "metadata": {},
          "execution_count": 58
        }
      ],
      "source": [
        "#Building the LSTM Model\n",
        "lstm = Sequential()\n",
        "lstm.add(LSTM(32, input_shape=(1, trainX.shape[1]), activation='relu', return_sequences=False))\n",
        "lstm.add(Dense(1))\n",
        "lstm.compile(loss='mean_squared_error', optimizer='adam')\n",
        "plot_model(lstm, show_shapes=True, show_layer_names=True)"
      ]
    },
    {
      "cell_type": "code",
      "execution_count": 60,
      "id": "d420cf02",
      "metadata": {
        "colab": {
          "base_uri": "https://localhost:8080/"
        },
        "id": "d420cf02",
        "outputId": "ddf3aa27-57cb-4c23-94e9-49562c9b3e72"
      },
      "outputs": [
        {
          "output_type": "stream",
          "name": "stdout",
          "text": [
            "Epoch 1/50\n",
            "8150/8150 [==============================] - 38s 5ms/step - loss: 9.3944\n",
            "Epoch 2/50\n",
            "8150/8150 [==============================] - 28s 3ms/step - loss: 9.1926\n",
            "Epoch 3/50\n",
            "8150/8150 [==============================] - 28s 3ms/step - loss: 9.1718\n",
            "Epoch 4/50\n",
            "8150/8150 [==============================] - 27s 3ms/step - loss: 9.1469\n",
            "Epoch 5/50\n",
            "8150/8150 [==============================] - 27s 3ms/step - loss: 9.1231\n",
            "Epoch 6/50\n",
            "8150/8150 [==============================] - 24s 3ms/step - loss: 9.1003\n",
            "Epoch 7/50\n",
            "8150/8150 [==============================] - 28s 3ms/step - loss: 9.0786\n",
            "Epoch 8/50\n",
            "8150/8150 [==============================] - 29s 4ms/step - loss: 9.0574\n",
            "Epoch 9/50\n",
            "8150/8150 [==============================] - 29s 4ms/step - loss: 9.0369\n",
            "Epoch 10/50\n",
            "8150/8150 [==============================] - 30s 4ms/step - loss: 9.0168\n",
            "Epoch 11/50\n",
            "8150/8150 [==============================] - 29s 4ms/step - loss: 8.9971\n",
            "Epoch 12/50\n",
            "8150/8150 [==============================] - 29s 4ms/step - loss: 8.9778\n",
            "Epoch 13/50\n",
            "8150/8150 [==============================] - 28s 3ms/step - loss: 8.9588\n",
            "Epoch 14/50\n",
            "8150/8150 [==============================] - 28s 3ms/step - loss: 8.9401\n",
            "Epoch 15/50\n",
            "8150/8150 [==============================] - 28s 3ms/step - loss: 8.9216\n",
            "Epoch 16/50\n",
            "8150/8150 [==============================] - 26s 3ms/step - loss: 8.9034\n",
            "Epoch 17/50\n",
            "8150/8150 [==============================] - 27s 3ms/step - loss: 8.8854\n",
            "Epoch 18/50\n",
            "8150/8150 [==============================] - 27s 3ms/step - loss: 8.8676\n",
            "Epoch 19/50\n",
            "8150/8150 [==============================] - 28s 3ms/step - loss: 8.8499\n",
            "Epoch 20/50\n",
            "8150/8150 [==============================] - 30s 4ms/step - loss: 8.8324\n",
            "Epoch 21/50\n",
            "8150/8150 [==============================] - 29s 4ms/step - loss: 8.8151\n",
            "Epoch 22/50\n",
            "8150/8150 [==============================] - 31s 4ms/step - loss: 8.7979\n",
            "Epoch 23/50\n",
            "8150/8150 [==============================] - 30s 4ms/step - loss: 8.7809\n",
            "Epoch 24/50\n",
            "8150/8150 [==============================] - 30s 4ms/step - loss: 8.7639\n",
            "Epoch 25/50\n",
            "8150/8150 [==============================] - 24s 3ms/step - loss: 8.7470\n",
            "Epoch 26/50\n",
            "8150/8150 [==============================] - 22s 3ms/step - loss: 8.7303\n",
            "Epoch 27/50\n",
            "8150/8150 [==============================] - 21s 3ms/step - loss: 8.7136\n",
            "Epoch 28/50\n",
            "8150/8150 [==============================] - 21s 3ms/step - loss: 8.6970\n",
            "Epoch 29/50\n",
            "8150/8150 [==============================] - 22s 3ms/step - loss: 8.6805\n",
            "Epoch 30/50\n",
            "8150/8150 [==============================] - 21s 3ms/step - loss: 8.6640\n",
            "Epoch 31/50\n",
            "8150/8150 [==============================] - 21s 3ms/step - loss: 8.6475\n",
            "Epoch 32/50\n",
            "8150/8150 [==============================] - 23s 3ms/step - loss: 8.6311\n",
            "Epoch 33/50\n",
            "8150/8150 [==============================] - 22s 3ms/step - loss: 8.6147\n",
            "Epoch 34/50\n",
            "8150/8150 [==============================] - 21s 3ms/step - loss: 8.5984\n",
            "Epoch 35/50\n",
            "8150/8150 [==============================] - 21s 3ms/step - loss: 8.5821\n",
            "Epoch 36/50\n",
            "8150/8150 [==============================] - 21s 3ms/step - loss: 8.5658\n",
            "Epoch 37/50\n",
            "8150/8150 [==============================] - 22s 3ms/step - loss: 8.5495\n",
            "Epoch 38/50\n",
            "8150/8150 [==============================] - 23s 3ms/step - loss: 8.5333\n",
            "Epoch 39/50\n",
            "8150/8150 [==============================] - 22s 3ms/step - loss: 8.5171\n",
            "Epoch 40/50\n",
            "8150/8150 [==============================] - 21s 3ms/step - loss: 8.5009\n",
            "Epoch 41/50\n",
            "8150/8150 [==============================] - 22s 3ms/step - loss: 8.4847\n",
            "Epoch 42/50\n",
            "8150/8150 [==============================] - 21s 3ms/step - loss: 8.4686\n",
            "Epoch 43/50\n",
            "8150/8150 [==============================] - 22s 3ms/step - loss: 8.4525\n",
            "Epoch 44/50\n",
            "8150/8150 [==============================] - 21s 3ms/step - loss: 8.4364\n",
            "Epoch 45/50\n",
            "8150/8150 [==============================] - 21s 3ms/step - loss: 8.4203\n",
            "Epoch 46/50\n",
            "8150/8150 [==============================] - 21s 3ms/step - loss: 8.4043\n",
            "Epoch 47/50\n",
            "8150/8150 [==============================] - 23s 3ms/step - loss: 8.3883\n",
            "Epoch 48/50\n",
            "8150/8150 [==============================] - 21s 3ms/step - loss: 8.3724\n",
            "Epoch 49/50\n",
            "8150/8150 [==============================] - 22s 3ms/step - loss: 8.3565\n",
            "Epoch 50/50\n",
            "8150/8150 [==============================] - 22s 3ms/step - loss: 8.3407\n"
          ]
        }
      ],
      "source": [
        "#Model Training\n",
        "history = lstm.fit(X_train, y_train, epochs=50, batch_size=8, \n",
        "                   verbose=1, shuffle=False)"
      ]
    },
    {
      "cell_type": "code",
      "source": [
        "#LSTM Prediction\n",
        "y_pred = lstm.predict(X_test)"
      ],
      "metadata": {
        "id": "ieLxiDk-rBq7"
      },
      "id": "ieLxiDk-rBq7",
      "execution_count": 61,
      "outputs": []
    },
    {
      "cell_type": "code",
      "source": [
        "#Predicted vs True Adj Close Value - LSTM\n",
        "plt.plot(y_test, label='True Value')\n",
        "plt.plot(y_pred, label='LSTM Value')\n",
        "plt.title(\"Prediction by LSTM\")\n",
        "plt.xlabel('Time Scale')\n",
        "plt.ylabel('Scaled USD')\n",
        "plt.legend()\n",
        "plt.show()"
      ],
      "metadata": {
        "colab": {
          "base_uri": "https://localhost:8080/",
          "height": 295
        },
        "id": "rZ4MjUvwrKva",
        "outputId": "5769e0f9-2b4c-4a35-96a7-4ce1f1216555"
      },
      "id": "rZ4MjUvwrKva",
      "execution_count": 62,
      "outputs": [
        {
          "output_type": "display_data",
          "data": {
            "text/plain": [
              "<Figure size 432x288 with 1 Axes>"
            ],
            "image/png": "[encoded data removed]"
          },
          "metadata": {
            "needs_background": "light"
          }
        }
      ]
    }
  ],
  "metadata": {
    "kernelspec": {
      "display_name": "Python 3 (ipykernel)",
      "language": "python",
      "name": "python3"
    },
    "language_info": {
      "codemirror_mode": {
        "name": "ipython",
        "version": 3
      },
      "file_extension": ".py",
      "mimetype": "text/x-python",
      "name": "python",
      "nbconvert_exporter": "python",
      "pygments_lexer": "ipython3",
      "version": "3.9.7"
    },
    "colab": {
      "name": "Tech_Pred.ipynb",
      "provenance": [],
      "include_colab_link": true
    }
  },
  "nbformat": 4,
  "nbformat_minor": 5
}